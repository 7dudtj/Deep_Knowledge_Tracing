{
 "cells": [
  {
   "cell_type": "markdown",
   "metadata": {
    "id": "yt7sDAqHhfQp"
   },
   "source": [
    "# LGBM을 활용한 베이스라인"
   ]
  },
  {
   "cell_type": "code",
   "execution_count": 1,
   "metadata": {
    "ExecuteTime": {
     "end_time": "2021-05-24T09:49:29.375544Z",
     "start_time": "2021-05-24T09:49:28.999092Z"
    },
    "id": "Uq_TJqbdhfQu"
   },
   "outputs": [],
   "source": [
    "import pandas as pd\n",
    "import os\n",
    "import random"
   ]
  },
  {
   "cell_type": "code",
   "execution_count": 2,
   "metadata": {},
   "outputs": [],
   "source": [
    "import warnings\n",
    "\n",
    "warnings.filterwarnings(\"ignore\")"
   ]
  },
  {
   "cell_type": "markdown",
   "metadata": {
    "id": "QZlm5HSmhfQv"
   },
   "source": [
    "## 1. 데이터 로딩"
   ]
  },
  {
   "cell_type": "code",
   "execution_count": 3,
   "metadata": {
    "ExecuteTime": {
     "end_time": "2021-05-24T09:49:29.678737Z",
     "start_time": "2021-05-24T09:49:29.376581Z"
    },
    "colab": {
     "base_uri": "https://localhost:8080/",
     "height": 387
    },
    "id": "s6qgJ8MLhfQw",
    "outputId": "75ca07b2-1b41-4913-e62f-6a8f857d7750"
   },
   "outputs": [],
   "source": [
    "data_dir = \"/opt/ml/input/data/\"\n",
    "csv_file_path = os.path.join(data_dir, \"train_data.csv\")\n",
    "df = pd.read_csv(csv_file_path)"
   ]
  },
  {
   "cell_type": "markdown",
   "metadata": {
    "id": "p_oCGAgEhfQw"
   },
   "source": [
    "## 2. Feature Engineering"
   ]
  },
  {
   "cell_type": "code",
   "execution_count": 4,
   "metadata": {
    "ExecuteTime": {
     "end_time": "2021-05-24T09:49:29.682739Z",
     "start_time": "2021-05-24T09:49:28.979Z"
    },
    "id": "URNLoukChfQx"
   },
   "outputs": [],
   "source": [
    "def feature_engineering(df):\n",
    "\n",
    "    # 유저별 시퀀스를 고려하기 위해 아래와 같이 정렬\n",
    "    df.sort_values(by=[\"userID\", \"Timestamp\"], inplace=True)\n",
    "\n",
    "    # 유저들의 문제 풀이수, 정답 수, 정답률을 시간순으로 누적해서 계산\n",
    "    df[\"user_correct_answer\"] = df.groupby(\"userID\")[\"answerCode\"].transform(\n",
    "        lambda x: x.cumsum().shift(1)\n",
    "    )\n",
    "    df[\"user_total_answer\"] = df.groupby(\"userID\")[\"answerCode\"].cumcount()\n",
    "    df[\"user_acc\"] = df[\"user_correct_answer\"] / df[\"user_total_answer\"]\n",
    "\n",
    "    # testId와 KnowledgeTag의 전체 정답률은 한번에 계산\n",
    "    # 아래 데이터는 제출용 데이터셋에 대해서도 재사용\n",
    "    correct_t = df.groupby([\"testId\"])[\"answerCode\"].agg([\"mean\", \"sum\"])\n",
    "    correct_t.columns = [\"test_mean\", \"test_sum\"]\n",
    "    correct_k = df.groupby([\"KnowledgeTag\"])[\"answerCode\"].agg([\"mean\", \"sum\"])\n",
    "    correct_k.columns = [\"tag_mean\", \"tag_sum\"]\n",
    "\n",
    "    df = pd.merge(df, correct_t, on=[\"testId\"], how=\"left\")\n",
    "    df = pd.merge(df, correct_k, on=[\"KnowledgeTag\"], how=\"left\")\n",
    "\n",
    "    return df"
   ]
  },
  {
   "cell_type": "code",
   "execution_count": 5,
   "metadata": {
    "ExecuteTime": {
     "end_time": "2021-05-24T09:49:29.683739Z",
     "start_time": "2021-05-24T09:49:28.981Z"
    },
    "id": "2vsUwksMhfQy",
    "scrolled": false
   },
   "outputs": [],
   "source": [
    "df = feature_engineering(df)"
   ]
  },
  {
   "cell_type": "markdown",
   "metadata": {
    "id": "5VZzei3DhfQy"
   },
   "source": [
    "## 3. Train/Test 데이터 셋 분리"
   ]
  },
  {
   "cell_type": "code",
   "execution_count": 6,
   "metadata": {
    "ExecuteTime": {
     "end_time": "2021-05-24T09:49:29.684739Z",
     "start_time": "2021-05-24T09:49:28.982Z"
    },
    "id": "YOPWK7ckhfQz"
   },
   "outputs": [],
   "source": [
    "# train과 test 데이터셋은 사용자 별로 묶어서 분리를 해주어야함\n",
    "random.seed(42)\n",
    "\n",
    "\n",
    "def custom_train_test_split(df, ratio=0.7, split=True):\n",
    "\n",
    "    users = list(zip(df[\"userID\"].value_counts().index, df[\"userID\"].value_counts()))\n",
    "    random.shuffle(users)\n",
    "\n",
    "    max_train_data_len = ratio * len(df)\n",
    "    sum_of_train_data = 0\n",
    "    user_ids = []\n",
    "\n",
    "    for user_id, count in users:\n",
    "        sum_of_train_data += count\n",
    "        if max_train_data_len < sum_of_train_data:\n",
    "            break\n",
    "        user_ids.append(user_id)\n",
    "\n",
    "    train = df[df[\"userID\"].isin(user_ids)]\n",
    "    test = df[df[\"userID\"].isin(user_ids) == False]\n",
    "\n",
    "    # test데이터셋은 각 유저의 마지막 interaction만 추출\n",
    "    test = test[test[\"userID\"] != test[\"userID\"].shift(-1)]\n",
    "    return train, test"
   ]
  },
  {
   "cell_type": "code",
   "execution_count": 7,
   "metadata": {
    "ExecuteTime": {
     "end_time": "2021-05-24T09:49:29.686739Z",
     "start_time": "2021-05-24T09:49:28.984Z"
    },
    "id": "i3HzdoybhfQ0"
   },
   "outputs": [],
   "source": [
    "# 유저별 분리\n",
    "train, test = custom_train_test_split(df)\n",
    "\n",
    "# 사용할 Feature 설정\n",
    "FEATS = [\n",
    "    \"KnowledgeTag\",\n",
    "    \"user_correct_answer\",\n",
    "    \"user_total_answer\",\n",
    "    \"user_acc\",\n",
    "    \"test_mean\",\n",
    "    \"test_sum\",\n",
    "    \"tag_mean\",\n",
    "    \"tag_sum\",\n",
    "]\n",
    "\n",
    "# X, y 값 분리\n",
    "y_train = train[\"answerCode\"]\n",
    "train = train.drop([\"answerCode\"], axis=1)\n",
    "\n",
    "y_test = test[\"answerCode\"]\n",
    "test = test.drop([\"answerCode\"], axis=1)"
   ]
  },
  {
   "cell_type": "code",
   "execution_count": 8,
   "metadata": {
    "ExecuteTime": {
     "end_time": "2021-05-24T09:49:29.687739Z",
     "start_time": "2021-05-24T09:49:28.985Z"
    },
    "id": "mwAF79FbhfQ1"
   },
   "outputs": [],
   "source": [
    "import lightgbm as lgb\n",
    "from sklearn.metrics import roc_auc_score\n",
    "from sklearn.metrics import accuracy_score\n",
    "import numpy as np"
   ]
  },
  {
   "cell_type": "code",
   "execution_count": 9,
   "metadata": {
    "ExecuteTime": {
     "end_time": "2021-05-24T09:49:29.688736Z",
     "start_time": "2021-05-24T09:49:28.986Z"
    },
    "id": "o59GhDdVhfQ1"
   },
   "outputs": [],
   "source": [
    "lgb_train = lgb.Dataset(train[FEATS], y_train)\n",
    "lgb_test = lgb.Dataset(test[FEATS], y_test)"
   ]
  },
  {
   "cell_type": "markdown",
   "metadata": {
    "id": "KiHss_BBhfQ2"
   },
   "source": [
    "## 4. 훈련 및 검증"
   ]
  },
  {
   "cell_type": "code",
   "execution_count": 25,
   "metadata": {},
   "outputs": [
    {
     "name": "stdout",
     "output_type": "stream",
     "text": [
      "Training until validation scores don't improve for 35 rounds\n",
      "[100]\ttraining's auc: 0.742324\tvalid_1's auc: 0.687548\n",
      "[200]\ttraining's auc: 0.749115\tvalid_1's auc: 0.688454\n",
      "Early stopping, best iteration is:\n",
      "[213]\ttraining's auc: 0.749605\tvalid_1's auc: 0.688694\n"
     ]
    }
   ],
   "source": [
    "params = {\n",
    "    \"objective\": \"binary\",\n",
    "    \"bagging_fraction\": 0.61,\n",
    "    \"bagging_seed\": 11,\n",
    "    \"learning_rate\": 0.05,\n",
    "    \"num_iterations\": 1000,\n",
    "    \"max_depth\": -1,\n",
    "    \"boosting\": \"gbdt\",\n",
    "    \"early_stopping\": 35,\n",
    "    \"feature_fraction\": 0.56,\n",
    "    \"num_leaves\": 150,\n",
    "    \"min_child_weight\": 0.03454472573214212,\n",
    "    \"reg_alpha\": 0.3899927210061127,\n",
    "    \"reg_lambda\": 0.6485237330340494,\n",
    "    \"random_state\": 47,\n",
    "    \"metric\": \"auc\",\n",
    "    \"verbosity\": -1,\n",
    "}\n",
    "model = lgb.train(\n",
    "    params,\n",
    "    lgb_train,\n",
    "    valid_sets=[lgb_train, lgb_test],\n",
    "    verbose_eval=100,\n",
    "    num_boost_round=500,\n",
    "    early_stopping_rounds=100,\n",
    ")\n",
    "preds = model.predict(test[FEATS])\n",
    "acc = accuracy_score(y_test, np.where(preds >= 0.5, 1, 0))\n",
    "auc = roc_auc_score(y_test, preds)"
   ]
  },
  {
   "cell_type": "code",
   "execution_count": 26,
   "metadata": {
    "ExecuteTime": {
     "end_time": "2021-05-24T09:49:29.690738Z",
     "start_time": "2021-05-24T09:49:28.989Z"
    },
    "id": "CKRjM0rxhfQ2"
   },
   "outputs": [
    {
     "data": {
      "image/png": "[encoded data removed]",
      "text/plain": [
       "<Figure size 640x480 with 1 Axes>"
      ]
     },
     "metadata": {},
     "output_type": "display_data"
    }
   ],
   "source": [
    "_ = lgb.plot_importance(model)"
   ]
  },
  {
   "cell_type": "markdown",
   "metadata": {
    "id": "8Bsff1ZVhfQ3"
   },
   "source": [
    "## 5. Inference"
   ]
  },
  {
   "cell_type": "code",
   "execution_count": 27,
   "metadata": {
    "ExecuteTime": {
     "end_time": "2021-05-24T09:49:29.691738Z",
     "start_time": "2021-05-24T09:49:28.992Z"
    },
    "id": "N6YEFm8IhfQ3"
   },
   "outputs": [],
   "source": [
    "# LOAD TESTDATA\n",
    "test_csv_file_path = os.path.join(data_dir, \"test_data.csv\")\n",
    "test_df = pd.read_csv(test_csv_file_path)\n",
    "\n",
    "# FEATURE ENGINEERING\n",
    "test_df = feature_engineering(test_df)\n",
    "\n",
    "# LEAVE LAST INTERACTION ONLY\n",
    "test_df = test_df[test_df[\"userID\"] != test_df[\"userID\"].shift(-1)]\n",
    "\n",
    "# DROP ANSWERCODE\n",
    "test_df = test_df.drop([\"answerCode\"], axis=1)"
   ]
  },
  {
   "cell_type": "code",
   "execution_count": 28,
   "metadata": {
    "ExecuteTime": {
     "end_time": "2021-05-24T09:49:29.692739Z",
     "start_time": "2021-05-24T09:49:28.993Z"
    },
    "id": "XnwXJs_shfQ4"
   },
   "outputs": [],
   "source": [
    "# MAKE PREDICTION\n",
    "total_preds = model.predict(test_df[FEATS])"
   ]
  },
  {
   "cell_type": "code",
   "execution_count": 29,
   "metadata": {
    "ExecuteTime": {
     "end_time": "2021-05-24T09:49:29.694736Z",
     "start_time": "2021-05-24T09:49:28.995Z"
    },
    "id": "f8PvohzwhfQ4"
   },
   "outputs": [
    {
     "name": "stdout",
     "output_type": "stream",
     "text": [
      "writing prediction : output/lgbm_submission.csv\n"
     ]
    }
   ],
   "source": [
    "# SAVE OUTPUT\n",
    "output_dir = \"output/\"\n",
    "write_path = os.path.join(output_dir, \"lgbm_submission.csv\")\n",
    "if not os.path.exists(output_dir):\n",
    "    os.makedirs(output_dir)\n",
    "with open(write_path, \"w\", encoding=\"utf8\") as w:\n",
    "    print(\"writing prediction : {}\".format(write_path))\n",
    "    w.write(\"id,prediction\\n\")\n",
    "    for id, p in enumerate(total_preds):\n",
    "        w.write(\"{},{}\\n\".format(id, p))"
   ]
  },
  {
   "cell_type": "markdown",
   "metadata": {},
   "source": [
    "### Optuna example"
   ]
  },
  {
   "cell_type": "code",
   "execution_count": 16,
   "metadata": {},
   "outputs": [
    {
     "name": "stdout",
     "output_type": "stream",
     "text": [
      "Collecting optuna\n",
      "  Using cached optuna-3.0.3-py3-none-any.whl (348 kB)\n",
      "Collecting cmaes>=0.8.2\n",
      "  Using cached cmaes-0.9.0-py3-none-any.whl (23 kB)\n",
      "Collecting scipy<1.9.0,>=1.7.0\n",
      "  Using cached scipy-1.8.1-cp310-cp310-manylinux_2_17_x86_64.manylinux2014_x86_64.whl (42.2 MB)\n",
      "Collecting cliff\n",
      "  Using cached cliff-4.1.0-py3-none-any.whl (81 kB)\n",
      "Collecting importlib-metadata<5.0.0\n",
      "  Using cached importlib_metadata-4.13.0-py3-none-any.whl (23 kB)\n",
      "Collecting colorlog\n",
      "  Using cached colorlog-6.7.0-py2.py3-none-any.whl (11 kB)\n",
      "Collecting sqlalchemy>=1.3.0\n",
      "  Using cached SQLAlchemy-1.4.44-cp310-cp310-manylinux_2_5_x86_64.manylinux1_x86_64.manylinux_2_17_x86_64.manylinux2014_x86_64.whl (1.6 MB)\n",
      "Collecting PyYAML\n",
      "  Using cached PyYAML-6.0-cp310-cp310-manylinux_2_5_x86_64.manylinux1_x86_64.manylinux_2_12_x86_64.manylinux2010_x86_64.whl (682 kB)\n",
      "Requirement already satisfied: numpy in /opt/conda/envs/boost/lib/python3.10/site-packages (from optuna) (1.23.5)\n",
      "Requirement already satisfied: packaging>=20.0 in /opt/conda/envs/boost/lib/python3.10/site-packages (from optuna) (21.3)\n",
      "Collecting tqdm\n",
      "  Using cached tqdm-4.64.1-py2.py3-none-any.whl (78 kB)\n",
      "Collecting alembic>=1.5.0\n",
      "  Using cached alembic-1.8.1-py3-none-any.whl (209 kB)\n",
      "Collecting Mako\n",
      "  Using cached Mako-1.2.4-py3-none-any.whl (78 kB)\n",
      "Collecting zipp>=0.5\n",
      "  Downloading zipp-3.11.0-py3-none-any.whl (6.6 kB)\n",
      "Requirement already satisfied: pyparsing!=3.0.5,>=2.0.2 in /opt/conda/envs/boost/lib/python3.10/site-packages (from packaging>=20.0->optuna) (3.0.9)\n",
      "Collecting greenlet!=0.4.17\n",
      "  Using cached greenlet-2.0.1-cp310-cp310-manylinux_2_17_x86_64.manylinux2014_x86_64.whl (539 kB)\n",
      "Collecting autopage>=0.4.0\n",
      "  Using cached autopage-0.5.1-py3-none-any.whl (29 kB)\n",
      "Collecting PrettyTable>=0.7.2\n",
      "  Using cached prettytable-3.5.0-py3-none-any.whl (26 kB)\n",
      "Collecting stevedore>=2.0.1\n",
      "  Using cached stevedore-4.1.1-py3-none-any.whl (50 kB)\n",
      "Collecting cmd2>=1.0.0\n",
      "  Using cached cmd2-2.4.2-py3-none-any.whl (147 kB)\n",
      "Collecting pyperclip>=1.6\n",
      "  Using cached pyperclip-1.8.2-py3-none-any.whl\n",
      "Requirement already satisfied: wcwidth>=0.1.7 in /opt/conda/envs/boost/lib/python3.10/site-packages (from cmd2>=1.0.0->cliff->optuna) (0.2.5)\n",
      "Collecting attrs>=16.3.0\n",
      "  Using cached attrs-22.1.0-py2.py3-none-any.whl (58 kB)\n",
      "Collecting pbr!=2.1.0,>=2.0.0\n",
      "  Using cached pbr-5.11.0-py2.py3-none-any.whl (112 kB)\n",
      "Collecting MarkupSafe>=0.9.2\n",
      "  Using cached MarkupSafe-2.1.1-cp310-cp310-manylinux_2_17_x86_64.manylinux2014_x86_64.whl (25 kB)\n",
      "Installing collected packages: pyperclip, zipp, tqdm, scipy, PyYAML, PrettyTable, pbr, MarkupSafe, greenlet, colorlog, cmaes, autopage, attrs, stevedore, sqlalchemy, Mako, importlib-metadata, cmd2, cliff, alembic, optuna\n",
      "  Attempting uninstall: scipy\n",
      "    Found existing installation: scipy 1.9.3\n",
      "    Uninstalling scipy-1.9.3:\n",
      "      Successfully uninstalled scipy-1.9.3\n",
      "Successfully installed Mako-1.2.4 MarkupSafe-2.1.1 PrettyTable-3.5.0 PyYAML-6.0 alembic-1.8.1 attrs-22.1.0 autopage-0.5.1 cliff-4.1.0 cmaes-0.9.0 cmd2-2.4.2 colorlog-6.7.0 greenlet-2.0.1 importlib-metadata-4.13.0 optuna-3.0.3 pbr-5.11.0 pyperclip-1.8.2 scipy-1.8.1 sqlalchemy-1.4.44 stevedore-4.1.1 tqdm-4.64.1 zipp-3.11.0\n",
      "\u001b[33mWARNING: Running pip as the 'root' user can result in broken permissions and conflicting behaviour with the system package manager. It is recommended to use a virtual environment instead: https://pip.pypa.io/warnings/venv\u001b[0m\u001b[33m\n",
      "\u001b[0m"
     ]
    }
   ],
   "source": [
    "# !pip install optuna"
   ]
  },
  {
   "cell_type": "code",
   "execution_count": 19,
   "metadata": {},
   "outputs": [],
   "source": [
    "# import optuna\n",
    "# from optuna import Trial\n",
    "# from optuna.samplers import TPESampler"
   ]
  },
  {
   "cell_type": "code",
   "execution_count": 22,
   "metadata": {
    "ExecuteTime": {
     "end_time": "2021-05-24T09:49:29.689738Z",
     "start_time": "2021-05-24T09:49:28.988Z"
    },
    "id": "-6FZfjA_hfQ2"
   },
   "outputs": [
    {
     "name": "stderr",
     "output_type": "stream",
     "text": [
      "\u001b[32m[I 2022-11-27 15:41:50,013]\u001b[0m A new study created in memory with name: lgbm_parameter_opt\u001b[0m\n"
     ]
    },
    {
     "name": "stdout",
     "output_type": "stream",
     "text": [
      "Training until validation scores don't improve for 35 rounds\n",
      "[100]\ttraining's auc: 0.730837\tvalid_1's auc: 0.686892\n",
      "[200]\ttraining's auc: 0.732632\tvalid_1's auc: 0.688471\n",
      "[300]\ttraining's auc: 0.733352\tvalid_1's auc: 0.689047\n"
     ]
    },
    {
     "name": "stderr",
     "output_type": "stream",
     "text": [
      "\u001b[32m[I 2022-11-27 15:42:23,286]\u001b[0m Trial 0 finished with value: 0.6893346253229974 and parameters: {'bagging_fraction': 0.61, 'seed': 11, 'lr': 0.1, 'n_iter': 1000, 'max_depth': 2, 'patience': 35, 'feature_fraction': 0.56, 'num_leaves': 150}. Best is trial 0 with value: 0.6893346253229974.\u001b[0m\n"
     ]
    },
    {
     "name": "stdout",
     "output_type": "stream",
     "text": [
      "Early stopping, best iteration is:\n",
      "[342]\ttraining's auc: 0.733544\tvalid_1's auc: 0.689335\n",
      "Training until validation scores don't improve for 25 rounds\n",
      "[100]\ttraining's auc: 0.71322\tvalid_1's auc: 0.670182\n",
      "[200]\ttraining's auc: 0.719881\tvalid_1's auc: 0.676716\n",
      "[300]\ttraining's auc: 0.723281\tvalid_1's auc: 0.679914\n",
      "[400]\ttraining's auc: 0.725231\tvalid_1's auc: 0.681326\n",
      "[500]\ttraining's auc: 0.726439\tvalid_1's auc: 0.682213\n"
     ]
    },
    {
     "name": "stderr",
     "output_type": "stream",
     "text": [
      "\u001b[32m[I 2022-11-27 15:43:02,114]\u001b[0m Trial 1 finished with value: 0.6828274696879348 and parameters: {'bagging_fraction': 0.55, 'seed': 42, 'lr': 0.01, 'n_iter': 600, 'max_depth': 1, 'patience': 25, 'feature_fraction': 0.6799999999999999, 'num_leaves': 100}. Best is trial 0 with value: 0.6893346253229974.\u001b[0m\n"
     ]
    },
    {
     "name": "stdout",
     "output_type": "stream",
     "text": [
      "[600]\ttraining's auc: 0.727222\tvalid_1's auc: 0.682825\n",
      "Did not meet early stopping. Best iteration is:\n",
      "[599]\ttraining's auc: 0.727224\tvalid_1's auc: 0.682827\n",
      "Training until validation scores don't improve for 5 rounds\n"
     ]
    },
    {
     "name": "stderr",
     "output_type": "stream",
     "text": [
      "\u001b[32m[I 2022-11-27 15:43:03,556]\u001b[0m Trial 2 finished with value: 0.6683452593917711 and parameters: {'bagging_fraction': 0.6799999999999999, 'seed': 11, 'lr': 0.005, 'n_iter': 1100, 'max_depth': 2, 'patience': 5, 'feature_fraction': 0.78, 'num_leaves': 200}. Best is trial 0 with value: 0.6893346253229974.\u001b[0m\n"
     ]
    },
    {
     "name": "stdout",
     "output_type": "stream",
     "text": [
      "Early stopping, best iteration is:\n",
      "[19]\ttraining's auc: 0.710755\tvalid_1's auc: 0.668345\n",
      "Training until validation scores don't improve for 10 rounds\n",
      "[100]\ttraining's auc: 0.705852\tvalid_1's auc: 0.662731\n",
      "[200]\ttraining's auc: 0.715562\tvalid_1's auc: 0.672321\n",
      "[300]\ttraining's auc: 0.719935\tvalid_1's auc: 0.677394\n",
      "[400]\ttraining's auc: 0.722361\tvalid_1's auc: 0.67957\n"
     ]
    },
    {
     "name": "stderr",
     "output_type": "stream",
     "text": [
      "\u001b[32m[I 2022-11-27 15:43:32,762]\u001b[0m Trial 3 finished with value: 0.6801947922878155 and parameters: {'bagging_fraction': 0.7, 'seed': 42, 'lr': 0.01, 'n_iter': 1400, 'max_depth': 1, 'patience': 10, 'feature_fraction': 0.51, 'num_leaves': 200}. Best is trial 0 with value: 0.6893346253229974.\u001b[0m\n"
     ]
    },
    {
     "name": "stdout",
     "output_type": "stream",
     "text": [
      "Early stopping, best iteration is:\n",
      "[444]\ttraining's auc: 0.723117\tvalid_1's auc: 0.680195\n",
      "Training until validation scores don't improve for 5 rounds\n"
     ]
    },
    {
     "name": "stderr",
     "output_type": "stream",
     "text": [
      "\u001b[32m[I 2022-11-27 15:43:36,568]\u001b[0m Trial 4 finished with value: 0.6877971576227391 and parameters: {'bagging_fraction': 0.62, 'seed': 42, 'lr': 0.1, 'n_iter': 200, 'max_depth': -1, 'patience': 5, 'feature_fraction': 0.75, 'num_leaves': 400}. Best is trial 0 with value: 0.6893346253229974.\u001b[0m\n"
     ]
    },
    {
     "name": "stdout",
     "output_type": "stream",
     "text": [
      "Early stopping, best iteration is:\n",
      "[23]\ttraining's auc: 0.745908\tvalid_1's auc: 0.687797\n",
      "Training until validation scores don't improve for 30 rounds\n"
     ]
    },
    {
     "name": "stderr",
     "output_type": "stream",
     "text": [
      "\u001b[32m[I 2022-11-27 15:43:42,533]\u001b[0m Trial 5 finished with value: 0.6782115881534487 and parameters: {'bagging_fraction': 0.72, 'seed': 11, 'lr': 0.01, 'n_iter': 100, 'max_depth': 2, 'patience': 30, 'feature_fraction': 0.77, 'num_leaves': 300}. Best is trial 0 with value: 0.6893346253229974.\u001b[0m\n"
     ]
    },
    {
     "name": "stdout",
     "output_type": "stream",
     "text": [
      "[100]\ttraining's auc: 0.72177\tvalid_1's auc: 0.678212\n",
      "Did not meet early stopping. Best iteration is:\n",
      "[100]\ttraining's auc: 0.72177\tvalid_1's auc: 0.678212\n",
      "Training until validation scores don't improve for 15 rounds\n"
     ]
    },
    {
     "name": "stderr",
     "output_type": "stream",
     "text": [
      "\u001b[32m[I 2022-11-27 15:43:47,912]\u001b[0m Trial 6 finished with value: 0.6732995428344265 and parameters: {'bagging_fraction': 0.53, 'seed': 42, 'lr': 0.005, 'n_iter': 100, 'max_depth': 2, 'patience': 15, 'feature_fraction': 0.65, 'num_leaves': 500}. Best is trial 0 with value: 0.6893346253229974.\u001b[0m\n"
     ]
    },
    {
     "name": "stdout",
     "output_type": "stream",
     "text": [
      "Early stopping, best iteration is:\n",
      "[76]\ttraining's auc: 0.716516\tvalid_1's auc: 0.6733\n",
      "Training until validation scores don't improve for 10 rounds\n",
      "[100]\ttraining's auc: 0.728696\tvalid_1's auc: 0.682946\n",
      "[200]\ttraining's auc: 0.729956\tvalid_1's auc: 0.685412\n"
     ]
    },
    {
     "name": "stderr",
     "output_type": "stream",
     "text": [
      "\u001b[32m[I 2022-11-27 15:44:02,010]\u001b[0m Trial 7 finished with value: 0.6854964221824686 and parameters: {'bagging_fraction': 0.5700000000000001, 'seed': 42, 'lr': 0.1, 'n_iter': 1300, 'max_depth': 1, 'patience': 10, 'feature_fraction': 0.77, 'num_leaves': 300}. Best is trial 0 with value: 0.6893346253229974.\u001b[0m\n"
     ]
    },
    {
     "name": "stdout",
     "output_type": "stream",
     "text": [
      "Early stopping, best iteration is:\n",
      "[207]\ttraining's auc: 0.730018\tvalid_1's auc: 0.685496\n",
      "Training until validation scores don't improve for 5 rounds\n"
     ]
    },
    {
     "name": "stderr",
     "output_type": "stream",
     "text": [
      "\u001b[32m[I 2022-11-27 15:44:06,758]\u001b[0m Trial 8 finished with value: 0.6880485986881335 and parameters: {'bagging_fraction': 0.75, 'seed': 11, 'lr': 0.1, 'n_iter': 100, 'max_depth': -1, 'patience': 5, 'feature_fraction': 0.6, 'num_leaves': 500}. Best is trial 0 with value: 0.6893346253229974.\u001b[0m\n"
     ]
    },
    {
     "name": "stdout",
     "output_type": "stream",
     "text": [
      "Early stopping, best iteration is:\n",
      "[25]\ttraining's auc: 0.74853\tvalid_1's auc: 0.688049\n",
      "Training until validation scores don't improve for 25 rounds\n"
     ]
    },
    {
     "name": "stderr",
     "output_type": "stream",
     "text": [
      "\u001b[32m[I 2022-11-27 15:44:09,440]\u001b[0m Trial 9 finished with value: 0.6683243887895051 and parameters: {'bagging_fraction': 0.6, 'seed': 42, 'lr': 0.005, 'n_iter': 500, 'max_depth': 2, 'patience': 25, 'feature_fraction': 0.51, 'num_leaves': 200}. Best is trial 0 with value: 0.6893346253229974.\u001b[0m\n"
     ]
    },
    {
     "name": "stdout",
     "output_type": "stream",
     "text": [
      "Early stopping, best iteration is:\n",
      "[20]\ttraining's auc: 0.711723\tvalid_1's auc: 0.668324\n",
      "Best Score: 0.6893346253229974\n",
      "Best trial: {'bagging_fraction': 0.61, 'seed': 11, 'lr': 0.1, 'n_iter': 1000, 'max_depth': 2, 'patience': 35, 'feature_fraction': 0.56, 'num_leaves': 150}\n"
     ]
    }
   ],
   "source": [
    "# def objective(trial: Trial):\n",
    "#     params = {\n",
    "#         'objective': 'binary',\n",
    "#         'bagging_fraction': trial.suggest_float(\"bagging_fraction\", 0.5, 0.8, step=0.01),\n",
    "#         'bagging_seed': trial.suggest_categorical(\"seed\", [11, 42]), ##\n",
    "#         'learning_rate': trial.suggest_categorical(\"lr\", [0.001, 0.005, 0.01, 0.05, 0.1]),\n",
    "#         'num_iterations': trial.suggest_int(\"n_iter\", 100, 1500, 100),\n",
    "#         'max_depth': trial.suggest_categorical('max_depth', [-1, 1, 2]), # need to consider\n",
    "#         'boosting': 'gbdt',\n",
    "#         'early_stopping': trial.suggest_int('patience', 5, 40, 5),\n",
    "#         'feature_fraction': trial.suggest_float('feature_fraction', 0.5, 0.8, step=0.01),\n",
    "#         'num_leaves': trial.suggest_int('num_leaves', 100, 500, 50),\n",
    "#         'min_child_weight': 0.03454472573214212,\n",
    "#         'reg_alpha': 0.3899927210061127,\n",
    "#         'reg_lambda': 0.6485237330340494,\n",
    "#         'random_state': 47,\n",
    "#         \"metric\": 'auc',\n",
    "#         \"verbosity\": -1,\n",
    "#     }\n",
    "#     model = lgb.train(\n",
    "#         params,\n",
    "#         lgb_train,\n",
    "#         valid_sets=[lgb_train, lgb_test],\n",
    "#         verbose_eval=100,\n",
    "#         num_boost_round=500,\n",
    "#         early_stopping_rounds=100\n",
    "#     )\n",
    "\n",
    "#     preds = model.predict(test[FEATS])\n",
    "#     acc = accuracy_score(y_test, np.where(preds >= 0.5, 1, 0))\n",
    "#     auc = roc_auc_score(y_test, preds)\n",
    "\n",
    "#     return auc\n",
    "\n",
    "# sampler = TPESampler(seed=42)\n",
    "# study = optuna.create_study(\n",
    "#     study_name=\"lgbm_parameter_opt\",\n",
    "#     direction=\"maximize\",\n",
    "#     sampler=sampler,\n",
    "# )\n",
    "# study.optimize(objective, n_trials=10)\n",
    "# print(\"Best Score:\", study.best_value)\n",
    "# print(\"Best trial:\", study.best_trial.params)"
   ]
  },
  {
   "cell_type": "code",
   "execution_count": null,
   "metadata": {},
   "outputs": [],
   "source": []
  }
 ],
 "metadata": {
  "colab": {
   "provenance": []
  },
  "kernelspec": {
   "display_name": "Python 3.10.0 ('boost')",
   "language": "python",
   "name": "python3"
  },
  "language_info": {
   "codemirror_mode": {
    "name": "ipython",
    "version": 3
   },
   "file_extension": ".py",
   "mimetype": "text/x-python",
   "name": "python",
   "nbconvert_exporter": "python",
   "pygments_lexer": "ipython3",
   "version": "3.10.8"
  },
  "toc": {
   "base_numbering": 1,
   "nav_menu": {},
   "number_sections": false,
   "sideBar": true,
   "skip_h1_title": false,
   "title_cell": "Table of Contents",
   "title_sidebar": "Contents",
   "toc_cell": false,
   "toc_position": {},
   "toc_section_display": true,
   "toc_window_display": true
  },
  "vscode": {
   "interpreter": {
    "hash": "cc4a0501185e2409227079a767a4cc2097b5a86e687593346069f03b91a9fb37"
   }
  }
 },
 "nbformat": 4,
 "nbformat_minor": 0
}
