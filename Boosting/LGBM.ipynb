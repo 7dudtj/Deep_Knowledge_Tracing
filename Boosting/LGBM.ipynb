{
 "cells": [
  {
   "cell_type": "code",
   "execution_count": 41,
   "metadata": {
    "ExecuteTime": {
     "end_time": "2021-05-24T09:49:29.375544Z",
     "start_time": "2021-05-24T09:49:28.999092Z"
    },
    "id": "Uq_TJqbdhfQu"
   },
   "outputs": [],
   "source": [
    "import pandas as pd\n",
    "import sys\n",
    "import os\n",
    "import random\n",
    "\n",
    "import lightgbm as lgb\n",
    "from sklearn.metrics import roc_auc_score\n",
    "from sklearn.metrics import accuracy_score\n",
    "import numpy as np\n",
    "import optuna\n",
    "from optuna import Trial\n",
    "from optuna.samplers import TPESampler"
   ]
  },
  {
   "cell_type": "code",
   "execution_count": 42,
   "metadata": {},
   "outputs": [],
   "source": [
    "import warnings\n",
    "\n",
    "warnings.filterwarnings(\"ignore\")"
   ]
  },
  {
   "cell_type": "code",
   "execution_count": 43,
   "metadata": {},
   "outputs": [],
   "source": [
    "sys.path.append(\"../\")\n",
    "from feature_engineering import feature_engineering\n",
    "from data_loader import lgbm_data_loader"
   ]
  },
  {
   "cell_type": "code",
   "execution_count": 44,
   "metadata": {},
   "outputs": [],
   "source": [
    "IS_CUSTOM = True\n",
    "USE_VALID = True\n",
    "valid_len = 1\n",
    "DROPS = [\n",
    "    \"assessmentItemID\",\n",
    "    \"testId\",\n",
    "    \"Timestamp\",\n",
    "    \"year\",\n",
    "    \"day\",\n",
    "    \"minute\",\n",
    "    \"second\",\n",
    "]"
   ]
  },
  {
   "cell_type": "code",
   "execution_count": 45,
   "metadata": {},
   "outputs": [],
   "source": [
    "train, valid, y_train, y_valid, test = lgbm_data_loader(\n",
    "    IS_CUSTOM=IS_CUSTOM, USE_VALID=USE_VALID, DROPS=DROPS, valid_len=valid_len\n",
    ")\n",
    "lgb_train = lgb.Dataset(train, y_train)\n",
    "lgb_valid = lgb.Dataset(valid, y_valid)"
   ]
  },
  {
   "cell_type": "code",
   "execution_count": 46,
   "metadata": {},
   "outputs": [
    {
     "data": {
      "text/plain": [
       "((2471510, 8), (3720, 8), (744, 9))"
      ]
     },
     "execution_count": 46,
     "metadata": {},
     "output_type": "execute_result"
    }
   ],
   "source": [
    "train.shape, valid.shape, test.shape"
   ]
  },
  {
   "cell_type": "markdown",
   "metadata": {
    "id": "QZlm5HSmhfQv"
   },
   "source": [
    "## 1. 데이터 로딩"
   ]
  },
  {
   "cell_type": "markdown",
   "metadata": {
    "id": "p_oCGAgEhfQw"
   },
   "source": [
    "## 2. Feature Engineering"
   ]
  },
  {
   "cell_type": "markdown",
   "metadata": {
    "id": "5VZzei3DhfQy"
   },
   "source": [
    "## 3. Train/Test 데이터 셋 분리"
   ]
  },
  {
   "cell_type": "code",
   "execution_count": 47,
   "metadata": {
    "ExecuteTime": {
     "end_time": "2021-05-24T09:49:29.684739Z",
     "start_time": "2021-05-24T09:49:28.982Z"
    },
    "id": "YOPWK7ckhfQz"
   },
   "outputs": [],
   "source": [
    "# # train과 test 데이터셋은 사용자 별로 묶어서 분리를 해주어야함\n",
    "# random.seed(42)\n",
    "\n",
    "\n",
    "# def custom_train_test_split(df, ratio=0.7, split=True):\n",
    "\n",
    "#     users = list(zip(df[\"userID\"].value_counts().index, df[\"userID\"].value_counts()))\n",
    "#     random.shuffle(users)\n",
    "\n",
    "#     max_train_data_len = ratio * len(df)\n",
    "#     sum_of_train_data = 0\n",
    "#     user_ids = []\n",
    "\n",
    "#     for user_id, count in users:\n",
    "#         sum_of_train_data += count\n",
    "#         if max_train_data_len < sum_of_train_data:\n",
    "#             break\n",
    "#         user_ids.append(user_id)\n",
    "\n",
    "#     train = df[df[\"userID\"].isin(user_ids)]\n",
    "#     test = df[df[\"userID\"].isin(user_ids) == False]\n",
    "\n",
    "#     # test데이터셋은 각 유저의 마지막 interaction만 추출\n",
    "#     test = test[test[\"userID\"] != test[\"userID\"].shift(-1)]\n",
    "#     return train, test\n",
    "# 유저별 분리\n",
    "# train, test = custom_train_test_split(df)\n",
    "\n",
    "# X, y 값 분리"
   ]
  },
  {
   "cell_type": "markdown",
   "metadata": {
    "id": "KiHss_BBhfQ2"
   },
   "source": [
    "## 4. 훈련 및 검증"
   ]
  },
  {
   "cell_type": "code",
   "execution_count": 62,
   "metadata": {},
   "outputs": [
    {
     "name": "stdout",
     "output_type": "stream",
     "text": [
      "Training until validation scores don't improve for 1000 rounds\n",
      "[100]\ttraining's auc: 0.986098\tvalid_0's auc: 0.604153\n",
      "[200]\ttraining's auc: 0.998729\tvalid_0's auc: 0.598227\n",
      "[300]\ttraining's auc: 0.999848\tvalid_0's auc: 0.59525\n",
      "[400]\ttraining's auc: 0.999977\tvalid_0's auc: 0.592396\n",
      "[500]\ttraining's auc: 0.999998\tvalid_0's auc: 0.591465\n",
      "[600]\ttraining's auc: 1\tvalid_0's auc: 0.590452\n",
      "[700]\ttraining's auc: 1\tvalid_0's auc: 0.59052\n",
      "[800]\ttraining's auc: 1\tvalid_0's auc: 0.59052\n",
      "[900]\ttraining's auc: 1\tvalid_0's auc: 0.59052\n",
      "[1000]\ttraining's auc: 1\tvalid_0's auc: 0.59052\n",
      "Early stopping, best iteration is:\n",
      "[10]\ttraining's auc: 0.876056\tvalid_0's auc: 0.620377\n"
     ]
    }
   ],
   "source": [
    "\"\"\"\n",
    "{'bagging_fraction': 0.62, 'seed': 42, 'lr': 0.1, 'n_iter': 200, 'max_depth': -1, 'patience': 5, 'feature_fraction': 0.75, 'num_leaves': 400}\n",
    "\"\"\"\n",
    "params = {\n",
    "    \"objective\": \"binary\",\n",
    "    \"bagging_fraction\": 0.52,\n",
    "    \"seed\": 42,\n",
    "    \"lr\": 0.001,\n",
    "    \"n_iter\": 10000,\n",
    "    \"max_depth\": -1,\n",
    "    \"patience\": 250,\n",
    "    \"feature_fraction\": 0.57,\n",
    "    \"num_leaves\": 500,\n",
    "    # \"bagging_fraction\": 0.62,\n",
    "    # \"bagging_seed\": 11,\n",
    "    # \"learning_rate\": 0.1,\n",
    "    # \"num_iterations\": 1000,\n",
    "    # \"max_depth\": -1,\n",
    "    # \"boosting\": \"gbdt\",\n",
    "    # \"early_stopping\": 35,\n",
    "    # \"feature_fraction\": 0.75,\n",
    "    # \"num_leaves\": 400,\n",
    "    \"min_child_weight\": 0.03454472573214212,\n",
    "    \"reg_alpha\": 0.3899927210061127,\n",
    "    \"reg_lambda\": 0.6485237330340494,\n",
    "    \"random_state\": 42,\n",
    "    \"metric\": \"auc\",\n",
    "    \"verbosity\": -1,\n",
    "}\n",
    "valid_sets = [lgb_train, lgb_valid] if USE_VALID else [lgb_train]\n",
    "model = lgb.train(\n",
    "    params,\n",
    "    lgb_valid,\n",
    "    valid_sets=valid_sets,\n",
    "    verbose_eval=100,\n",
    "    num_boost_round=500,\n",
    "    early_stopping_rounds=1000,\n",
    ")"
   ]
  },
  {
   "cell_type": "code",
   "execution_count": 63,
   "metadata": {},
   "outputs": [
    {
     "data": {
      "text/plain": [
       "(0.7438172043010752, 0.8760557455822385)"
      ]
     },
     "execution_count": 63,
     "metadata": {},
     "output_type": "execute_result"
    }
   ],
   "source": [
    "preds = model.predict(valid)\n",
    "acc = accuracy_score(y_valid, np.where(preds >= 0.5, 1, 0))\n",
    "auc = roc_auc_score(y_valid, preds)\n",
    "acc, auc"
   ]
  },
  {
   "cell_type": "code",
   "execution_count": 64,
   "metadata": {
    "ExecuteTime": {
     "end_time": "2021-05-24T09:49:29.690738Z",
     "start_time": "2021-05-24T09:49:28.989Z"
    },
    "id": "CKRjM0rxhfQ2"
   },
   "outputs": [
    {
     "data": {
      "image/png": "[encoded data removed]",
      "text/plain": [
       "<Figure size 640x480 with 1 Axes>"
      ]
     },
     "metadata": {},
     "output_type": "display_data"
    }
   ],
   "source": [
    "_ = lgb.plot_importance(model)"
   ]
  },
  {
   "cell_type": "markdown",
   "metadata": {
    "id": "8Bsff1ZVhfQ3"
   },
   "source": [
    "## 5. Inference"
   ]
  },
  {
   "cell_type": "code",
   "execution_count": 68,
   "metadata": {
    "ExecuteTime": {
     "end_time": "2021-05-24T09:49:29.691738Z",
     "start_time": "2021-05-24T09:49:28.992Z"
    },
    "id": "N6YEFm8IhfQ3"
   },
   "outputs": [],
   "source": [
    "T  # LOAD TESTDAA\n",
    "\n",
    "# FEATURE ENGINEERING\n",
    "\n",
    "# LEAVE LAST INTERACTION ONLY\n",
    "\n",
    "# DROP ANSWERCODE\n",
    "test_df = test.drop([\"answerCode\"], axis=1)"
   ]
  },
  {
   "cell_type": "code",
   "execution_count": 69,
   "metadata": {
    "ExecuteTime": {
     "end_time": "2021-05-24T09:49:29.692739Z",
     "start_time": "2021-05-24T09:49:28.993Z"
    },
    "id": "XnwXJs_shfQ4"
   },
   "outputs": [
    {
     "data": {
      "text/plain": [
       "(0.6491935483870968, 0.726977462089347)"
      ]
     },
     "execution_count": 69,
     "metadata": {},
     "output_type": "execute_result"
    }
   ],
   "source": [
    "# MAKE PREDICTION\n",
    "total_preds = model.predict(test_df)\n",
    "ans = pd.read_csv(\"/opt/ml/input/data/custom_answer.csv\")[\"prediction\"]\n",
    "acc = accuracy_score(ans.values, np.where(total_preds >= 0.5, 1, 0))\n",
    "auc = roc_auc_score(ans.values, total_preds)\n",
    "acc, auc"
   ]
  },
  {
   "cell_type": "code",
   "execution_count": 70,
   "metadata": {
    "ExecuteTime": {
     "end_time": "2021-05-24T09:49:29.694736Z",
     "start_time": "2021-05-24T09:49:28.995Z"
    },
    "id": "f8PvohzwhfQ4"
   },
   "outputs": [
    {
     "name": "stdout",
     "output_type": "stream",
     "text": [
      "writing prediction : output/lgbm_submission.csv\n"
     ]
    }
   ],
   "source": [
    "# SAVE OUTPUT\n",
    "output_dir = \"output/\"\n",
    "write_path = os.path.join(output_dir, \"lgbm_submission.csv\")\n",
    "\n",
    "if not os.path.exists(output_dir):\n",
    "    os.makedirs(output_dir)\n",
    "with open(write_path, \"w\", encoding=\"utf8\") as w:\n",
    "    print(\"writing prediction : {}\".format(write_path))\n",
    "    w.write(\"id,prediction\\n\")\n",
    "    for id, p in enumerate(total_preds):\n",
    "        w.write(\"{},{}\\n\".format(id, p))"
   ]
  },
  {
   "cell_type": "markdown",
   "metadata": {},
   "source": [
    "### Optuna example"
   ]
  },
  {
   "cell_type": "code",
   "execution_count": 14,
   "metadata": {},
   "outputs": [],
   "source": [
    "# {'bagging_fraction': 0.61, 'seed': 11, 'lr': 0.1, 'n_iter': 1000, 'max_depth': 2, 'patience': 35, 'feature_fraction': 0.56, 'num_leaves': 150}"
   ]
  },
  {
   "cell_type": "code",
   "execution_count": 22,
   "metadata": {
    "ExecuteTime": {
     "end_time": "2021-05-24T09:49:29.689738Z",
     "start_time": "2021-05-24T09:49:28.988Z"
    },
    "id": "-6FZfjA_hfQ2"
   },
   "outputs": [
    {
     "name": "stderr",
     "output_type": "stream",
     "text": [
      "\u001b[32m[I 2022-12-02 17:51:30,455]\u001b[0m A new study created in memory with name: lgbm_parameter_opt\u001b[0m\n"
     ]
    },
    {
     "name": "stdout",
     "output_type": "stream",
     "text": [
      "Training until validation scores don't improve for 25 rounds\n",
      "[500]\ttraining's auc: 0.704409\tvalid_1's auc: 0.690241\n",
      "[1000]\ttraining's auc: 0.718502\tvalid_1's auc: 0.703954\n",
      "Did not meet early stopping. Best iteration is:\n",
      "[1000]\ttraining's auc: 0.718502\tvalid_1's auc: 0.703954\n"
     ]
    },
    {
     "name": "stderr",
     "output_type": "stream",
     "text": [
      "\u001b[32m[I 2022-12-02 17:55:32,925]\u001b[0m Trial 0 finished with value: 0.7039538302855898 and parameters: {'bagging_fraction': 0.61, 'seed': 11, 'lr': 0.01, 'n_iter': 1000, 'max_depth': -1, 'patience': 25, 'feature_fraction': 0.71, 'num_leaves': 100}. Best is trial 0 with value: 0.7039538302855898.\u001b[0m\n"
     ]
    },
    {
     "name": "stdout",
     "output_type": "stream",
     "text": [
      "Training until validation scores don't improve for 15 rounds\n"
     ]
    },
    {
     "name": "stderr",
     "output_type": "stream",
     "text": [
      "\u001b[32m[I 2022-12-02 17:55:38,756]\u001b[0m Trial 1 finished with value: 0.6747958973929762 and parameters: {'bagging_fraction': 0.8, 'seed': 11, 'lr': 0.005, 'n_iter': 1000, 'max_depth': -1, 'patience': 15, 'feature_fraction': 0.6799999999999999, 'num_leaves': 150}. Best is trial 0 with value: 0.7039538302855898.\u001b[0m\n"
     ]
    },
    {
     "name": "stdout",
     "output_type": "stream",
     "text": [
      "Early stopping, best iteration is:\n",
      "[9]\ttraining's auc: 0.684775\tvalid_1's auc: 0.674796\n",
      "Training until validation scores don't improve for 25 rounds\n"
     ]
    },
    {
     "name": "stderr",
     "output_type": "stream",
     "text": [
      "\u001b[32m[I 2022-12-02 17:55:45,908]\u001b[0m Trial 2 finished with value: 0.6716075826595558 and parameters: {'bagging_fraction': 0.59, 'seed': 42, 'lr': 0.0001, 'n_iter': 1000, 'max_depth': -1, 'patience': 25, 'feature_fraction': 0.55, 'num_leaves': 100}. Best is trial 0 with value: 0.7039538302855898.\u001b[0m\n"
     ]
    },
    {
     "name": "stdout",
     "output_type": "stream",
     "text": [
      "Early stopping, best iteration is:\n",
      "[5]\ttraining's auc: 0.67835\tvalid_1's auc: 0.671608\n",
      "Training until validation scores don't improve for 20 rounds\n"
     ]
    },
    {
     "name": "stderr",
     "output_type": "stream",
     "text": [
      "\u001b[32m[I 2022-12-02 17:55:53,409]\u001b[0m Trial 3 finished with value: 0.693380835217531 and parameters: {'bagging_fraction': 0.79, 'seed': 11, 'lr': 0.001, 'n_iter': 1000, 'max_depth': -1, 'patience': 20, 'feature_fraction': 0.51, 'num_leaves': 500}. Best is trial 0 with value: 0.7039538302855898.\u001b[0m\n"
     ]
    },
    {
     "name": "stdout",
     "output_type": "stream",
     "text": [
      "Early stopping, best iteration is:\n",
      "[5]\ttraining's auc: 0.700186\tvalid_1's auc: 0.693381\n",
      "Training until validation scores don't improve for 40 rounds\n",
      "[500]\ttraining's auc: 0.716679\tvalid_1's auc: 0.703042\n",
      "[1000]\ttraining's auc: 0.731383\tvalid_1's auc: 0.715298\n",
      "Did not meet early stopping. Best iteration is:\n",
      "[1000]\ttraining's auc: 0.731383\tvalid_1's auc: 0.715298\n"
     ]
    },
    {
     "name": "stderr",
     "output_type": "stream",
     "text": [
      "\u001b[32m[I 2022-12-02 18:00:07,000]\u001b[0m Trial 4 finished with value: 0.7152976334805818 and parameters: {'bagging_fraction': 0.58, 'seed': 11, 'lr': 0.005, 'n_iter': 1000, 'max_depth': -1, 'patience': 40, 'feature_fraction': 0.77, 'num_leaves': 350}. Best is trial 4 with value: 0.7152976334805818.\u001b[0m\n"
     ]
    },
    {
     "name": "stdout",
     "output_type": "stream",
     "text": [
      "Training until validation scores don't improve for 15 rounds\n"
     ]
    },
    {
     "name": "stderr",
     "output_type": "stream",
     "text": [
      "\u001b[32m[I 2022-12-02 18:00:11,842]\u001b[0m Trial 5 finished with value: 0.6838006594794322 and parameters: {'bagging_fraction': 0.78, 'seed': 42, 'lr': 0.01, 'n_iter': 1000, 'max_depth': -1, 'patience': 15, 'feature_fraction': 0.58, 'num_leaves': 300}. Best is trial 4 with value: 0.7152976334805818.\u001b[0m\n"
     ]
    },
    {
     "name": "stdout",
     "output_type": "stream",
     "text": [
      "Early stopping, best iteration is:\n",
      "[9]\ttraining's auc: 0.695212\tvalid_1's auc: 0.683801\n",
      "Training until validation scores don't improve for 30 rounds\n"
     ]
    },
    {
     "name": "stderr",
     "output_type": "stream",
     "text": [
      "\u001b[32m[I 2022-12-02 18:00:22,430]\u001b[0m Trial 6 finished with value: 0.686643418314032 and parameters: {'bagging_fraction': 0.54, 'seed': 11, 'lr': 0.0001, 'n_iter': 1000, 'max_depth': -1, 'patience': 30, 'feature_fraction': 0.72, 'num_leaves': 400}. Best is trial 4 with value: 0.7152976334805818.\u001b[0m\n"
     ]
    },
    {
     "name": "stdout",
     "output_type": "stream",
     "text": [
      "Early stopping, best iteration is:\n",
      "[20]\ttraining's auc: 0.700373\tvalid_1's auc: 0.686643\n",
      "Training until validation scores don't improve for 15 rounds\n"
     ]
    },
    {
     "name": "stderr",
     "output_type": "stream",
     "text": [
      "\u001b[32m[I 2022-12-02 18:00:29,292]\u001b[0m Trial 7 finished with value: 0.6847522459594884 and parameters: {'bagging_fraction': 0.52, 'seed': 11, 'lr': 0.0001, 'n_iter': 1000, 'max_depth': -1, 'patience': 15, 'feature_fraction': 0.72, 'num_leaves': 350}. Best is trial 4 with value: 0.7152976334805818.\u001b[0m\n"
     ]
    },
    {
     "name": "stdout",
     "output_type": "stream",
     "text": [
      "Early stopping, best iteration is:\n",
      "[20]\ttraining's auc: 0.698185\tvalid_1's auc: 0.684752\n",
      "Training until validation scores don't improve for 25 rounds\n",
      "[500]\ttraining's auc: 0.694166\tvalid_1's auc: 0.681178\n",
      "[1000]\ttraining's auc: 0.704064\tvalid_1's auc: 0.689946\n",
      "Did not meet early stopping. Best iteration is:\n",
      "[1000]\ttraining's auc: 0.704064\tvalid_1's auc: 0.689946\n"
     ]
    },
    {
     "name": "stderr",
     "output_type": "stream",
     "text": [
      "\u001b[32m[I 2022-12-02 18:04:08,052]\u001b[0m Trial 8 finished with value: 0.6899463542160282 and parameters: {'bagging_fraction': 0.77, 'seed': 11, 'lr': 0.005, 'n_iter': 1000, 'max_depth': -1, 'patience': 25, 'feature_fraction': 0.63, 'num_leaves': 100}. Best is trial 4 with value: 0.7152976334805818.\u001b[0m\n"
     ]
    },
    {
     "name": "stdout",
     "output_type": "stream",
     "text": [
      "Training until validation scores don't improve for 35 rounds\n"
     ]
    },
    {
     "name": "stderr",
     "output_type": "stream",
     "text": [
      "\u001b[32m[I 2022-12-02 18:04:40,950]\u001b[0m Trial 9 finished with value: 0.6719688316579666 and parameters: {'bagging_fraction': 0.53, 'seed': 42, 'lr': 0.001, 'n_iter': 1000, 'max_depth': -1, 'patience': 35, 'feature_fraction': 0.5700000000000001, 'num_leaves': 100}. Best is trial 4 with value: 0.7152976334805818.\u001b[0m\n"
     ]
    },
    {
     "name": "stdout",
     "output_type": "stream",
     "text": [
      "Early stopping, best iteration is:\n",
      "[135]\ttraining's auc: 0.682035\tvalid_1's auc: 0.671969\n",
      "Training until validation scores don't improve for 40 rounds\n"
     ]
    },
    {
     "name": "stderr",
     "output_type": "stream",
     "text": [
      "\u001b[32m[I 2022-12-02 18:04:52,696]\u001b[0m Trial 10 finished with value: 0.6788370243913846 and parameters: {'bagging_fraction': 0.72, 'seed': 11, 'lr': 0.0005, 'n_iter': 1000, 'max_depth': -1, 'patience': 40, 'feature_fraction': 0.8, 'num_leaves': 250}. Best is trial 4 with value: 0.7152976334805818.\u001b[0m\n"
     ]
    },
    {
     "name": "stdout",
     "output_type": "stream",
     "text": [
      "Early stopping, best iteration is:\n",
      "[20]\ttraining's auc: 0.692985\tvalid_1's auc: 0.678837\n",
      "Training until validation scores don't improve for 5 rounds\n"
     ]
    },
    {
     "name": "stderr",
     "output_type": "stream",
     "text": [
      "\u001b[32m[I 2022-12-02 18:04:57,704]\u001b[0m Trial 11 finished with value: 0.6777388151279019 and parameters: {'bagging_fraction': 0.63, 'seed': 11, 'lr': 0.01, 'n_iter': 1000, 'max_depth': -1, 'patience': 5, 'feature_fraction': 0.8, 'num_leaves': 200}. Best is trial 4 with value: 0.7152976334805818.\u001b[0m\n"
     ]
    },
    {
     "name": "stdout",
     "output_type": "stream",
     "text": [
      "Early stopping, best iteration is:\n",
      "[20]\ttraining's auc: 0.691308\tvalid_1's auc: 0.677739\n",
      "Training until validation scores don't improve for 40 rounds\n",
      "[500]\ttraining's auc: 0.737615\tvalid_1's auc: 0.720525\n",
      "[1000]\ttraining's auc: 0.758713\tvalid_1's auc: 0.734496\n",
      "Did not meet early stopping. Best iteration is:\n",
      "[1000]\ttraining's auc: 0.758713\tvalid_1's auc: 0.734496\n"
     ]
    },
    {
     "name": "stderr",
     "output_type": "stream",
     "text": [
      "\u001b[32m[I 2022-12-02 18:09:02,594]\u001b[0m Trial 12 finished with value: 0.7344964484361672 and parameters: {'bagging_fraction': 0.65, 'seed': 11, 'lr': 0.01, 'n_iter': 1000, 'max_depth': -1, 'patience': 40, 'feature_fraction': 0.74, 'num_leaves': 450}. Best is trial 12 with value: 0.7344964484361672.\u001b[0m\n"
     ]
    },
    {
     "name": "stdout",
     "output_type": "stream",
     "text": [
      "Training until validation scores don't improve for 40 rounds\n",
      "[500]\ttraining's auc: 0.722149\tvalid_1's auc: 0.708481\n",
      "[1000]\ttraining's auc: 0.737588\tvalid_1's auc: 0.720396\n",
      "Did not meet early stopping. Best iteration is:\n",
      "[1000]\ttraining's auc: 0.737588\tvalid_1's auc: 0.720396\n"
     ]
    },
    {
     "name": "stderr",
     "output_type": "stream",
     "text": [
      "\u001b[32m[I 2022-12-02 18:13:05,940]\u001b[0m Trial 13 finished with value: 0.7203957368925694 and parameters: {'bagging_fraction': 0.6799999999999999, 'seed': 11, 'lr': 0.005, 'n_iter': 1000, 'max_depth': -1, 'patience': 40, 'feature_fraction': 0.76, 'num_leaves': 450}. Best is trial 12 with value: 0.7344964484361672.\u001b[0m\n"
     ]
    },
    {
     "name": "stdout",
     "output_type": "stream",
     "text": [
      "Training until validation scores don't improve for 35 rounds\n"
     ]
    },
    {
     "name": "stderr",
     "output_type": "stream",
     "text": [
      "\u001b[32m[I 2022-12-02 18:13:16,057]\u001b[0m Trial 14 finished with value: 0.6912759597715084 and parameters: {'bagging_fraction': 0.69, 'seed': 42, 'lr': 0.0005, 'n_iter': 1000, 'max_depth': -1, 'patience': 35, 'feature_fraction': 0.76, 'num_leaves': 500}. Best is trial 12 with value: 0.7344964484361672.\u001b[0m\n"
     ]
    },
    {
     "name": "stdout",
     "output_type": "stream",
     "text": [
      "Early stopping, best iteration is:\n",
      "[12]\ttraining's auc: 0.703318\tvalid_1's auc: 0.691276\n",
      "Training until validation scores don't improve for 35 rounds\n",
      "[500]\ttraining's auc: 0.737221\tvalid_1's auc: 0.721691\n",
      "[1000]\ttraining's auc: 0.75725\tvalid_1's auc: 0.735286\n",
      "Did not meet early stopping. Best iteration is:\n",
      "[1000]\ttraining's auc: 0.75725\tvalid_1's auc: 0.735286\n"
     ]
    },
    {
     "name": "stderr",
     "output_type": "stream",
     "text": [
      "\u001b[32m[I 2022-12-02 18:17:33,367]\u001b[0m Trial 15 finished with value: 0.7352860267410417 and parameters: {'bagging_fraction': 0.67, 'seed': 11, 'lr': 0.01, 'n_iter': 1000, 'max_depth': -1, 'patience': 35, 'feature_fraction': 0.64, 'num_leaves': 450}. Best is trial 15 with value: 0.7352860267410417.\u001b[0m\n"
     ]
    },
    {
     "name": "stdout",
     "output_type": "stream",
     "text": [
      "Training until validation scores don't improve for 35 rounds\n",
      "[500]\ttraining's auc: 0.737221\tvalid_1's auc: 0.721691\n",
      "[1000]\ttraining's auc: 0.75725\tvalid_1's auc: 0.735286\n",
      "Did not meet early stopping. Best iteration is:\n",
      "[1000]\ttraining's auc: 0.75725\tvalid_1's auc: 0.735286\n"
     ]
    },
    {
     "name": "stderr",
     "output_type": "stream",
     "text": [
      "\u001b[32m[I 2022-12-02 18:21:36,397]\u001b[0m Trial 16 finished with value: 0.7352860267410417 and parameters: {'bagging_fraction': 0.66, 'seed': 11, 'lr': 0.01, 'n_iter': 1000, 'max_depth': -1, 'patience': 35, 'feature_fraction': 0.63, 'num_leaves': 450}. Best is trial 15 with value: 0.7352860267410417.\u001b[0m\n"
     ]
    },
    {
     "name": "stdout",
     "output_type": "stream",
     "text": [
      "Training until validation scores don't improve for 30 rounds\n",
      "[500]\ttraining's auc: 0.734232\tvalid_1's auc: 0.719214\n",
      "[1000]\ttraining's auc: 0.753387\tvalid_1's auc: 0.732751\n",
      "Did not meet early stopping. Best iteration is:\n",
      "[1000]\ttraining's auc: 0.753387\tvalid_1's auc: 0.732751\n"
     ]
    },
    {
     "name": "stderr",
     "output_type": "stream",
     "text": [
      "\u001b[32m[I 2022-12-02 18:26:07,218]\u001b[0m Trial 17 finished with value: 0.7327514373032978 and parameters: {'bagging_fraction': 0.73, 'seed': 11, 'lr': 0.01, 'n_iter': 1000, 'max_depth': -1, 'patience': 30, 'feature_fraction': 0.64, 'num_leaves': 400}. Best is trial 15 with value: 0.7352860267410417.\u001b[0m\n"
     ]
    },
    {
     "name": "stdout",
     "output_type": "stream",
     "text": [
      "Training until validation scores don't improve for 35 rounds\n",
      "[500]\ttraining's auc: 0.737221\tvalid_1's auc: 0.721691\n",
      "[1000]\ttraining's auc: 0.75725\tvalid_1's auc: 0.735286\n",
      "Did not meet early stopping. Best iteration is:\n",
      "[1000]\ttraining's auc: 0.75725\tvalid_1's auc: 0.735286\n"
     ]
    },
    {
     "name": "stderr",
     "output_type": "stream",
     "text": [
      "\u001b[32m[I 2022-12-02 18:30:12,362]\u001b[0m Trial 18 finished with value: 0.7352860267410417 and parameters: {'bagging_fraction': 0.6799999999999999, 'seed': 42, 'lr': 0.01, 'n_iter': 1000, 'max_depth': -1, 'patience': 35, 'feature_fraction': 0.61, 'num_leaves': 450}. Best is trial 15 with value: 0.7352860267410417.\u001b[0m\n"
     ]
    },
    {
     "name": "stdout",
     "output_type": "stream",
     "text": [
      "Training until validation scores don't improve for 30 rounds\n",
      "[500]\ttraining's auc: 0.730792\tvalid_1's auc: 0.716725\n",
      "[1000]\ttraining's auc: 0.749646\tvalid_1's auc: 0.730853\n",
      "Did not meet early stopping. Best iteration is:\n",
      "[1000]\ttraining's auc: 0.749646\tvalid_1's auc: 0.730853\n"
     ]
    },
    {
     "name": "stderr",
     "output_type": "stream",
     "text": [
      "\u001b[32m[I 2022-12-02 18:34:15,141]\u001b[0m Trial 19 finished with value: 0.7308528799607119 and parameters: {'bagging_fraction': 0.72, 'seed': 42, 'lr': 0.01, 'n_iter': 1000, 'max_depth': -1, 'patience': 30, 'feature_fraction': 0.6, 'num_leaves': 350}. Best is trial 15 with value: 0.7352860267410417.\u001b[0m\n"
     ]
    },
    {
     "name": "stdout",
     "output_type": "stream",
     "text": [
      "Training until validation scores don't improve for 5 rounds\n"
     ]
    },
    {
     "name": "stderr",
     "output_type": "stream",
     "text": [
      "\u001b[32m[I 2022-12-02 18:34:19,105]\u001b[0m Trial 20 finished with value: 0.6876754703929675 and parameters: {'bagging_fraction': 0.65, 'seed': 11, 'lr': 0.01, 'n_iter': 1000, 'max_depth': -1, 'patience': 5, 'feature_fraction': 0.67, 'num_leaves': 400}. Best is trial 15 with value: 0.7352860267410417.\u001b[0m\n"
     ]
    },
    {
     "name": "stdout",
     "output_type": "stream",
     "text": [
      "Early stopping, best iteration is:\n",
      "[13]\ttraining's auc: 0.700732\tvalid_1's auc: 0.687675\n",
      "Training until validation scores don't improve for 35 rounds\n",
      "[500]\ttraining's auc: 0.737221\tvalid_1's auc: 0.721691\n",
      "[1000]\ttraining's auc: 0.75725\tvalid_1's auc: 0.735286\n",
      "Did not meet early stopping. Best iteration is:\n",
      "[1000]\ttraining's auc: 0.75725\tvalid_1's auc: 0.735286\n"
     ]
    },
    {
     "name": "stderr",
     "output_type": "stream",
     "text": [
      "\u001b[32m[I 2022-12-02 18:38:53,297]\u001b[0m Trial 21 finished with value: 0.7352860267410417 and parameters: {'bagging_fraction': 0.69, 'seed': 42, 'lr': 0.01, 'n_iter': 1000, 'max_depth': -1, 'patience': 35, 'feature_fraction': 0.6, 'num_leaves': 450}. Best is trial 15 with value: 0.7352860267410417.\u001b[0m\n"
     ]
    },
    {
     "name": "stdout",
     "output_type": "stream",
     "text": [
      "Training until validation scores don't improve for 35 rounds\n",
      "[500]\ttraining's auc: 0.740142\tvalid_1's auc: 0.724264\n",
      "[1000]\ttraining's auc: 0.760505\tvalid_1's auc: 0.737145\n",
      "Did not meet early stopping. Best iteration is:\n",
      "[1000]\ttraining's auc: 0.760505\tvalid_1's auc: 0.737145\n"
     ]
    },
    {
     "name": "stderr",
     "output_type": "stream",
     "text": [
      "\u001b[32m[I 2022-12-02 18:43:00,043]\u001b[0m Trial 22 finished with value: 0.7371448897728994 and parameters: {'bagging_fraction': 0.7, 'seed': 42, 'lr': 0.01, 'n_iter': 1000, 'max_depth': -1, 'patience': 35, 'feature_fraction': 0.61, 'num_leaves': 500}. Best is trial 22 with value: 0.7371448897728994.\u001b[0m\n"
     ]
    },
    {
     "name": "stdout",
     "output_type": "stream",
     "text": [
      "Training until validation scores don't improve for 30 rounds\n",
      "[500]\ttraining's auc: 0.740142\tvalid_1's auc: 0.724264\n",
      "[1000]\ttraining's auc: 0.760505\tvalid_1's auc: 0.737145\n",
      "Did not meet early stopping. Best iteration is:\n",
      "[1000]\ttraining's auc: 0.760505\tvalid_1's auc: 0.737145\n"
     ]
    },
    {
     "name": "stderr",
     "output_type": "stream",
     "text": [
      "\u001b[32m[I 2022-12-02 18:47:08,337]\u001b[0m Trial 23 finished with value: 0.7371448897728994 and parameters: {'bagging_fraction': 0.75, 'seed': 42, 'lr': 0.01, 'n_iter': 1000, 'max_depth': -1, 'patience': 30, 'feature_fraction': 0.61, 'num_leaves': 500}. Best is trial 22 with value: 0.7371448897728994.\u001b[0m\n"
     ]
    },
    {
     "name": "stdout",
     "output_type": "stream",
     "text": [
      "Training until validation scores don't improve for 30 rounds\n"
     ]
    },
    {
     "name": "stderr",
     "output_type": "stream",
     "text": [
      "\u001b[32m[I 2022-12-02 18:47:17,983]\u001b[0m Trial 24 finished with value: 0.693765777719245 and parameters: {'bagging_fraction': 0.75, 'seed': 42, 'lr': 0.01, 'n_iter': 1000, 'max_depth': -1, 'patience': 30, 'feature_fraction': 0.53, 'num_leaves': 500}. Best is trial 22 with value: 0.7371448897728994.\u001b[0m\n"
     ]
    },
    {
     "name": "stdout",
     "output_type": "stream",
     "text": [
      "Early stopping, best iteration is:\n",
      "[5]\ttraining's auc: 0.700334\tvalid_1's auc: 0.693766\n",
      "Training until validation scores don't improve for 30 rounds\n"
     ]
    },
    {
     "name": "stderr",
     "output_type": "stream",
     "text": [
      "\u001b[32m[I 2022-12-02 18:47:26,737]\u001b[0m Trial 25 finished with value: 0.6935457666171462 and parameters: {'bagging_fraction': 0.7, 'seed': 42, 'lr': 0.001, 'n_iter': 1000, 'max_depth': -1, 'patience': 30, 'feature_fraction': 0.59, 'num_leaves': 500}. Best is trial 22 with value: 0.7371448897728994.\u001b[0m\n"
     ]
    },
    {
     "name": "stdout",
     "output_type": "stream",
     "text": [
      "Early stopping, best iteration is:\n",
      "[9]\ttraining's auc: 0.70308\tvalid_1's auc: 0.693546\n",
      "Training until validation scores don't improve for 20 rounds\n"
     ]
    },
    {
     "name": "stderr",
     "output_type": "stream",
     "text": [
      "\u001b[32m[I 2022-12-02 18:47:32,312]\u001b[0m Trial 26 finished with value: 0.6933796043861905 and parameters: {'bagging_fraction': 0.75, 'seed': 42, 'lr': 0.0005, 'n_iter': 1000, 'max_depth': -1, 'patience': 20, 'feature_fraction': 0.56, 'num_leaves': 500}. Best is trial 22 with value: 0.7371448897728994.\u001b[0m\n"
     ]
    },
    {
     "name": "stdout",
     "output_type": "stream",
     "text": [
      "Early stopping, best iteration is:\n",
      "[5]\ttraining's auc: 0.700183\tvalid_1's auc: 0.69338\n",
      "Training until validation scores don't improve for 35 rounds\n",
      "[500]\ttraining's auc: 0.734232\tvalid_1's auc: 0.719214\n",
      "[1000]\ttraining's auc: 0.753387\tvalid_1's auc: 0.732751\n",
      "Did not meet early stopping. Best iteration is:\n",
      "[1000]\ttraining's auc: 0.753387\tvalid_1's auc: 0.732751\n"
     ]
    },
    {
     "name": "stderr",
     "output_type": "stream",
     "text": [
      "\u001b[32m[I 2022-12-02 18:51:39,408]\u001b[0m Trial 27 finished with value: 0.7327514373032978 and parameters: {'bagging_fraction': 0.74, 'seed': 42, 'lr': 0.01, 'n_iter': 1000, 'max_depth': -1, 'patience': 35, 'feature_fraction': 0.67, 'num_leaves': 400}. Best is trial 22 with value: 0.7371448897728994.\u001b[0m\n"
     ]
    },
    {
     "name": "stdout",
     "output_type": "stream",
     "text": [
      "Training until validation scores don't improve for 25 rounds\n",
      "[500]\ttraining's auc: 0.727093\tvalid_1's auc: 0.713592\n",
      "[1000]\ttraining's auc: 0.745027\tvalid_1's auc: 0.727787\n",
      "Did not meet early stopping. Best iteration is:\n",
      "[1000]\ttraining's auc: 0.745027\tvalid_1's auc: 0.727787\n"
     ]
    },
    {
     "name": "stderr",
     "output_type": "stream",
     "text": [
      "\u001b[32m[I 2022-12-02 18:56:32,496]\u001b[0m Trial 28 finished with value: 0.7277865713839098 and parameters: {'bagging_fraction': 0.71, 'seed': 42, 'lr': 0.01, 'n_iter': 1000, 'max_depth': -1, 'patience': 25, 'feature_fraction': 0.61, 'num_leaves': 300}. Best is trial 22 with value: 0.7371448897728994.\u001b[0m\n"
     ]
    },
    {
     "name": "stdout",
     "output_type": "stream",
     "text": [
      "Training until validation scores don't improve for 25 rounds\n",
      "[500]\ttraining's auc: 0.740423\tvalid_1's auc: 0.722194\n",
      "[1000]\ttraining's auc: 0.761974\tvalid_1's auc: 0.73687\n",
      "Did not meet early stopping. Best iteration is:\n",
      "[1000]\ttraining's auc: 0.761974\tvalid_1's auc: 0.73687\n"
     ]
    },
    {
     "name": "stderr",
     "output_type": "stream",
     "text": [
      "\u001b[32m[I 2022-12-02 19:00:42,527]\u001b[0m Trial 29 finished with value: 0.7368704143839875 and parameters: {'bagging_fraction': 0.62, 'seed': 42, 'lr': 0.01, 'n_iter': 1000, 'max_depth': -1, 'patience': 25, 'feature_fraction': 0.69, 'num_leaves': 500}. Best is trial 22 with value: 0.7371448897728994.\u001b[0m\n"
     ]
    },
    {
     "name": "stdout",
     "output_type": "stream",
     "text": [
      "Training until validation scores don't improve for 20 rounds\n",
      "[500]\ttraining's auc: 0.740423\tvalid_1's auc: 0.722194\n",
      "[1000]\ttraining's auc: 0.761974\tvalid_1's auc: 0.73687\n",
      "Did not meet early stopping. Best iteration is:\n",
      "[1000]\ttraining's auc: 0.761974\tvalid_1's auc: 0.73687\n"
     ]
    },
    {
     "name": "stderr",
     "output_type": "stream",
     "text": [
      "\u001b[32m[I 2022-12-02 19:04:47,552]\u001b[0m Trial 30 finished with value: 0.7368704143839875 and parameters: {'bagging_fraction': 0.62, 'seed': 42, 'lr': 0.01, 'n_iter': 1000, 'max_depth': -1, 'patience': 20, 'feature_fraction': 0.7, 'num_leaves': 500}. Best is trial 22 with value: 0.7371448897728994.\u001b[0m\n"
     ]
    },
    {
     "name": "stdout",
     "output_type": "stream",
     "text": [
      "Training until validation scores don't improve for 20 rounds\n",
      "[500]\ttraining's auc: 0.740423\tvalid_1's auc: 0.722194\n",
      "[1000]\ttraining's auc: 0.761974\tvalid_1's auc: 0.73687\n",
      "Did not meet early stopping. Best iteration is:\n",
      "[1000]\ttraining's auc: 0.761974\tvalid_1's auc: 0.73687\n"
     ]
    },
    {
     "name": "stderr",
     "output_type": "stream",
     "text": [
      "\u001b[32m[I 2022-12-02 19:08:51,354]\u001b[0m Trial 31 finished with value: 0.7368704143839875 and parameters: {'bagging_fraction': 0.61, 'seed': 42, 'lr': 0.01, 'n_iter': 1000, 'max_depth': -1, 'patience': 20, 'feature_fraction': 0.7, 'num_leaves': 500}. Best is trial 22 with value: 0.7371448897728994.\u001b[0m\n"
     ]
    },
    {
     "name": "stdout",
     "output_type": "stream",
     "text": [
      "Training until validation scores don't improve for 10 rounds\n",
      "[500]\ttraining's auc: 0.740423\tvalid_1's auc: 0.722194\n",
      "[1000]\ttraining's auc: 0.761974\tvalid_1's auc: 0.73687\n",
      "Did not meet early stopping. Best iteration is:\n",
      "[1000]\ttraining's auc: 0.761974\tvalid_1's auc: 0.73687\n"
     ]
    },
    {
     "name": "stderr",
     "output_type": "stream",
     "text": [
      "\u001b[32m[I 2022-12-02 19:12:55,585]\u001b[0m Trial 32 finished with value: 0.7368704143839875 and parameters: {'bagging_fraction': 0.59, 'seed': 42, 'lr': 0.01, 'n_iter': 1000, 'max_depth': -1, 'patience': 10, 'feature_fraction': 0.7, 'num_leaves': 500}. Best is trial 22 with value: 0.7371448897728994.\u001b[0m\n"
     ]
    },
    {
     "name": "stdout",
     "output_type": "stream",
     "text": [
      "Training until validation scores don't improve for 10 rounds\n"
     ]
    },
    {
     "name": "stderr",
     "output_type": "stream",
     "text": [
      "\u001b[32m[I 2022-12-02 19:12:59,515]\u001b[0m Trial 33 finished with value: 0.690389299644659 and parameters: {'bagging_fraction': 0.56, 'seed': 42, 'lr': 0.01, 'n_iter': 1000, 'max_depth': -1, 'patience': 10, 'feature_fraction': 0.65, 'num_leaves': 450}. Best is trial 22 with value: 0.7371448897728994.\u001b[0m\n"
     ]
    },
    {
     "name": "stdout",
     "output_type": "stream",
     "text": [
      "Early stopping, best iteration is:\n",
      "[9]\ttraining's auc: 0.701783\tvalid_1's auc: 0.690389\n",
      "Training until validation scores don't improve for 25 rounds\n"
     ]
    },
    {
     "name": "stderr",
     "output_type": "stream",
     "text": [
      "\u001b[32m[I 2022-12-02 19:13:06,949]\u001b[0m Trial 34 finished with value: 0.6937194676900618 and parameters: {'bagging_fraction': 0.5, 'seed': 42, 'lr': 0.0001, 'n_iter': 1000, 'max_depth': -1, 'patience': 25, 'feature_fraction': 0.6799999999999999, 'num_leaves': 500}. Best is trial 22 with value: 0.7371448897728994.\u001b[0m\n"
     ]
    },
    {
     "name": "stdout",
     "output_type": "stream",
     "text": [
      "Early stopping, best iteration is:\n",
      "[9]\ttraining's auc: 0.703032\tvalid_1's auc: 0.693719\n",
      "Training until validation scores don't improve for 10 rounds\n"
     ]
    },
    {
     "name": "stderr",
     "output_type": "stream",
     "text": [
      "\u001b[32m[I 2022-12-02 19:13:11,525]\u001b[0m Trial 35 finished with value: 0.6888307594598619 and parameters: {'bagging_fraction': 0.59, 'seed': 42, 'lr': 0.001, 'n_iter': 1000, 'max_depth': -1, 'patience': 10, 'feature_fraction': 0.66, 'num_leaves': 400}. Best is trial 22 with value: 0.7371448897728994.\u001b[0m\n"
     ]
    },
    {
     "name": "stdout",
     "output_type": "stream",
     "text": [
      "Early stopping, best iteration is:\n",
      "[12]\ttraining's auc: 0.699619\tvalid_1's auc: 0.688831\n",
      "Training until validation scores don't improve for 10 rounds\n"
     ]
    },
    {
     "name": "stderr",
     "output_type": "stream",
     "text": [
      "\u001b[32m[I 2022-12-02 19:13:15,037]\u001b[0m Trial 36 finished with value: 0.693765777719245 and parameters: {'bagging_fraction': 0.59, 'seed': 42, 'lr': 0.01, 'n_iter': 1000, 'max_depth': -1, 'patience': 10, 'feature_fraction': 0.54, 'num_leaves': 500}. Best is trial 22 with value: 0.7371448897728994.\u001b[0m\n"
     ]
    },
    {
     "name": "stdout",
     "output_type": "stream",
     "text": [
      "Early stopping, best iteration is:\n",
      "[5]\ttraining's auc: 0.700334\tvalid_1's auc: 0.693766\n",
      "Training until validation scores don't improve for 15 rounds\n"
     ]
    },
    {
     "name": "stderr",
     "output_type": "stream",
     "text": [
      "\u001b[32m[I 2022-12-02 19:13:20,795]\u001b[0m Trial 37 finished with value: 0.6893310923997396 and parameters: {'bagging_fraction': 0.5700000000000001, 'seed': 42, 'lr': 0.005, 'n_iter': 1000, 'max_depth': -1, 'patience': 15, 'feature_fraction': 0.73, 'num_leaves': 450}. Best is trial 22 with value: 0.7371448897728994.\u001b[0m\n"
     ]
    },
    {
     "name": "stdout",
     "output_type": "stream",
     "text": [
      "Early stopping, best iteration is:\n",
      "[12]\ttraining's auc: 0.701874\tvalid_1's auc: 0.689331\n",
      "Training until validation scores don't improve for 10 rounds\n"
     ]
    },
    {
     "name": "stderr",
     "output_type": "stream",
     "text": [
      "\u001b[32m[I 2022-12-02 19:13:25,429]\u001b[0m Trial 38 finished with value: 0.691107028170037 and parameters: {'bagging_fraction': 0.64, 'seed': 42, 'lr': 0.0001, 'n_iter': 1000, 'max_depth': -1, 'patience': 10, 'feature_fraction': 0.69, 'num_leaves': 500}. Best is trial 22 with value: 0.7371448897728994.\u001b[0m\n"
     ]
    },
    {
     "name": "stdout",
     "output_type": "stream",
     "text": [
      "Early stopping, best iteration is:\n",
      "[12]\ttraining's auc: 0.703264\tvalid_1's auc: 0.691107\n",
      "Training until validation scores don't improve for 20 rounds\n"
     ]
    },
    {
     "name": "stderr",
     "output_type": "stream",
     "text": [
      "\u001b[32m[I 2022-12-02 19:13:30,571]\u001b[0m Trial 39 finished with value: 0.6805915744671424 and parameters: {'bagging_fraction': 0.8, 'seed': 42, 'lr': 0.0005, 'n_iter': 1000, 'max_depth': -1, 'patience': 20, 'feature_fraction': 0.5, 'num_leaves': 200}. Best is trial 22 with value: 0.7371448897728994.\u001b[0m\n"
     ]
    },
    {
     "name": "stdout",
     "output_type": "stream",
     "text": [
      "Early stopping, best iteration is:\n",
      "[5]\ttraining's auc: 0.686923\tvalid_1's auc: 0.680592\n",
      "Training until validation scores don't improve for 15 rounds\n",
      "[500]\ttraining's auc: 0.731498\tvalid_1's auc: 0.715659\n",
      "[1000]\ttraining's auc: 0.751062\tvalid_1's auc: 0.72898\n",
      "Did not meet early stopping. Best iteration is:\n",
      "[1000]\ttraining's auc: 0.751062\tvalid_1's auc: 0.72898\n"
     ]
    },
    {
     "name": "stderr",
     "output_type": "stream",
     "text": [
      "\u001b[32m[I 2022-12-02 19:17:22,534]\u001b[0m Trial 40 finished with value: 0.7289804777841097 and parameters: {'bagging_fraction': 0.76, 'seed': 42, 'lr': 0.01, 'n_iter': 1000, 'max_depth': -1, 'patience': 15, 'feature_fraction': 0.71, 'num_leaves': 350}. Best is trial 22 with value: 0.7371448897728994.\u001b[0m\n"
     ]
    },
    {
     "name": "stdout",
     "output_type": "stream",
     "text": [
      "Training until validation scores don't improve for 20 rounds\n",
      "[500]\ttraining's auc: 0.740423\tvalid_1's auc: 0.722194\n",
      "[1000]\ttraining's auc: 0.761974\tvalid_1's auc: 0.73687\n",
      "Did not meet early stopping. Best iteration is:\n",
      "[1000]\ttraining's auc: 0.761974\tvalid_1's auc: 0.73687\n"
     ]
    },
    {
     "name": "stderr",
     "output_type": "stream",
     "text": [
      "\u001b[32m[I 2022-12-02 19:21:49,126]\u001b[0m Trial 41 finished with value: 0.7368704143839875 and parameters: {'bagging_fraction': 0.61, 'seed': 42, 'lr': 0.01, 'n_iter': 1000, 'max_depth': -1, 'patience': 20, 'feature_fraction': 0.7, 'num_leaves': 500}. Best is trial 22 with value: 0.7371448897728994.\u001b[0m\n"
     ]
    },
    {
     "name": "stdout",
     "output_type": "stream",
     "text": [
      "Training until validation scores don't improve for 25 rounds\n",
      "[500]\ttraining's auc: 0.740142\tvalid_1's auc: 0.724264\n",
      "[1000]\ttraining's auc: 0.760505\tvalid_1's auc: 0.737145\n",
      "Did not meet early stopping. Best iteration is:\n",
      "[1000]\ttraining's auc: 0.760505\tvalid_1's auc: 0.737145\n"
     ]
    },
    {
     "name": "stderr",
     "output_type": "stream",
     "text": [
      "\u001b[32m[I 2022-12-02 19:26:25,840]\u001b[0m Trial 42 finished with value: 0.7371448897728994 and parameters: {'bagging_fraction': 0.61, 'seed': 42, 'lr': 0.01, 'n_iter': 1000, 'max_depth': -1, 'patience': 25, 'feature_fraction': 0.62, 'num_leaves': 500}. Best is trial 22 with value: 0.7371448897728994.\u001b[0m\n"
     ]
    },
    {
     "name": "stdout",
     "output_type": "stream",
     "text": [
      "Training until validation scores don't improve for 25 rounds\n",
      "[500]\ttraining's auc: 0.737221\tvalid_1's auc: 0.721691\n",
      "[1000]\ttraining's auc: 0.75725\tvalid_1's auc: 0.735286\n",
      "Did not meet early stopping. Best iteration is:\n",
      "[1000]\ttraining's auc: 0.75725\tvalid_1's auc: 0.735286\n"
     ]
    },
    {
     "name": "stderr",
     "output_type": "stream",
     "text": [
      "\u001b[32m[I 2022-12-02 19:30:29,227]\u001b[0m Trial 43 finished with value: 0.7352860267410417 and parameters: {'bagging_fraction': 0.59, 'seed': 42, 'lr': 0.01, 'n_iter': 1000, 'max_depth': -1, 'patience': 25, 'feature_fraction': 0.62, 'num_leaves': 450}. Best is trial 22 with value: 0.7371448897728994.\u001b[0m\n"
     ]
    },
    {
     "name": "stdout",
     "output_type": "stream",
     "text": [
      "Training until validation scores don't improve for 25 rounds\n",
      "[500]\ttraining's auc: 0.740142\tvalid_1's auc: 0.724264\n",
      "[1000]\ttraining's auc: 0.760505\tvalid_1's auc: 0.737145\n",
      "Did not meet early stopping. Best iteration is:\n",
      "[1000]\ttraining's auc: 0.760505\tvalid_1's auc: 0.737145\n"
     ]
    },
    {
     "name": "stderr",
     "output_type": "stream",
     "text": [
      "\u001b[32m[I 2022-12-02 19:34:34,439]\u001b[0m Trial 44 finished with value: 0.7371448897728994 and parameters: {'bagging_fraction': 0.55, 'seed': 42, 'lr': 0.01, 'n_iter': 1000, 'max_depth': -1, 'patience': 25, 'feature_fraction': 0.58, 'num_leaves': 500}. Best is trial 22 with value: 0.7371448897728994.\u001b[0m\n"
     ]
    },
    {
     "name": "stdout",
     "output_type": "stream",
     "text": [
      "Training until validation scores don't improve for 30 rounds\n"
     ]
    },
    {
     "name": "stderr",
     "output_type": "stream",
     "text": [
      "\u001b[32m[I 2022-12-02 19:34:43,402]\u001b[0m Trial 45 finished with value: 0.6912221109003654 and parameters: {'bagging_fraction': 0.54, 'seed': 42, 'lr': 0.001, 'n_iter': 1000, 'max_depth': -1, 'patience': 30, 'feature_fraction': 0.58, 'num_leaves': 450}. Best is trial 22 with value: 0.7371448897728994.\u001b[0m\n"
     ]
    },
    {
     "name": "stdout",
     "output_type": "stream",
     "text": [
      "Early stopping, best iteration is:\n",
      "[12]\ttraining's auc: 0.701605\tvalid_1's auc: 0.691222\n",
      "Training until validation scores don't improve for 25 rounds\n"
     ]
    },
    {
     "name": "stderr",
     "output_type": "stream",
     "text": [
      "\u001b[32m[I 2022-12-02 19:34:50,956]\u001b[0m Trial 46 finished with value: 0.6934983796105403 and parameters: {'bagging_fraction': 0.61, 'seed': 42, 'lr': 0.005, 'n_iter': 1000, 'max_depth': -1, 'patience': 25, 'feature_fraction': 0.56, 'num_leaves': 500}. Best is trial 22 with value: 0.7371448897728994.\u001b[0m\n"
     ]
    },
    {
     "name": "stdout",
     "output_type": "stream",
     "text": [
      "Early stopping, best iteration is:\n",
      "[5]\ttraining's auc: 0.700131\tvalid_1's auc: 0.693498\n",
      "Training until validation scores don't improve for 30 rounds\n"
     ]
    },
    {
     "name": "stderr",
     "output_type": "stream",
     "text": [
      "\u001b[32m[I 2022-12-02 19:34:59,834]\u001b[0m Trial 47 finished with value: 0.6888313748755321 and parameters: {'bagging_fraction': 0.56, 'seed': 42, 'lr': 0.0001, 'n_iter': 1000, 'max_depth': -1, 'patience': 30, 'feature_fraction': 0.58, 'num_leaves': 400}. Best is trial 22 with value: 0.7371448897728994.\u001b[0m\n"
     ]
    },
    {
     "name": "stdout",
     "output_type": "stream",
     "text": [
      "Early stopping, best iteration is:\n",
      "[12]\ttraining's auc: 0.699501\tvalid_1's auc: 0.688831\n",
      "Training until validation scores don't improve for 20 rounds\n"
     ]
    },
    {
     "name": "stderr",
     "output_type": "stream",
     "text": [
      "\u001b[32m[I 2022-12-02 19:35:05,741]\u001b[0m Trial 48 finished with value: 0.6838006594794322 and parameters: {'bagging_fraction': 0.63, 'seed': 42, 'lr': 0.01, 'n_iter': 1000, 'max_depth': -1, 'patience': 20, 'feature_fraction': 0.62, 'num_leaves': 300}. Best is trial 22 with value: 0.7371448897728994.\u001b[0m\n"
     ]
    },
    {
     "name": "stdout",
     "output_type": "stream",
     "text": [
      "Early stopping, best iteration is:\n",
      "[9]\ttraining's auc: 0.695212\tvalid_1's auc: 0.683801\n",
      "Training until validation scores don't improve for 25 rounds\n"
     ]
    },
    {
     "name": "stderr",
     "output_type": "stream",
     "text": [
      "\u001b[32m[I 2022-12-02 19:35:12,779]\u001b[0m Trial 49 finished with value: 0.6921040015557709 and parameters: {'bagging_fraction': 0.78, 'seed': 42, 'lr': 0.01, 'n_iter': 1000, 'max_depth': -1, 'patience': 25, 'feature_fraction': 0.52, 'num_leaves': 450}. Best is trial 22 with value: 0.7371448897728994.\u001b[0m\n"
     ]
    },
    {
     "name": "stdout",
     "output_type": "stream",
     "text": [
      "Early stopping, best iteration is:\n",
      "[5]\ttraining's auc: 0.698555\tvalid_1's auc: 0.692104\n",
      "Training until validation scores don't improve for 30 rounds\n",
      "[500]\ttraining's auc: 0.711795\tvalid_1's auc: 0.698287\n",
      "[1000]\ttraining's auc: 0.726778\tvalid_1's auc: 0.711301\n",
      "Did not meet early stopping. Best iteration is:\n",
      "[1000]\ttraining's auc: 0.726778\tvalid_1's auc: 0.711301\n"
     ]
    },
    {
     "name": "stderr",
     "output_type": "stream",
     "text": [
      "\u001b[32m[I 2022-12-02 19:38:51,715]\u001b[0m Trial 50 finished with value: 0.7113005087025931 and parameters: {'bagging_fraction': 0.5, 'seed': 42, 'lr': 0.01, 'n_iter': 1000, 'max_depth': -1, 'patience': 30, 'feature_fraction': 0.65, 'num_leaves': 150}. Best is trial 22 with value: 0.7371448897728994.\u001b[0m\n"
     ]
    },
    {
     "name": "stdout",
     "output_type": "stream",
     "text": [
      "Training until validation scores don't improve for 25 rounds\n",
      "[500]\ttraining's auc: 0.740142\tvalid_1's auc: 0.724264\n",
      "[1000]\ttraining's auc: 0.760505\tvalid_1's auc: 0.737145\n",
      "Did not meet early stopping. Best iteration is:\n",
      "[1000]\ttraining's auc: 0.760505\tvalid_1's auc: 0.737145\n"
     ]
    },
    {
     "name": "stderr",
     "output_type": "stream",
     "text": [
      "\u001b[32m[I 2022-12-02 19:42:58,634]\u001b[0m Trial 51 finished with value: 0.7371448897728994 and parameters: {'bagging_fraction': 0.61, 'seed': 42, 'lr': 0.01, 'n_iter': 1000, 'max_depth': -1, 'patience': 25, 'feature_fraction': 0.59, 'num_leaves': 500}. Best is trial 22 with value: 0.7371448897728994.\u001b[0m\n"
     ]
    },
    {
     "name": "stdout",
     "output_type": "stream",
     "text": [
      "Training until validation scores don't improve for 25 rounds\n",
      "[500]\ttraining's auc: 0.740142\tvalid_1's auc: 0.724264\n",
      "[1000]\ttraining's auc: 0.760505\tvalid_1's auc: 0.737145\n",
      "Did not meet early stopping. Best iteration is:\n",
      "[1000]\ttraining's auc: 0.760505\tvalid_1's auc: 0.737145\n"
     ]
    },
    {
     "name": "stderr",
     "output_type": "stream",
     "text": [
      "\u001b[32m[I 2022-12-02 19:47:07,573]\u001b[0m Trial 52 finished with value: 0.7371448897728994 and parameters: {'bagging_fraction': 0.61, 'seed': 42, 'lr': 0.01, 'n_iter': 1000, 'max_depth': -1, 'patience': 25, 'feature_fraction': 0.59, 'num_leaves': 500}. Best is trial 22 with value: 0.7371448897728994.\u001b[0m\n"
     ]
    },
    {
     "name": "stdout",
     "output_type": "stream",
     "text": [
      "Training until validation scores don't improve for 25 rounds\n",
      "[500]\ttraining's auc: 0.737221\tvalid_1's auc: 0.721691\n",
      "[1000]\ttraining's auc: 0.75725\tvalid_1's auc: 0.735286\n",
      "Did not meet early stopping. Best iteration is:\n",
      "[1000]\ttraining's auc: 0.75725\tvalid_1's auc: 0.735286\n"
     ]
    },
    {
     "name": "stderr",
     "output_type": "stream",
     "text": [
      "\u001b[32m[I 2022-12-02 19:51:37,811]\u001b[0m Trial 53 finished with value: 0.7352860267410417 and parameters: {'bagging_fraction': 0.66, 'seed': 42, 'lr': 0.01, 'n_iter': 1000, 'max_depth': -1, 'patience': 25, 'feature_fraction': 0.59, 'num_leaves': 450}. Best is trial 22 with value: 0.7371448897728994.\u001b[0m\n"
     ]
    },
    {
     "name": "stdout",
     "output_type": "stream",
     "text": [
      "Training until validation scores don't improve for 25 rounds\n",
      "[500]\ttraining's auc: 0.740142\tvalid_1's auc: 0.724264\n",
      "[1000]\ttraining's auc: 0.760505\tvalid_1's auc: 0.737145\n",
      "Did not meet early stopping. Best iteration is:\n",
      "[1000]\ttraining's auc: 0.760505\tvalid_1's auc: 0.737145\n"
     ]
    },
    {
     "name": "stderr",
     "output_type": "stream",
     "text": [
      "\u001b[32m[I 2022-12-02 19:55:54,018]\u001b[0m Trial 54 finished with value: 0.7371448897728994 and parameters: {'bagging_fraction': 0.55, 'seed': 42, 'lr': 0.01, 'n_iter': 1000, 'max_depth': -1, 'patience': 25, 'feature_fraction': 0.5700000000000001, 'num_leaves': 500}. Best is trial 22 with value: 0.7371448897728994.\u001b[0m\n"
     ]
    },
    {
     "name": "stdout",
     "output_type": "stream",
     "text": [
      "Training until validation scores don't improve for 25 rounds\n"
     ]
    },
    {
     "name": "stderr",
     "output_type": "stream",
     "text": [
      "\u001b[32m[I 2022-12-02 19:56:00,907]\u001b[0m Trial 55 finished with value: 0.6918047556861331 and parameters: {'bagging_fraction': 0.54, 'seed': 42, 'lr': 0.0005, 'n_iter': 1000, 'max_depth': -1, 'patience': 25, 'feature_fraction': 0.56, 'num_leaves': 450}. Best is trial 22 with value: 0.7371448897728994.\u001b[0m\n"
     ]
    },
    {
     "name": "stdout",
     "output_type": "stream",
     "text": [
      "Early stopping, best iteration is:\n",
      "[5]\ttraining's auc: 0.698297\tvalid_1's auc: 0.691805\n",
      "Training until validation scores don't improve for 30 rounds\n"
     ]
    },
    {
     "name": "stderr",
     "output_type": "stream",
     "text": [
      "\u001b[32m[I 2022-12-02 19:56:10,558]\u001b[0m Trial 56 finished with value: 0.693765777719245 and parameters: {'bagging_fraction': 0.5700000000000001, 'seed': 42, 'lr': 0.01, 'n_iter': 1000, 'max_depth': -1, 'patience': 30, 'feature_fraction': 0.54, 'num_leaves': 500}. Best is trial 22 with value: 0.7371448897728994.\u001b[0m\n"
     ]
    },
    {
     "name": "stdout",
     "output_type": "stream",
     "text": [
      "Early stopping, best iteration is:\n",
      "[5]\ttraining's auc: 0.700334\tvalid_1's auc: 0.693766\n",
      "Training until validation scores don't improve for 30 rounds\n"
     ]
    },
    {
     "name": "stderr",
     "output_type": "stream",
     "text": [
      "\u001b[32m[I 2022-12-02 19:56:20,014]\u001b[0m Trial 57 finished with value: 0.6918035248547928 and parameters: {'bagging_fraction': 0.64, 'seed': 42, 'lr': 0.005, 'n_iter': 1000, 'max_depth': -1, 'patience': 30, 'feature_fraction': 0.6, 'num_leaves': 450}. Best is trial 22 with value: 0.7371448897728994.\u001b[0m\n"
     ]
    },
    {
     "name": "stdout",
     "output_type": "stream",
     "text": [
      "Early stopping, best iteration is:\n",
      "[12]\ttraining's auc: 0.701941\tvalid_1's auc: 0.691804\n",
      "Training until validation scores don't improve for 40 rounds\n",
      "[500]\ttraining's auc: 0.740142\tvalid_1's auc: 0.724264\n",
      "[1000]\ttraining's auc: 0.760505\tvalid_1's auc: 0.737145\n",
      "Did not meet early stopping. Best iteration is:\n",
      "[1000]\ttraining's auc: 0.760505\tvalid_1's auc: 0.737145\n"
     ]
    },
    {
     "name": "stderr",
     "output_type": "stream",
     "text": [
      "\u001b[32m[I 2022-12-02 20:00:43,521]\u001b[0m Trial 58 finished with value: 0.7371448897728994 and parameters: {'bagging_fraction': 0.52, 'seed': 42, 'lr': 0.01, 'n_iter': 1000, 'max_depth': -1, 'patience': 40, 'feature_fraction': 0.63, 'num_leaves': 500}. Best is trial 22 with value: 0.7371448897728994.\u001b[0m\n"
     ]
    },
    {
     "name": "stdout",
     "output_type": "stream",
     "text": [
      "Training until validation scores don't improve for 40 rounds\n",
      "[500]\ttraining's auc: 0.734232\tvalid_1's auc: 0.719214\n",
      "[1000]\ttraining's auc: 0.753387\tvalid_1's auc: 0.732751\n",
      "Did not meet early stopping. Best iteration is:\n",
      "[1000]\ttraining's auc: 0.753387\tvalid_1's auc: 0.732751\n"
     ]
    },
    {
     "name": "stderr",
     "output_type": "stream",
     "text": [
      "\u001b[32m[I 2022-12-02 20:04:44,055]\u001b[0m Trial 59 finished with value: 0.7327514373032978 and parameters: {'bagging_fraction': 0.52, 'seed': 11, 'lr': 0.01, 'n_iter': 1000, 'max_depth': -1, 'patience': 40, 'feature_fraction': 0.5700000000000001, 'num_leaves': 400}. Best is trial 22 with value: 0.7371448897728994.\u001b[0m\n"
     ]
    },
    {
     "name": "stdout",
     "output_type": "stream",
     "text": [
      "Training until validation scores don't improve for 40 rounds\n"
     ]
    },
    {
     "name": "stderr",
     "output_type": "stream",
     "text": [
      "\u001b[32m[I 2022-12-02 20:04:55,199]\u001b[0m Trial 60 finished with value: 0.6935457666171462 and parameters: {'bagging_fraction': 0.52, 'seed': 42, 'lr': 0.001, 'n_iter': 1000, 'max_depth': -1, 'patience': 40, 'feature_fraction': 0.59, 'num_leaves': 500}. Best is trial 22 with value: 0.7371448897728994.\u001b[0m\n"
     ]
    },
    {
     "name": "stdout",
     "output_type": "stream",
     "text": [
      "Early stopping, best iteration is:\n",
      "[9]\ttraining's auc: 0.70308\tvalid_1's auc: 0.693546\n",
      "Training until validation scores don't improve for 35 rounds\n",
      "[500]\ttraining's auc: 0.740142\tvalid_1's auc: 0.724264\n",
      "[1000]\ttraining's auc: 0.760505\tvalid_1's auc: 0.737145\n",
      "Did not meet early stopping. Best iteration is:\n",
      "[1000]\ttraining's auc: 0.760505\tvalid_1's auc: 0.737145\n"
     ]
    },
    {
     "name": "stderr",
     "output_type": "stream",
     "text": [
      "\u001b[32m[I 2022-12-02 20:09:31,852]\u001b[0m Trial 61 finished with value: 0.7371448897728994 and parameters: {'bagging_fraction': 0.55, 'seed': 42, 'lr': 0.01, 'n_iter': 1000, 'max_depth': -1, 'patience': 35, 'feature_fraction': 0.63, 'num_leaves': 500}. Best is trial 22 with value: 0.7371448897728994.\u001b[0m\n"
     ]
    },
    {
     "name": "stdout",
     "output_type": "stream",
     "text": [
      "Training until validation scores don't improve for 40 rounds\n",
      "[500]\ttraining's auc: 0.740142\tvalid_1's auc: 0.724264\n",
      "[1000]\ttraining's auc: 0.760505\tvalid_1's auc: 0.737145\n",
      "Did not meet early stopping. Best iteration is:\n",
      "[1000]\ttraining's auc: 0.760505\tvalid_1's auc: 0.737145\n"
     ]
    },
    {
     "name": "stderr",
     "output_type": "stream",
     "text": [
      "\u001b[32m[I 2022-12-02 20:13:33,445]\u001b[0m Trial 62 finished with value: 0.7371448897728994 and parameters: {'bagging_fraction': 0.55, 'seed': 42, 'lr': 0.01, 'n_iter': 1000, 'max_depth': -1, 'patience': 40, 'feature_fraction': 0.63, 'num_leaves': 500}. Best is trial 22 with value: 0.7371448897728994.\u001b[0m\n"
     ]
    },
    {
     "name": "stdout",
     "output_type": "stream",
     "text": [
      "Training until validation scores don't improve for 40 rounds\n",
      "[500]\ttraining's auc: 0.740142\tvalid_1's auc: 0.724264\n",
      "[1000]\ttraining's auc: 0.760505\tvalid_1's auc: 0.737145\n",
      "Did not meet early stopping. Best iteration is:\n",
      "[1000]\ttraining's auc: 0.760505\tvalid_1's auc: 0.737145\n"
     ]
    },
    {
     "name": "stderr",
     "output_type": "stream",
     "text": [
      "\u001b[32m[I 2022-12-02 20:17:35,895]\u001b[0m Trial 63 finished with value: 0.7371448897728994 and parameters: {'bagging_fraction': 0.53, 'seed': 42, 'lr': 0.01, 'n_iter': 1000, 'max_depth': -1, 'patience': 40, 'feature_fraction': 0.63, 'num_leaves': 500}. Best is trial 22 with value: 0.7371448897728994.\u001b[0m\n"
     ]
    },
    {
     "name": "stdout",
     "output_type": "stream",
     "text": [
      "Training until validation scores don't improve for 40 rounds\n",
      "[500]\ttraining's auc: 0.737221\tvalid_1's auc: 0.721691\n",
      "[1000]\ttraining's auc: 0.75725\tvalid_1's auc: 0.735286\n",
      "Did not meet early stopping. Best iteration is:\n",
      "[1000]\ttraining's auc: 0.75725\tvalid_1's auc: 0.735286\n"
     ]
    },
    {
     "name": "stderr",
     "output_type": "stream",
     "text": [
      "\u001b[32m[I 2022-12-02 20:22:15,056]\u001b[0m Trial 64 finished with value: 0.7352860267410417 and parameters: {'bagging_fraction': 0.51, 'seed': 42, 'lr': 0.01, 'n_iter': 1000, 'max_depth': -1, 'patience': 40, 'feature_fraction': 0.64, 'num_leaves': 450}. Best is trial 22 with value: 0.7371448897728994.\u001b[0m\n"
     ]
    },
    {
     "name": "stdout",
     "output_type": "stream",
     "text": [
      "Training until validation scores don't improve for 35 rounds\n",
      "[500]\ttraining's auc: 0.737221\tvalid_1's auc: 0.721691\n",
      "[1000]\ttraining's auc: 0.75725\tvalid_1's auc: 0.735286\n",
      "Did not meet early stopping. Best iteration is:\n",
      "[1000]\ttraining's auc: 0.75725\tvalid_1's auc: 0.735286\n"
     ]
    },
    {
     "name": "stderr",
     "output_type": "stream",
     "text": [
      "\u001b[32m[I 2022-12-02 20:26:26,325]\u001b[0m Trial 65 finished with value: 0.7352860267410417 and parameters: {'bagging_fraction': 0.55, 'seed': 42, 'lr': 0.01, 'n_iter': 1000, 'max_depth': -1, 'patience': 35, 'feature_fraction': 0.61, 'num_leaves': 450}. Best is trial 22 with value: 0.7371448897728994.\u001b[0m\n"
     ]
    },
    {
     "name": "stdout",
     "output_type": "stream",
     "text": [
      "Training until validation scores don't improve for 40 rounds\n",
      "[500]\ttraining's auc: 0.722775\tvalid_1's auc: 0.709599\n",
      "[1000]\ttraining's auc: 0.739866\tvalid_1's auc: 0.722987\n",
      "Did not meet early stopping. Best iteration is:\n",
      "[1000]\ttraining's auc: 0.739866\tvalid_1's auc: 0.722987\n"
     ]
    },
    {
     "name": "stderr",
     "output_type": "stream",
     "text": [
      "\u001b[32m[I 2022-12-02 20:30:18,605]\u001b[0m Trial 66 finished with value: 0.7229872522798074 and parameters: {'bagging_fraction': 0.53, 'seed': 42, 'lr': 0.01, 'n_iter': 1000, 'max_depth': -1, 'patience': 40, 'feature_fraction': 0.63, 'num_leaves': 250}. Best is trial 22 with value: 0.7371448897728994.\u001b[0m\n"
     ]
    },
    {
     "name": "stdout",
     "output_type": "stream",
     "text": [
      "Training until validation scores don't improve for 40 rounds\n",
      "[500]\ttraining's auc: 0.740142\tvalid_1's auc: 0.724264\n",
      "[1000]\ttraining's auc: 0.760505\tvalid_1's auc: 0.737145\n",
      "Did not meet early stopping. Best iteration is:\n",
      "[1000]\ttraining's auc: 0.760505\tvalid_1's auc: 0.737145\n"
     ]
    },
    {
     "name": "stderr",
     "output_type": "stream",
     "text": [
      "\u001b[32m[I 2022-12-02 20:34:39,305]\u001b[0m Trial 67 finished with value: 0.7371448897728994 and parameters: {'bagging_fraction': 0.53, 'seed': 11, 'lr': 0.01, 'n_iter': 1000, 'max_depth': -1, 'patience': 40, 'feature_fraction': 0.63, 'num_leaves': 500}. Best is trial 22 with value: 0.7371448897728994.\u001b[0m\n"
     ]
    },
    {
     "name": "stdout",
     "output_type": "stream",
     "text": [
      "Training until validation scores don't improve for 35 rounds\n"
     ]
    },
    {
     "name": "stderr",
     "output_type": "stream",
     "text": [
      "\u001b[32m[I 2022-12-02 20:34:51,099]\u001b[0m Trial 68 finished with value: 0.6937194676900618 and parameters: {'bagging_fraction': 0.71, 'seed': 11, 'lr': 0.0001, 'n_iter': 1000, 'max_depth': -1, 'patience': 35, 'feature_fraction': 0.5700000000000001, 'num_leaves': 500}. Best is trial 22 with value: 0.7371448897728994.\u001b[0m\n"
     ]
    },
    {
     "name": "stdout",
     "output_type": "stream",
     "text": [
      "Early stopping, best iteration is:\n",
      "[9]\ttraining's auc: 0.703032\tvalid_1's auc: 0.693719\n",
      "Training until validation scores don't improve for 35 rounds\n",
      "[500]\ttraining's auc: 0.737221\tvalid_1's auc: 0.721691\n",
      "[1000]\ttraining's auc: 0.75725\tvalid_1's auc: 0.735286\n",
      "Did not meet early stopping. Best iteration is:\n",
      "[1000]\ttraining's auc: 0.75725\tvalid_1's auc: 0.735286\n"
     ]
    },
    {
     "name": "stderr",
     "output_type": "stream",
     "text": [
      "\u001b[32m[I 2022-12-02 20:39:14,642]\u001b[0m Trial 69 finished with value: 0.7352860267410417 and parameters: {'bagging_fraction': 0.5700000000000001, 'seed': 42, 'lr': 0.01, 'n_iter': 1000, 'max_depth': -1, 'patience': 35, 'feature_fraction': 0.62, 'num_leaves': 450}. Best is trial 22 with value: 0.7371448897728994.\u001b[0m\n"
     ]
    },
    {
     "name": "stdout",
     "output_type": "stream",
     "text": [
      "Training until validation scores don't improve for 35 rounds\n"
     ]
    },
    {
     "name": "stderr",
     "output_type": "stream",
     "text": [
      "\u001b[32m[I 2022-12-02 20:39:24,426]\u001b[0m Trial 70 finished with value: 0.6935282272705454 and parameters: {'bagging_fraction': 0.67, 'seed': 11, 'lr': 0.0005, 'n_iter': 1000, 'max_depth': -1, 'patience': 35, 'feature_fraction': 0.6, 'num_leaves': 500}. Best is trial 22 with value: 0.7371448897728994.\u001b[0m\n"
     ]
    },
    {
     "name": "stdout",
     "output_type": "stream",
     "text": [
      "Early stopping, best iteration is:\n",
      "[9]\ttraining's auc: 0.703051\tvalid_1's auc: 0.693528\n",
      "Training until validation scores don't improve for 30 rounds\n",
      "[500]\ttraining's auc: 0.740142\tvalid_1's auc: 0.724264\n",
      "[1000]\ttraining's auc: 0.760505\tvalid_1's auc: 0.737145\n",
      "Did not meet early stopping. Best iteration is:\n",
      "[1000]\ttraining's auc: 0.760505\tvalid_1's auc: 0.737145\n"
     ]
    },
    {
     "name": "stderr",
     "output_type": "stream",
     "text": [
      "\u001b[32m[I 2022-12-02 20:43:36,965]\u001b[0m Trial 71 finished with value: 0.7371448897728994 and parameters: {'bagging_fraction': 0.6, 'seed': 42, 'lr': 0.01, 'n_iter': 1000, 'max_depth': -1, 'patience': 30, 'feature_fraction': 0.61, 'num_leaves': 500}. Best is trial 22 with value: 0.7371448897728994.\u001b[0m\n"
     ]
    },
    {
     "name": "stdout",
     "output_type": "stream",
     "text": [
      "Training until validation scores don't improve for 30 rounds\n",
      "[500]\ttraining's auc: 0.740142\tvalid_1's auc: 0.724264\n",
      "[1000]\ttraining's auc: 0.760505\tvalid_1's auc: 0.737145\n",
      "Did not meet early stopping. Best iteration is:\n",
      "[1000]\ttraining's auc: 0.760505\tvalid_1's auc: 0.737145\n"
     ]
    },
    {
     "name": "stderr",
     "output_type": "stream",
     "text": [
      "\u001b[32m[I 2022-12-02 20:48:03,979]\u001b[0m Trial 72 finished with value: 0.7371448897728994 and parameters: {'bagging_fraction': 0.6, 'seed': 42, 'lr': 0.01, 'n_iter': 1000, 'max_depth': -1, 'patience': 30, 'feature_fraction': 0.61, 'num_leaves': 500}. Best is trial 22 with value: 0.7371448897728994.\u001b[0m\n"
     ]
    },
    {
     "name": "stdout",
     "output_type": "stream",
     "text": [
      "Training until validation scores don't improve for 35 rounds\n",
      "[500]\ttraining's auc: 0.740142\tvalid_1's auc: 0.724264\n",
      "[1000]\ttraining's auc: 0.760505\tvalid_1's auc: 0.737145\n",
      "Did not meet early stopping. Best iteration is:\n",
      "[1000]\ttraining's auc: 0.760505\tvalid_1's auc: 0.737145\n"
     ]
    },
    {
     "name": "stderr",
     "output_type": "stream",
     "text": [
      "\u001b[32m[I 2022-12-02 20:52:29,161]\u001b[0m Trial 73 finished with value: 0.7371448897728994 and parameters: {'bagging_fraction': 0.58, 'seed': 42, 'lr': 0.01, 'n_iter': 1000, 'max_depth': -1, 'patience': 35, 'feature_fraction': 0.66, 'num_leaves': 500}. Best is trial 22 with value: 0.7371448897728994.\u001b[0m\n"
     ]
    },
    {
     "name": "stdout",
     "output_type": "stream",
     "text": [
      "Training until validation scores don't improve for 35 rounds\n",
      "[500]\ttraining's auc: 0.740142\tvalid_1's auc: 0.724264\n",
      "[1000]\ttraining's auc: 0.760505\tvalid_1's auc: 0.737145\n",
      "Did not meet early stopping. Best iteration is:\n",
      "[1000]\ttraining's auc: 0.760505\tvalid_1's auc: 0.737145\n"
     ]
    },
    {
     "name": "stderr",
     "output_type": "stream",
     "text": [
      "\u001b[32m[I 2022-12-02 20:56:56,407]\u001b[0m Trial 74 finished with value: 0.7371448897728994 and parameters: {'bagging_fraction': 0.58, 'seed': 42, 'lr': 0.01, 'n_iter': 1000, 'max_depth': -1, 'patience': 35, 'feature_fraction': 0.66, 'num_leaves': 500}. Best is trial 22 with value: 0.7371448897728994.\u001b[0m\n"
     ]
    },
    {
     "name": "stdout",
     "output_type": "stream",
     "text": [
      "Training until validation scores don't improve for 25 rounds\n",
      "[500]\ttraining's auc: 0.737221\tvalid_1's auc: 0.721691\n",
      "[1000]\ttraining's auc: 0.75725\tvalid_1's auc: 0.735286\n",
      "Did not meet early stopping. Best iteration is:\n",
      "[1000]\ttraining's auc: 0.75725\tvalid_1's auc: 0.735286\n"
     ]
    },
    {
     "name": "stderr",
     "output_type": "stream",
     "text": [
      "\u001b[32m[I 2022-12-02 21:00:58,444]\u001b[0m Trial 75 finished with value: 0.7352860267410417 and parameters: {'bagging_fraction': 0.58, 'seed': 42, 'lr': 0.01, 'n_iter': 1000, 'max_depth': -1, 'patience': 25, 'feature_fraction': 0.59, 'num_leaves': 450}. Best is trial 22 with value: 0.7371448897728994.\u001b[0m\n"
     ]
    },
    {
     "name": "stdout",
     "output_type": "stream",
     "text": [
      "Training until validation scores don't improve for 40 rounds\n",
      "[500]\ttraining's auc: 0.740142\tvalid_1's auc: 0.724264\n",
      "[1000]\ttraining's auc: 0.760505\tvalid_1's auc: 0.737145\n",
      "Did not meet early stopping. Best iteration is:\n",
      "[1000]\ttraining's auc: 0.760505\tvalid_1's auc: 0.737145\n"
     ]
    },
    {
     "name": "stderr",
     "output_type": "stream",
     "text": [
      "\u001b[32m[I 2022-12-02 21:05:05,544]\u001b[0m Trial 76 finished with value: 0.7371448897728994 and parameters: {'bagging_fraction': 0.55, 'seed': 42, 'lr': 0.01, 'n_iter': 1000, 'max_depth': -1, 'patience': 40, 'feature_fraction': 0.64, 'num_leaves': 500}. Best is trial 22 with value: 0.7371448897728994.\u001b[0m\n"
     ]
    },
    {
     "name": "stdout",
     "output_type": "stream",
     "text": [
      "Training until validation scores don't improve for 20 rounds\n"
     ]
    },
    {
     "name": "stderr",
     "output_type": "stream",
     "text": [
      "\u001b[32m[I 2022-12-02 21:05:11,822]\u001b[0m Trial 77 finished with value: 0.6933342174805128 and parameters: {'bagging_fraction': 0.51, 'seed': 42, 'lr': 0.01, 'n_iter': 1000, 'max_depth': -1, 'patience': 20, 'feature_fraction': 0.58, 'num_leaves': 500}. Best is trial 22 with value: 0.7371448897728994.\u001b[0m\n"
     ]
    },
    {
     "name": "stdout",
     "output_type": "stream",
     "text": [
      "Early stopping, best iteration is:\n",
      "[9]\ttraining's auc: 0.703716\tvalid_1's auc: 0.693334\n",
      "Training until validation scores don't improve for 40 rounds\n"
     ]
    },
    {
     "name": "stderr",
     "output_type": "stream",
     "text": [
      "\u001b[32m[I 2022-12-02 21:05:22,890]\u001b[0m Trial 78 finished with value: 0.6937480845187265 and parameters: {'bagging_fraction': 0.55, 'seed': 42, 'lr': 0.005, 'n_iter': 1000, 'max_depth': -1, 'patience': 40, 'feature_fraction': 0.65, 'num_leaves': 500}. Best is trial 22 with value: 0.7371448897728994.\u001b[0m\n"
     ]
    },
    {
     "name": "stdout",
     "output_type": "stream",
     "text": [
      "Early stopping, best iteration is:\n",
      "[9]\ttraining's auc: 0.703439\tvalid_1's auc: 0.693748\n",
      "Training until validation scores don't improve for 25 rounds\n",
      "[500]\ttraining's auc: 0.737221\tvalid_1's auc: 0.721691\n",
      "[1000]\ttraining's auc: 0.75725\tvalid_1's auc: 0.735286\n",
      "Did not meet early stopping. Best iteration is:\n",
      "[1000]\ttraining's auc: 0.75725\tvalid_1's auc: 0.735286\n"
     ]
    },
    {
     "name": "stderr",
     "output_type": "stream",
     "text": [
      "\u001b[32m[I 2022-12-02 21:09:27,648]\u001b[0m Trial 79 finished with value: 0.7352860267410417 and parameters: {'bagging_fraction': 0.56, 'seed': 42, 'lr': 0.01, 'n_iter': 1000, 'max_depth': -1, 'patience': 25, 'feature_fraction': 0.62, 'num_leaves': 450}. Best is trial 22 with value: 0.7371448897728994.\u001b[0m\n"
     ]
    },
    {
     "name": "stdout",
     "output_type": "stream",
     "text": [
      "Training until validation scores don't improve for 40 rounds\n"
     ]
    },
    {
     "name": "stderr",
     "output_type": "stream",
     "text": [
      "\u001b[32m[I 2022-12-02 21:09:38,819]\u001b[0m Trial 80 finished with value: 0.6912221109003654 and parameters: {'bagging_fraction': 0.51, 'seed': 11, 'lr': 0.001, 'n_iter': 1000, 'max_depth': -1, 'patience': 40, 'feature_fraction': 0.63, 'num_leaves': 450}. Best is trial 22 with value: 0.7371448897728994.\u001b[0m\n"
     ]
    },
    {
     "name": "stdout",
     "output_type": "stream",
     "text": [
      "Early stopping, best iteration is:\n",
      "[12]\ttraining's auc: 0.701605\tvalid_1's auc: 0.691222\n",
      "Training until validation scores don't improve for 40 rounds\n",
      "[500]\ttraining's auc: 0.740142\tvalid_1's auc: 0.724264\n",
      "[1000]\ttraining's auc: 0.760505\tvalid_1's auc: 0.737145\n",
      "Did not meet early stopping. Best iteration is:\n",
      "[1000]\ttraining's auc: 0.760505\tvalid_1's auc: 0.737145\n"
     ]
    },
    {
     "name": "stderr",
     "output_type": "stream",
     "text": [
      "\u001b[32m[I 2022-12-02 21:13:50,246]\u001b[0m Trial 81 finished with value: 0.7371448897728994 and parameters: {'bagging_fraction': 0.53, 'seed': 11, 'lr': 0.01, 'n_iter': 1000, 'max_depth': -1, 'patience': 40, 'feature_fraction': 0.63, 'num_leaves': 500}. Best is trial 22 with value: 0.7371448897728994.\u001b[0m\n"
     ]
    },
    {
     "name": "stdout",
     "output_type": "stream",
     "text": [
      "Training until validation scores don't improve for 40 rounds\n",
      "[500]\ttraining's auc: 0.740142\tvalid_1's auc: 0.724264\n",
      "[1000]\ttraining's auc: 0.760505\tvalid_1's auc: 0.737145\n",
      "Did not meet early stopping. Best iteration is:\n",
      "[1000]\ttraining's auc: 0.760505\tvalid_1's auc: 0.737145\n"
     ]
    },
    {
     "name": "stderr",
     "output_type": "stream",
     "text": [
      "\u001b[32m[I 2022-12-02 21:18:27,888]\u001b[0m Trial 82 finished with value: 0.7371448897728994 and parameters: {'bagging_fraction': 0.53, 'seed': 11, 'lr': 0.01, 'n_iter': 1000, 'max_depth': -1, 'patience': 40, 'feature_fraction': 0.63, 'num_leaves': 500}. Best is trial 22 with value: 0.7371448897728994.\u001b[0m\n"
     ]
    },
    {
     "name": "stdout",
     "output_type": "stream",
     "text": [
      "Training until validation scores don't improve for 25 rounds\n",
      "[500]\ttraining's auc: 0.740142\tvalid_1's auc: 0.724264\n",
      "[1000]\ttraining's auc: 0.760505\tvalid_1's auc: 0.737145\n",
      "Did not meet early stopping. Best iteration is:\n",
      "[1000]\ttraining's auc: 0.760505\tvalid_1's auc: 0.737145\n"
     ]
    },
    {
     "name": "stderr",
     "output_type": "stream",
     "text": [
      "\u001b[32m[I 2022-12-02 21:22:36,968]\u001b[0m Trial 83 finished with value: 0.7371448897728994 and parameters: {'bagging_fraction': 0.54, 'seed': 11, 'lr': 0.01, 'n_iter': 1000, 'max_depth': -1, 'patience': 25, 'feature_fraction': 0.6, 'num_leaves': 500}. Best is trial 22 with value: 0.7371448897728994.\u001b[0m\n"
     ]
    },
    {
     "name": "stdout",
     "output_type": "stream",
     "text": [
      "Training until validation scores don't improve for 25 rounds\n"
     ]
    },
    {
     "name": "stderr",
     "output_type": "stream",
     "text": [
      "\u001b[32m[I 2022-12-02 21:22:44,084]\u001b[0m Trial 84 finished with value: 0.693765777719245 and parameters: {'bagging_fraction': 0.54, 'seed': 11, 'lr': 0.01, 'n_iter': 1000, 'max_depth': -1, 'patience': 25, 'feature_fraction': 0.55, 'num_leaves': 500}. Best is trial 22 with value: 0.7371448897728994.\u001b[0m\n"
     ]
    },
    {
     "name": "stdout",
     "output_type": "stream",
     "text": [
      "Early stopping, best iteration is:\n",
      "[5]\ttraining's auc: 0.700334\tvalid_1's auc: 0.693766\n",
      "Training until validation scores don't improve for 20 rounds\n"
     ]
    },
    {
     "name": "stderr",
     "output_type": "stream",
     "text": [
      "\u001b[32m[I 2022-12-02 21:22:50,630]\u001b[0m Trial 85 finished with value: 0.6933342174805128 and parameters: {'bagging_fraction': 0.55, 'seed': 42, 'lr': 0.01, 'n_iter': 1000, 'max_depth': -1, 'patience': 20, 'feature_fraction': 0.6, 'num_leaves': 500}. Best is trial 22 with value: 0.7371448897728994.\u001b[0m\n"
     ]
    },
    {
     "name": "stdout",
     "output_type": "stream",
     "text": [
      "Early stopping, best iteration is:\n",
      "[9]\ttraining's auc: 0.703716\tvalid_1's auc: 0.693334\n",
      "Training until validation scores don't improve for 25 rounds\n",
      "[500]\ttraining's auc: 0.740142\tvalid_1's auc: 0.724264\n",
      "[1000]\ttraining's auc: 0.760505\tvalid_1's auc: 0.737145\n",
      "Did not meet early stopping. Best iteration is:\n",
      "[1000]\ttraining's auc: 0.760505\tvalid_1's auc: 0.737145\n"
     ]
    },
    {
     "name": "stderr",
     "output_type": "stream",
     "text": [
      "\u001b[32m[I 2022-12-02 21:27:14,554]\u001b[0m Trial 86 finished with value: 0.7371448897728994 and parameters: {'bagging_fraction': 0.56, 'seed': 42, 'lr': 0.01, 'n_iter': 1000, 'max_depth': -1, 'patience': 25, 'feature_fraction': 0.58, 'num_leaves': 500}. Best is trial 22 with value: 0.7371448897728994.\u001b[0m\n"
     ]
    },
    {
     "name": "stdout",
     "output_type": "stream",
     "text": [
      "Training until validation scores don't improve for 25 rounds\n"
     ]
    },
    {
     "name": "stderr",
     "output_type": "stream",
     "text": [
      "\u001b[32m[I 2022-12-02 21:27:22,552]\u001b[0m Trial 87 finished with value: 0.6913284239573936 and parameters: {'bagging_fraction': 0.63, 'seed': 42, 'lr': 0.0001, 'n_iter': 1000, 'max_depth': -1, 'patience': 25, 'feature_fraction': 0.58, 'num_leaves': 450}. Best is trial 22 with value: 0.7371448897728994.\u001b[0m\n"
     ]
    },
    {
     "name": "stdout",
     "output_type": "stream",
     "text": [
      "Early stopping, best iteration is:\n",
      "[12]\ttraining's auc: 0.701513\tvalid_1's auc: 0.691328\n",
      "Training until validation scores don't improve for 30 rounds\n",
      "[500]\ttraining's auc: 0.740142\tvalid_1's auc: 0.724264\n",
      "[1000]\ttraining's auc: 0.760505\tvalid_1's auc: 0.737145\n",
      "Did not meet early stopping. Best iteration is:\n",
      "[1000]\ttraining's auc: 0.760505\tvalid_1's auc: 0.737145\n"
     ]
    },
    {
     "name": "stderr",
     "output_type": "stream",
     "text": [
      "\u001b[32m[I 2022-12-02 21:31:29,338]\u001b[0m Trial 88 finished with value: 0.7371448897728994 and parameters: {'bagging_fraction': 0.6, 'seed': 42, 'lr': 0.01, 'n_iter': 1000, 'max_depth': -1, 'patience': 30, 'feature_fraction': 0.61, 'num_leaves': 500}. Best is trial 22 with value: 0.7371448897728994.\u001b[0m\n"
     ]
    },
    {
     "name": "stdout",
     "output_type": "stream",
     "text": [
      "Training until validation scores don't improve for 20 rounds\n"
     ]
    },
    {
     "name": "stderr",
     "output_type": "stream",
     "text": [
      "\u001b[32m[I 2022-12-02 21:31:35,121]\u001b[0m Trial 89 finished with value: 0.693765777719245 and parameters: {'bagging_fraction': 0.52, 'seed': 42, 'lr': 0.01, 'n_iter': 1000, 'max_depth': -1, 'patience': 20, 'feature_fraction': 0.55, 'num_leaves': 500}. Best is trial 22 with value: 0.7371448897728994.\u001b[0m\n"
     ]
    },
    {
     "name": "stdout",
     "output_type": "stream",
     "text": [
      "Early stopping, best iteration is:\n",
      "[5]\ttraining's auc: 0.700334\tvalid_1's auc: 0.693766\n",
      "Training until validation scores don't improve for 40 rounds\n",
      "[500]\ttraining's auc: 0.737221\tvalid_1's auc: 0.721691\n",
      "[1000]\ttraining's auc: 0.75725\tvalid_1's auc: 0.735286\n",
      "Did not meet early stopping. Best iteration is:\n",
      "[1000]\ttraining's auc: 0.75725\tvalid_1's auc: 0.735286\n"
     ]
    },
    {
     "name": "stderr",
     "output_type": "stream",
     "text": [
      "\u001b[32m[I 2022-12-02 21:35:39,097]\u001b[0m Trial 90 finished with value: 0.7352860267410417 and parameters: {'bagging_fraction': 0.5700000000000001, 'seed': 42, 'lr': 0.01, 'n_iter': 1000, 'max_depth': -1, 'patience': 40, 'feature_fraction': 0.67, 'num_leaves': 450}. Best is trial 22 with value: 0.7371448897728994.\u001b[0m\n"
     ]
    },
    {
     "name": "stdout",
     "output_type": "stream",
     "text": [
      "Training until validation scores don't improve for 40 rounds\n",
      "[500]\ttraining's auc: 0.740142\tvalid_1's auc: 0.724264\n",
      "[1000]\ttraining's auc: 0.760505\tvalid_1's auc: 0.737145\n",
      "Did not meet early stopping. Best iteration is:\n",
      "[1000]\ttraining's auc: 0.760505\tvalid_1's auc: 0.737145\n"
     ]
    },
    {
     "name": "stderr",
     "output_type": "stream",
     "text": [
      "\u001b[32m[I 2022-12-02 21:40:29,397]\u001b[0m Trial 91 finished with value: 0.7371448897728994 and parameters: {'bagging_fraction': 0.52, 'seed': 42, 'lr': 0.01, 'n_iter': 1000, 'max_depth': -1, 'patience': 40, 'feature_fraction': 0.62, 'num_leaves': 500}. Best is trial 22 with value: 0.7371448897728994.\u001b[0m\n"
     ]
    },
    {
     "name": "stdout",
     "output_type": "stream",
     "text": [
      "Training until validation scores don't improve for 40 rounds\n",
      "[500]\ttraining's auc: 0.740142\tvalid_1's auc: 0.724264\n",
      "[1000]\ttraining's auc: 0.760505\tvalid_1's auc: 0.737145\n",
      "Did not meet early stopping. Best iteration is:\n",
      "[1000]\ttraining's auc: 0.760505\tvalid_1's auc: 0.737145\n"
     ]
    },
    {
     "name": "stderr",
     "output_type": "stream",
     "text": [
      "\u001b[32m[I 2022-12-02 21:44:52,111]\u001b[0m Trial 92 finished with value: 0.7371448897728994 and parameters: {'bagging_fraction': 0.62, 'seed': 42, 'lr': 0.01, 'n_iter': 1000, 'max_depth': -1, 'patience': 40, 'feature_fraction': 0.64, 'num_leaves': 500}. Best is trial 22 with value: 0.7371448897728994.\u001b[0m\n"
     ]
    },
    {
     "name": "stdout",
     "output_type": "stream",
     "text": [
      "Training until validation scores don't improve for 40 rounds\n",
      "[500]\ttraining's auc: 0.740142\tvalid_1's auc: 0.724264\n",
      "[1000]\ttraining's auc: 0.760505\tvalid_1's auc: 0.737145\n",
      "Did not meet early stopping. Best iteration is:\n",
      "[1000]\ttraining's auc: 0.760505\tvalid_1's auc: 0.737145\n"
     ]
    },
    {
     "name": "stderr",
     "output_type": "stream",
     "text": [
      "\u001b[32m[I 2022-12-02 21:49:13,972]\u001b[0m Trial 93 finished with value: 0.7371448897728994 and parameters: {'bagging_fraction': 0.5, 'seed': 42, 'lr': 0.01, 'n_iter': 1000, 'max_depth': -1, 'patience': 40, 'feature_fraction': 0.64, 'num_leaves': 500}. Best is trial 22 with value: 0.7371448897728994.\u001b[0m\n"
     ]
    },
    {
     "name": "stdout",
     "output_type": "stream",
     "text": [
      "Training until validation scores don't improve for 40 rounds\n",
      "[500]\ttraining's auc: 0.740142\tvalid_1's auc: 0.724264\n",
      "[1000]\ttraining's auc: 0.760505\tvalid_1's auc: 0.737145\n",
      "Did not meet early stopping. Best iteration is:\n",
      "[1000]\ttraining's auc: 0.760505\tvalid_1's auc: 0.737145\n"
     ]
    },
    {
     "name": "stderr",
     "output_type": "stream",
     "text": [
      "\u001b[32m[I 2022-12-02 21:53:27,869]\u001b[0m Trial 94 finished with value: 0.7371448897728994 and parameters: {'bagging_fraction': 0.5, 'seed': 42, 'lr': 0.01, 'n_iter': 1000, 'max_depth': -1, 'patience': 40, 'feature_fraction': 0.65, 'num_leaves': 500}. Best is trial 22 with value: 0.7371448897728994.\u001b[0m\n"
     ]
    },
    {
     "name": "stdout",
     "output_type": "stream",
     "text": [
      "Training until validation scores don't improve for 35 rounds\n",
      "[500]\ttraining's auc: 0.740142\tvalid_1's auc: 0.724264\n",
      "[1000]\ttraining's auc: 0.760505\tvalid_1's auc: 0.737145\n",
      "Did not meet early stopping. Best iteration is:\n",
      "[1000]\ttraining's auc: 0.760505\tvalid_1's auc: 0.737145\n"
     ]
    },
    {
     "name": "stderr",
     "output_type": "stream",
     "text": [
      "\u001b[32m[I 2022-12-02 21:57:33,602]\u001b[0m Trial 95 finished with value: 0.7371448897728994 and parameters: {'bagging_fraction': 0.58, 'seed': 42, 'lr': 0.01, 'n_iter': 1000, 'max_depth': -1, 'patience': 35, 'feature_fraction': 0.66, 'num_leaves': 500}. Best is trial 22 with value: 0.7371448897728994.\u001b[0m\n"
     ]
    },
    {
     "name": "stdout",
     "output_type": "stream",
     "text": [
      "Training until validation scores don't improve for 35 rounds\n"
     ]
    },
    {
     "name": "stderr",
     "output_type": "stream",
     "text": [
      "\u001b[32m[I 2022-12-02 21:57:43,503]\u001b[0m Trial 96 finished with value: 0.6935282272705454 and parameters: {'bagging_fraction': 0.58, 'seed': 42, 'lr': 0.0005, 'n_iter': 1000, 'max_depth': -1, 'patience': 35, 'feature_fraction': 0.66, 'num_leaves': 500}. Best is trial 22 with value: 0.7371448897728994.\u001b[0m\n"
     ]
    },
    {
     "name": "stdout",
     "output_type": "stream",
     "text": [
      "Early stopping, best iteration is:\n",
      "[9]\ttraining's auc: 0.703051\tvalid_1's auc: 0.693528\n",
      "Training until validation scores don't improve for 35 rounds\n",
      "[500]\ttraining's auc: 0.737221\tvalid_1's auc: 0.721691\n",
      "[1000]\ttraining's auc: 0.75725\tvalid_1's auc: 0.735286\n",
      "Did not meet early stopping. Best iteration is:\n",
      "[1000]\ttraining's auc: 0.75725\tvalid_1's auc: 0.735286\n"
     ]
    },
    {
     "name": "stderr",
     "output_type": "stream",
     "text": [
      "\u001b[32m[I 2022-12-02 22:02:00,000]\u001b[0m Trial 97 finished with value: 0.7352860267410417 and parameters: {'bagging_fraction': 0.6, 'seed': 42, 'lr': 0.01, 'n_iter': 1000, 'max_depth': -1, 'patience': 35, 'feature_fraction': 0.6799999999999999, 'num_leaves': 450}. Best is trial 22 with value: 0.7371448897728994.\u001b[0m\n"
     ]
    },
    {
     "name": "stdout",
     "output_type": "stream",
     "text": [
      "Training until validation scores don't improve for 35 rounds\n",
      "[500]\ttraining's auc: 0.717106\tvalid_1's auc: 0.704767\n",
      "[1000]\ttraining's auc: 0.730879\tvalid_1's auc: 0.71658\n",
      "Did not meet early stopping. Best iteration is:\n",
      "[1000]\ttraining's auc: 0.730879\tvalid_1's auc: 0.71658\n"
     ]
    },
    {
     "name": "stderr",
     "output_type": "stream",
     "text": [
      "\u001b[32m[I 2022-12-02 22:05:59,602]\u001b[0m Trial 98 finished with value: 0.7165804674451266 and parameters: {'bagging_fraction': 0.56, 'seed': 42, 'lr': 0.005, 'n_iter': 1000, 'max_depth': -1, 'patience': 35, 'feature_fraction': 0.66, 'num_leaves': 350}. Best is trial 22 with value: 0.7371448897728994.\u001b[0m\n"
     ]
    },
    {
     "name": "stdout",
     "output_type": "stream",
     "text": [
      "Training until validation scores don't improve for 30 rounds\n",
      "[500]\ttraining's auc: 0.740142\tvalid_1's auc: 0.724264\n",
      "[1000]\ttraining's auc: 0.760505\tvalid_1's auc: 0.737145\n",
      "Did not meet early stopping. Best iteration is:\n",
      "[1000]\ttraining's auc: 0.760505\tvalid_1's auc: 0.737145\n"
     ]
    },
    {
     "name": "stderr",
     "output_type": "stream",
     "text": [
      "\u001b[32m[I 2022-12-02 22:10:02,741]\u001b[0m Trial 99 finished with value: 0.7371448897728994 and parameters: {'bagging_fraction': 0.6, 'seed': 11, 'lr': 0.01, 'n_iter': 1000, 'max_depth': -1, 'patience': 30, 'feature_fraction': 0.61, 'num_leaves': 500}. Best is trial 22 with value: 0.7371448897728994.\u001b[0m\n"
     ]
    },
    {
     "name": "stdout",
     "output_type": "stream",
     "text": [
      "Training until validation scores don't improve for 30 rounds\n"
     ]
    },
    {
     "name": "stderr",
     "output_type": "stream",
     "text": [
      "\u001b[32m[I 2022-12-02 22:10:11,330]\u001b[0m Trial 100 finished with value: 0.680628037845602 and parameters: {'bagging_fraction': 0.6, 'seed': 11, 'lr': 0.001, 'n_iter': 1000, 'max_depth': -1, 'patience': 30, 'feature_fraction': 0.61, 'num_leaves': 250}. Best is trial 22 with value: 0.7371448897728994.\u001b[0m\n"
     ]
    },
    {
     "name": "stdout",
     "output_type": "stream",
     "text": [
      "Early stopping, best iteration is:\n",
      "[10]\ttraining's auc: 0.691885\tvalid_1's auc: 0.680628\n",
      "Training until validation scores don't improve for 35 rounds\n",
      "[500]\ttraining's auc: 0.740142\tvalid_1's auc: 0.724264\n",
      "[1000]\ttraining's auc: 0.760505\tvalid_1's auc: 0.737145\n",
      "Did not meet early stopping. Best iteration is:\n",
      "[1000]\ttraining's auc: 0.760505\tvalid_1's auc: 0.737145\n"
     ]
    },
    {
     "name": "stderr",
     "output_type": "stream",
     "text": [
      "\u001b[32m[I 2022-12-02 22:14:49,906]\u001b[0m Trial 101 finished with value: 0.7371448897728994 and parameters: {'bagging_fraction': 0.73, 'seed': 11, 'lr': 0.01, 'n_iter': 1000, 'max_depth': -1, 'patience': 35, 'feature_fraction': 0.65, 'num_leaves': 500}. Best is trial 22 with value: 0.7371448897728994.\u001b[0m\n"
     ]
    },
    {
     "name": "stdout",
     "output_type": "stream",
     "text": [
      "Training until validation scores don't improve for 30 rounds\n",
      "[500]\ttraining's auc: 0.740142\tvalid_1's auc: 0.724264\n",
      "[1000]\ttraining's auc: 0.760505\tvalid_1's auc: 0.737145\n",
      "Did not meet early stopping. Best iteration is:\n",
      "[1000]\ttraining's auc: 0.760505\tvalid_1's auc: 0.737145\n"
     ]
    },
    {
     "name": "stderr",
     "output_type": "stream",
     "text": [
      "\u001b[32m[I 2022-12-02 22:19:29,730]\u001b[0m Trial 102 finished with value: 0.7371448897728994 and parameters: {'bagging_fraction': 0.75, 'seed': 11, 'lr': 0.01, 'n_iter': 1000, 'max_depth': -1, 'patience': 30, 'feature_fraction': 0.65, 'num_leaves': 500}. Best is trial 22 with value: 0.7371448897728994.\u001b[0m\n"
     ]
    },
    {
     "name": "stdout",
     "output_type": "stream",
     "text": [
      "Training until validation scores don't improve for 40 rounds\n",
      "[500]\ttraining's auc: 0.740142\tvalid_1's auc: 0.724264\n",
      "[1000]\ttraining's auc: 0.760505\tvalid_1's auc: 0.737145\n",
      "Did not meet early stopping. Best iteration is:\n",
      "[1000]\ttraining's auc: 0.760505\tvalid_1's auc: 0.737145\n"
     ]
    },
    {
     "name": "stderr",
     "output_type": "stream",
     "text": [
      "\u001b[32m[I 2022-12-02 22:23:59,402]\u001b[0m Trial 103 finished with value: 0.7371448897728994 and parameters: {'bagging_fraction': 0.62, 'seed': 11, 'lr': 0.01, 'n_iter': 1000, 'max_depth': -1, 'patience': 40, 'feature_fraction': 0.63, 'num_leaves': 500}. Best is trial 22 with value: 0.7371448897728994.\u001b[0m\n"
     ]
    },
    {
     "name": "stdout",
     "output_type": "stream",
     "text": [
      "Training until validation scores don't improve for 30 rounds\n",
      "[500]\ttraining's auc: 0.740142\tvalid_1's auc: 0.724264\n",
      "[1000]\ttraining's auc: 0.760505\tvalid_1's auc: 0.737145\n",
      "Did not meet early stopping. Best iteration is:\n",
      "[1000]\ttraining's auc: 0.760505\tvalid_1's auc: 0.737145\n"
     ]
    },
    {
     "name": "stderr",
     "output_type": "stream",
     "text": [
      "\u001b[32m[I 2022-12-02 22:28:10,902]\u001b[0m Trial 104 finished with value: 0.7371448897728994 and parameters: {'bagging_fraction': 0.54, 'seed': 11, 'lr': 0.01, 'n_iter': 1000, 'max_depth': -1, 'patience': 30, 'feature_fraction': 0.59, 'num_leaves': 500}. Best is trial 22 with value: 0.7371448897728994.\u001b[0m\n"
     ]
    },
    {
     "name": "stdout",
     "output_type": "stream",
     "text": [
      "Training until validation scores don't improve for 40 rounds\n",
      "[500]\ttraining's auc: 0.740142\tvalid_1's auc: 0.724264\n",
      "[1000]\ttraining's auc: 0.760505\tvalid_1's auc: 0.737145\n",
      "Did not meet early stopping. Best iteration is:\n",
      "[1000]\ttraining's auc: 0.760505\tvalid_1's auc: 0.737145\n"
     ]
    },
    {
     "name": "stderr",
     "output_type": "stream",
     "text": [
      "\u001b[32m[I 2022-12-02 22:32:19,999]\u001b[0m Trial 105 finished with value: 0.7371448897728994 and parameters: {'bagging_fraction': 0.62, 'seed': 42, 'lr': 0.01, 'n_iter': 1000, 'max_depth': -1, 'patience': 40, 'feature_fraction': 0.62, 'num_leaves': 500}. Best is trial 22 with value: 0.7371448897728994.\u001b[0m\n"
     ]
    },
    {
     "name": "stdout",
     "output_type": "stream",
     "text": [
      "Training until validation scores don't improve for 30 rounds\n",
      "[500]\ttraining's auc: 0.737221\tvalid_1's auc: 0.721691\n",
      "[1000]\ttraining's auc: 0.75725\tvalid_1's auc: 0.735286\n",
      "Did not meet early stopping. Best iteration is:\n",
      "[1000]\ttraining's auc: 0.75725\tvalid_1's auc: 0.735286\n"
     ]
    },
    {
     "name": "stderr",
     "output_type": "stream",
     "text": [
      "\u001b[32m[I 2022-12-02 22:36:25,995]\u001b[0m Trial 106 finished with value: 0.7352860267410417 and parameters: {'bagging_fraction': 0.53, 'seed': 42, 'lr': 0.01, 'n_iter': 1000, 'max_depth': -1, 'patience': 30, 'feature_fraction': 0.59, 'num_leaves': 450}. Best is trial 22 with value: 0.7371448897728994.\u001b[0m\n"
     ]
    },
    {
     "name": "stdout",
     "output_type": "stream",
     "text": [
      "Training until validation scores don't improve for 35 rounds\n",
      "[500]\ttraining's auc: 0.711795\tvalid_1's auc: 0.698287\n",
      "[1000]\ttraining's auc: 0.726778\tvalid_1's auc: 0.711301\n",
      "Did not meet early stopping. Best iteration is:\n",
      "[1000]\ttraining's auc: 0.726778\tvalid_1's auc: 0.711301\n"
     ]
    },
    {
     "name": "stderr",
     "output_type": "stream",
     "text": [
      "\u001b[32m[I 2022-12-02 22:40:03,053]\u001b[0m Trial 107 finished with value: 0.7113005087025931 and parameters: {'bagging_fraction': 0.77, 'seed': 42, 'lr': 0.01, 'n_iter': 1000, 'max_depth': -1, 'patience': 35, 'feature_fraction': 0.61, 'num_leaves': 150}. Best is trial 22 with value: 0.7371448897728994.\u001b[0m\n"
     ]
    },
    {
     "name": "stdout",
     "output_type": "stream",
     "text": [
      "Training until validation scores don't improve for 40 rounds\n"
     ]
    },
    {
     "name": "stderr",
     "output_type": "stream",
     "text": [
      "\u001b[32m[I 2022-12-02 22:40:15,396]\u001b[0m Trial 108 finished with value: 0.6937194676900618 and parameters: {'bagging_fraction': 0.55, 'seed': 11, 'lr': 0.0001, 'n_iter': 1000, 'max_depth': -1, 'patience': 40, 'feature_fraction': 0.62, 'num_leaves': 500}. Best is trial 22 with value: 0.7371448897728994.\u001b[0m\n"
     ]
    },
    {
     "name": "stdout",
     "output_type": "stream",
     "text": [
      "Early stopping, best iteration is:\n",
      "[9]\ttraining's auc: 0.703032\tvalid_1's auc: 0.693719\n",
      "Training until validation scores don't improve for 40 rounds\n",
      "[500]\ttraining's auc: 0.740142\tvalid_1's auc: 0.724264\n",
      "[1000]\ttraining's auc: 0.760505\tvalid_1's auc: 0.737145\n",
      "Did not meet early stopping. Best iteration is:\n",
      "[1000]\ttraining's auc: 0.760505\tvalid_1's auc: 0.737145\n"
     ]
    },
    {
     "name": "stderr",
     "output_type": "stream",
     "text": [
      "\u001b[32m[I 2022-12-02 22:44:51,521]\u001b[0m Trial 109 finished with value: 0.7371448897728994 and parameters: {'bagging_fraction': 0.54, 'seed': 11, 'lr': 0.01, 'n_iter': 1000, 'max_depth': -1, 'patience': 40, 'feature_fraction': 0.64, 'num_leaves': 500}. Best is trial 22 with value: 0.7371448897728994.\u001b[0m\n"
     ]
    },
    {
     "name": "stdout",
     "output_type": "stream",
     "text": [
      "Training until validation scores don't improve for 35 rounds\n",
      "[500]\ttraining's auc: 0.704133\tvalid_1's auc: 0.690655\n",
      "[1000]\ttraining's auc: 0.717465\tvalid_1's auc: 0.70298\n",
      "Did not meet early stopping. Best iteration is:\n",
      "[1000]\ttraining's auc: 0.717465\tvalid_1's auc: 0.70298\n"
     ]
    },
    {
     "name": "stderr",
     "output_type": "stream",
     "text": [
      "\u001b[32m[I 2022-12-02 22:48:29,887]\u001b[0m Trial 110 finished with value: 0.7029799349874886 and parameters: {'bagging_fraction': 0.5700000000000001, 'seed': 42, 'lr': 0.01, 'n_iter': 1000, 'max_depth': -1, 'patience': 35, 'feature_fraction': 0.5700000000000001, 'num_leaves': 100}. Best is trial 22 with value: 0.7371448897728994.\u001b[0m\n"
     ]
    },
    {
     "name": "stdout",
     "output_type": "stream",
     "text": [
      "Training until validation scores don't improve for 40 rounds\n",
      "[500]\ttraining's auc: 0.740142\tvalid_1's auc: 0.724264\n",
      "[1000]\ttraining's auc: 0.760505\tvalid_1's auc: 0.737145\n",
      "Did not meet early stopping. Best iteration is:\n",
      "[1000]\ttraining's auc: 0.760505\tvalid_1's auc: 0.737145\n"
     ]
    },
    {
     "name": "stderr",
     "output_type": "stream",
     "text": [
      "\u001b[32m[I 2022-12-02 22:52:46,741]\u001b[0m Trial 111 finished with value: 0.7371448897728994 and parameters: {'bagging_fraction': 0.5, 'seed': 42, 'lr': 0.01, 'n_iter': 1000, 'max_depth': -1, 'patience': 40, 'feature_fraction': 0.64, 'num_leaves': 500}. Best is trial 22 with value: 0.7371448897728994.\u001b[0m\n"
     ]
    },
    {
     "name": "stdout",
     "output_type": "stream",
     "text": [
      "Training until validation scores don't improve for 25 rounds\n",
      "[500]\ttraining's auc: 0.740142\tvalid_1's auc: 0.724264\n",
      "[1000]\ttraining's auc: 0.760505\tvalid_1's auc: 0.737145\n",
      "Did not meet early stopping. Best iteration is:\n",
      "[1000]\ttraining's auc: 0.760505\tvalid_1's auc: 0.737145\n"
     ]
    },
    {
     "name": "stderr",
     "output_type": "stream",
     "text": [
      "\u001b[32m[I 2022-12-02 22:56:51,727]\u001b[0m Trial 112 finished with value: 0.7371448897728994 and parameters: {'bagging_fraction': 0.59, 'seed': 11, 'lr': 0.01, 'n_iter': 1000, 'max_depth': -1, 'patience': 25, 'feature_fraction': 0.64, 'num_leaves': 500}. Best is trial 22 with value: 0.7371448897728994.\u001b[0m\n"
     ]
    },
    {
     "name": "stdout",
     "output_type": "stream",
     "text": [
      "Training until validation scores don't improve for 25 rounds\n",
      "[500]\ttraining's auc: 0.740142\tvalid_1's auc: 0.724264\n",
      "[1000]\ttraining's auc: 0.760505\tvalid_1's auc: 0.737145\n",
      "Did not meet early stopping. Best iteration is:\n",
      "[1000]\ttraining's auc: 0.760505\tvalid_1's auc: 0.737145\n"
     ]
    },
    {
     "name": "stderr",
     "output_type": "stream",
     "text": [
      "\u001b[32m[I 2022-12-02 23:00:59,960]\u001b[0m Trial 113 finished with value: 0.7371448897728994 and parameters: {'bagging_fraction': 0.59, 'seed': 11, 'lr': 0.01, 'n_iter': 1000, 'max_depth': -1, 'patience': 25, 'feature_fraction': 0.66, 'num_leaves': 500}. Best is trial 22 with value: 0.7371448897728994.\u001b[0m\n"
     ]
    },
    {
     "name": "stdout",
     "output_type": "stream",
     "text": [
      "Training until validation scores don't improve for 25 rounds\n",
      "[500]\ttraining's auc: 0.740142\tvalid_1's auc: 0.724264\n",
      "[1000]\ttraining's auc: 0.760505\tvalid_1's auc: 0.737145\n",
      "Did not meet early stopping. Best iteration is:\n",
      "[1000]\ttraining's auc: 0.760505\tvalid_1's auc: 0.737145\n"
     ]
    },
    {
     "name": "stderr",
     "output_type": "stream",
     "text": [
      "\u001b[32m[I 2022-12-02 23:05:06,508]\u001b[0m Trial 114 finished with value: 0.7371448897728994 and parameters: {'bagging_fraction': 0.53, 'seed': 11, 'lr': 0.01, 'n_iter': 1000, 'max_depth': -1, 'patience': 25, 'feature_fraction': 0.64, 'num_leaves': 500}. Best is trial 22 with value: 0.7371448897728994.\u001b[0m\n"
     ]
    },
    {
     "name": "stdout",
     "output_type": "stream",
     "text": [
      "Training until validation scores don't improve for 25 rounds\n",
      "[500]\ttraining's auc: 0.740142\tvalid_1's auc: 0.724264\n",
      "[1000]\ttraining's auc: 0.760505\tvalid_1's auc: 0.737145\n",
      "Did not meet early stopping. Best iteration is:\n",
      "[1000]\ttraining's auc: 0.760505\tvalid_1's auc: 0.737145\n"
     ]
    },
    {
     "name": "stderr",
     "output_type": "stream",
     "text": [
      "\u001b[32m[I 2022-12-02 23:09:54,042]\u001b[0m Trial 115 finished with value: 0.7371448897728994 and parameters: {'bagging_fraction': 0.51, 'seed': 11, 'lr': 0.01, 'n_iter': 1000, 'max_depth': -1, 'patience': 25, 'feature_fraction': 0.6, 'num_leaves': 500}. Best is trial 22 with value: 0.7371448897728994.\u001b[0m\n"
     ]
    },
    {
     "name": "stdout",
     "output_type": "stream",
     "text": [
      "Training until validation scores don't improve for 40 rounds\n",
      "[500]\ttraining's auc: 0.737221\tvalid_1's auc: 0.721691\n",
      "[1000]\ttraining's auc: 0.75725\tvalid_1's auc: 0.735286\n",
      "Did not meet early stopping. Best iteration is:\n",
      "[1000]\ttraining's auc: 0.75725\tvalid_1's auc: 0.735286\n"
     ]
    },
    {
     "name": "stderr",
     "output_type": "stream",
     "text": [
      "\u001b[32m[I 2022-12-02 23:14:08,421]\u001b[0m Trial 116 finished with value: 0.7352860267410417 and parameters: {'bagging_fraction': 0.51, 'seed': 11, 'lr': 0.01, 'n_iter': 1000, 'max_depth': -1, 'patience': 40, 'feature_fraction': 0.6, 'num_leaves': 450}. Best is trial 22 with value: 0.7371448897728994.\u001b[0m\n"
     ]
    },
    {
     "name": "stdout",
     "output_type": "stream",
     "text": [
      "Training until validation scores don't improve for 30 rounds\n"
     ]
    },
    {
     "name": "stderr",
     "output_type": "stream",
     "text": [
      "\u001b[32m[I 2022-12-02 23:14:17,645]\u001b[0m Trial 117 finished with value: 0.6935282272705454 and parameters: {'bagging_fraction': 0.6, 'seed': 42, 'lr': 0.0005, 'n_iter': 1000, 'max_depth': -1, 'patience': 30, 'feature_fraction': 0.67, 'num_leaves': 500}. Best is trial 22 with value: 0.7371448897728994.\u001b[0m\n"
     ]
    },
    {
     "name": "stdout",
     "output_type": "stream",
     "text": [
      "Early stopping, best iteration is:\n",
      "[9]\ttraining's auc: 0.703051\tvalid_1's auc: 0.693528\n",
      "Training until validation scores don't improve for 40 rounds\n",
      "[500]\ttraining's auc: 0.740423\tvalid_1's auc: 0.722194\n",
      "[1000]\ttraining's auc: 0.761974\tvalid_1's auc: 0.73687\n",
      "Did not meet early stopping. Best iteration is:\n",
      "[1000]\ttraining's auc: 0.761974\tvalid_1's auc: 0.73687\n"
     ]
    },
    {
     "name": "stderr",
     "output_type": "stream",
     "text": [
      "\u001b[32m[I 2022-12-02 23:18:27,250]\u001b[0m Trial 118 finished with value: 0.7368704143839875 and parameters: {'bagging_fraction': 0.52, 'seed': 42, 'lr': 0.01, 'n_iter': 1000, 'max_depth': -1, 'patience': 40, 'feature_fraction': 0.78, 'num_leaves': 500}. Best is trial 22 with value: 0.7371448897728994.\u001b[0m\n"
     ]
    },
    {
     "name": "stdout",
     "output_type": "stream",
     "text": [
      "Training until validation scores don't improve for 35 rounds\n",
      "[500]\ttraining's auc: 0.737221\tvalid_1's auc: 0.721691\n",
      "[1000]\ttraining's auc: 0.75725\tvalid_1's auc: 0.735286\n",
      "Did not meet early stopping. Best iteration is:\n",
      "[1000]\ttraining's auc: 0.75725\tvalid_1's auc: 0.735286\n"
     ]
    },
    {
     "name": "stderr",
     "output_type": "stream",
     "text": [
      "\u001b[32m[I 2022-12-02 23:22:29,363]\u001b[0m Trial 119 finished with value: 0.7352860267410417 and parameters: {'bagging_fraction': 0.5, 'seed': 42, 'lr': 0.01, 'n_iter': 1000, 'max_depth': -1, 'patience': 35, 'feature_fraction': 0.65, 'num_leaves': 450}. Best is trial 22 with value: 0.7371448897728994.\u001b[0m\n"
     ]
    },
    {
     "name": "stdout",
     "output_type": "stream",
     "text": [
      "Training until validation scores don't improve for 35 rounds\n",
      "[500]\ttraining's auc: 0.740142\tvalid_1's auc: 0.724264\n",
      "[1000]\ttraining's auc: 0.760505\tvalid_1's auc: 0.737145\n",
      "Did not meet early stopping. Best iteration is:\n",
      "[1000]\ttraining's auc: 0.760505\tvalid_1's auc: 0.737145\n"
     ]
    },
    {
     "name": "stderr",
     "output_type": "stream",
     "text": [
      "\u001b[32m[I 2022-12-02 23:26:35,328]\u001b[0m Trial 120 finished with value: 0.7371448897728994 and parameters: {'bagging_fraction': 0.7, 'seed': 42, 'lr': 0.01, 'n_iter': 1000, 'max_depth': -1, 'patience': 35, 'feature_fraction': 0.6799999999999999, 'num_leaves': 500}. Best is trial 22 with value: 0.7371448897728994.\u001b[0m\n"
     ]
    },
    {
     "name": "stdout",
     "output_type": "stream",
     "text": [
      "Training until validation scores don't improve for 25 rounds\n",
      "[500]\ttraining's auc: 0.740142\tvalid_1's auc: 0.724264\n",
      "[1000]\ttraining's auc: 0.760505\tvalid_1's auc: 0.737145\n",
      "Did not meet early stopping. Best iteration is:\n",
      "[1000]\ttraining's auc: 0.760505\tvalid_1's auc: 0.737145\n"
     ]
    },
    {
     "name": "stderr",
     "output_type": "stream",
     "text": [
      "\u001b[32m[I 2022-12-02 23:30:39,765]\u001b[0m Trial 121 finished with value: 0.7371448897728994 and parameters: {'bagging_fraction': 0.61, 'seed': 42, 'lr': 0.01, 'n_iter': 1000, 'max_depth': -1, 'patience': 25, 'feature_fraction': 0.6799999999999999, 'num_leaves': 500}. Best is trial 22 with value: 0.7371448897728994.\u001b[0m\n"
     ]
    },
    {
     "name": "stdout",
     "output_type": "stream",
     "text": [
      "Training until validation scores don't improve for 25 rounds\n",
      "[500]\ttraining's auc: 0.740142\tvalid_1's auc: 0.724264\n",
      "[1000]\ttraining's auc: 0.760505\tvalid_1's auc: 0.737145\n",
      "Did not meet early stopping. Best iteration is:\n",
      "[1000]\ttraining's auc: 0.760505\tvalid_1's auc: 0.737145\n"
     ]
    },
    {
     "name": "stderr",
     "output_type": "stream",
     "text": [
      "\u001b[32m[I 2022-12-02 23:34:44,366]\u001b[0m Trial 122 finished with value: 0.7371448897728994 and parameters: {'bagging_fraction': 0.61, 'seed': 42, 'lr': 0.01, 'n_iter': 1000, 'max_depth': -1, 'patience': 25, 'feature_fraction': 0.58, 'num_leaves': 500}. Best is trial 22 with value: 0.7371448897728994.\u001b[0m\n"
     ]
    },
    {
     "name": "stdout",
     "output_type": "stream",
     "text": [
      "Training until validation scores don't improve for 40 rounds\n",
      "[500]\ttraining's auc: 0.740142\tvalid_1's auc: 0.724264\n",
      "[1000]\ttraining's auc: 0.760505\tvalid_1's auc: 0.737145\n",
      "Did not meet early stopping. Best iteration is:\n",
      "[1000]\ttraining's auc: 0.760505\tvalid_1's auc: 0.737145\n"
     ]
    },
    {
     "name": "stderr",
     "output_type": "stream",
     "text": [
      "\u001b[32m[I 2022-12-02 23:39:27,652]\u001b[0m Trial 123 finished with value: 0.7371448897728994 and parameters: {'bagging_fraction': 0.58, 'seed': 42, 'lr': 0.01, 'n_iter': 1000, 'max_depth': -1, 'patience': 40, 'feature_fraction': 0.63, 'num_leaves': 500}. Best is trial 22 with value: 0.7371448897728994.\u001b[0m\n"
     ]
    },
    {
     "name": "stdout",
     "output_type": "stream",
     "text": [
      "Training until validation scores don't improve for 35 rounds\n",
      "[500]\ttraining's auc: 0.740142\tvalid_1's auc: 0.724264\n",
      "[1000]\ttraining's auc: 0.760505\tvalid_1's auc: 0.737145\n",
      "Did not meet early stopping. Best iteration is:\n",
      "[1000]\ttraining's auc: 0.760505\tvalid_1's auc: 0.737145\n"
     ]
    },
    {
     "name": "stderr",
     "output_type": "stream",
     "text": [
      "\u001b[32m[I 2022-12-02 23:43:40,657]\u001b[0m Trial 124 finished with value: 0.7371448897728994 and parameters: {'bagging_fraction': 0.56, 'seed': 42, 'lr': 0.01, 'n_iter': 1000, 'max_depth': -1, 'patience': 35, 'feature_fraction': 0.63, 'num_leaves': 500}. Best is trial 22 with value: 0.7371448897728994.\u001b[0m\n"
     ]
    },
    {
     "name": "stdout",
     "output_type": "stream",
     "text": [
      "Training until validation scores don't improve for 40 rounds\n",
      "[500]\ttraining's auc: 0.740142\tvalid_1's auc: 0.724264\n",
      "[1000]\ttraining's auc: 0.760505\tvalid_1's auc: 0.737145\n",
      "Did not meet early stopping. Best iteration is:\n",
      "[1000]\ttraining's auc: 0.760505\tvalid_1's auc: 0.737145\n"
     ]
    },
    {
     "name": "stderr",
     "output_type": "stream",
     "text": [
      "\u001b[32m[I 2022-12-02 23:47:55,687]\u001b[0m Trial 125 finished with value: 0.7371448897728994 and parameters: {'bagging_fraction': 0.58, 'seed': 11, 'lr': 0.01, 'n_iter': 1000, 'max_depth': -1, 'patience': 40, 'feature_fraction': 0.63, 'num_leaves': 500}. Best is trial 22 with value: 0.7371448897728994.\u001b[0m\n"
     ]
    },
    {
     "name": "stdout",
     "output_type": "stream",
     "text": [
      "Training until validation scores don't improve for 40 rounds\n",
      "[500]\ttraining's auc: 0.740142\tvalid_1's auc: 0.724264\n",
      "[1000]\ttraining's auc: 0.760505\tvalid_1's auc: 0.737145\n",
      "Did not meet early stopping. Best iteration is:\n",
      "[1000]\ttraining's auc: 0.760505\tvalid_1's auc: 0.737145\n"
     ]
    },
    {
     "name": "stderr",
     "output_type": "stream",
     "text": [
      "\u001b[32m[I 2022-12-02 23:52:08,668]\u001b[0m Trial 126 finished with value: 0.7371448897728994 and parameters: {'bagging_fraction': 0.56, 'seed': 11, 'lr': 0.01, 'n_iter': 1000, 'max_depth': -1, 'patience': 40, 'feature_fraction': 0.62, 'num_leaves': 500}. Best is trial 22 with value: 0.7371448897728994.\u001b[0m\n"
     ]
    },
    {
     "name": "stdout",
     "output_type": "stream",
     "text": [
      "Training until validation scores don't improve for 40 rounds\n"
     ]
    },
    {
     "name": "stderr",
     "output_type": "stream",
     "text": [
      "\u001b[32m[I 2022-12-02 23:52:19,888]\u001b[0m Trial 127 finished with value: 0.6918035248547928 and parameters: {'bagging_fraction': 0.53, 'seed': 11, 'lr': 0.005, 'n_iter': 1000, 'max_depth': -1, 'patience': 40, 'feature_fraction': 0.61, 'num_leaves': 450}. Best is trial 22 with value: 0.7371448897728994.\u001b[0m\n"
     ]
    },
    {
     "name": "stdout",
     "output_type": "stream",
     "text": [
      "Early stopping, best iteration is:\n",
      "[12]\ttraining's auc: 0.701941\tvalid_1's auc: 0.691804\n",
      "Training until validation scores don't improve for 25 rounds\n",
      "[500]\ttraining's auc: 0.740142\tvalid_1's auc: 0.724264\n",
      "[1000]\ttraining's auc: 0.760505\tvalid_1's auc: 0.737145\n",
      "Did not meet early stopping. Best iteration is:\n",
      "[1000]\ttraining's auc: 0.760505\tvalid_1's auc: 0.737145\n"
     ]
    },
    {
     "name": "stderr",
     "output_type": "stream",
     "text": [
      "\u001b[32m[I 2022-12-02 23:57:06,548]\u001b[0m Trial 128 finished with value: 0.7371448897728994 and parameters: {'bagging_fraction': 0.73, 'seed': 11, 'lr': 0.01, 'n_iter': 1000, 'max_depth': -1, 'patience': 25, 'feature_fraction': 0.65, 'num_leaves': 500}. Best is trial 22 with value: 0.7371448897728994.\u001b[0m\n"
     ]
    },
    {
     "name": "stdout",
     "output_type": "stream",
     "text": [
      "Training until validation scores don't improve for 40 rounds\n"
     ]
    },
    {
     "name": "stderr",
     "output_type": "stream",
     "text": [
      "\u001b[32m[I 2022-12-02 23:57:51,749]\u001b[0m Trial 129 finished with value: 0.6802377104567738 and parameters: {'bagging_fraction': 0.5, 'seed': 11, 'lr': 0.001, 'n_iter': 1000, 'max_depth': -1, 'patience': 40, 'feature_fraction': 0.62, 'num_leaves': 200}. Best is trial 22 with value: 0.7371448897728994.\u001b[0m\n"
     ]
    },
    {
     "name": "stdout",
     "output_type": "stream",
     "text": [
      "Early stopping, best iteration is:\n",
      "[146]\ttraining's auc: 0.691212\tvalid_1's auc: 0.680238\n",
      "Training until validation scores don't improve for 40 rounds\n",
      "[500]\ttraining's auc: 0.740142\tvalid_1's auc: 0.724264\n",
      "[1000]\ttraining's auc: 0.760505\tvalid_1's auc: 0.737145\n",
      "Did not meet early stopping. Best iteration is:\n",
      "[1000]\ttraining's auc: 0.760505\tvalid_1's auc: 0.737145\n"
     ]
    },
    {
     "name": "stderr",
     "output_type": "stream",
     "text": [
      "\u001b[32m[I 2022-12-03 00:02:24,828]\u001b[0m Trial 130 finished with value: 0.7371448897728994 and parameters: {'bagging_fraction': 0.76, 'seed': 11, 'lr': 0.01, 'n_iter': 1000, 'max_depth': -1, 'patience': 40, 'feature_fraction': 0.64, 'num_leaves': 500}. Best is trial 22 with value: 0.7371448897728994.\u001b[0m\n"
     ]
    },
    {
     "name": "stdout",
     "output_type": "stream",
     "text": [
      "Training until validation scores don't improve for 40 rounds\n",
      "[500]\ttraining's auc: 0.740142\tvalid_1's auc: 0.724264\n",
      "[1000]\ttraining's auc: 0.760505\tvalid_1's auc: 0.737145\n",
      "Did not meet early stopping. Best iteration is:\n",
      "[1000]\ttraining's auc: 0.760505\tvalid_1's auc: 0.737145\n"
     ]
    },
    {
     "name": "stderr",
     "output_type": "stream",
     "text": [
      "\u001b[32m[I 2022-12-03 00:06:49,644]\u001b[0m Trial 131 finished with value: 0.7371448897728994 and parameters: {'bagging_fraction': 0.54, 'seed': 42, 'lr': 0.01, 'n_iter': 1000, 'max_depth': -1, 'patience': 40, 'feature_fraction': 0.64, 'num_leaves': 500}. Best is trial 22 with value: 0.7371448897728994.\u001b[0m\n"
     ]
    },
    {
     "name": "stdout",
     "output_type": "stream",
     "text": [
      "Training until validation scores don't improve for 40 rounds\n",
      "[500]\ttraining's auc: 0.740142\tvalid_1's auc: 0.724264\n",
      "[1000]\ttraining's auc: 0.760505\tvalid_1's auc: 0.737145\n",
      "Did not meet early stopping. Best iteration is:\n",
      "[1000]\ttraining's auc: 0.760505\tvalid_1's auc: 0.737145\n"
     ]
    },
    {
     "name": "stderr",
     "output_type": "stream",
     "text": [
      "\u001b[32m[I 2022-12-03 00:11:21,782]\u001b[0m Trial 132 finished with value: 0.7371448897728994 and parameters: {'bagging_fraction': 0.54, 'seed': 42, 'lr': 0.01, 'n_iter': 1000, 'max_depth': -1, 'patience': 40, 'feature_fraction': 0.64, 'num_leaves': 500}. Best is trial 22 with value: 0.7371448897728994.\u001b[0m\n"
     ]
    },
    {
     "name": "stdout",
     "output_type": "stream",
     "text": [
      "Training until validation scores don't improve for 30 rounds\n",
      "[500]\ttraining's auc: 0.740142\tvalid_1's auc: 0.724264\n",
      "[1000]\ttraining's auc: 0.760505\tvalid_1's auc: 0.737145\n",
      "Did not meet early stopping. Best iteration is:\n",
      "[1000]\ttraining's auc: 0.760505\tvalid_1's auc: 0.737145\n"
     ]
    },
    {
     "name": "stderr",
     "output_type": "stream",
     "text": [
      "\u001b[32m[I 2022-12-03 00:15:43,231]\u001b[0m Trial 133 finished with value: 0.7371448897728994 and parameters: {'bagging_fraction': 0.63, 'seed': 11, 'lr': 0.01, 'n_iter': 1000, 'max_depth': -1, 'patience': 30, 'feature_fraction': 0.59, 'num_leaves': 500}. Best is trial 22 with value: 0.7371448897728994.\u001b[0m\n"
     ]
    },
    {
     "name": "stdout",
     "output_type": "stream",
     "text": [
      "Training until validation scores don't improve for 30 rounds\n",
      "[500]\ttraining's auc: 0.740142\tvalid_1's auc: 0.724264\n",
      "[1000]\ttraining's auc: 0.760505\tvalid_1's auc: 0.737145\n",
      "Did not meet early stopping. Best iteration is:\n",
      "[1000]\ttraining's auc: 0.760505\tvalid_1's auc: 0.737145\n"
     ]
    },
    {
     "name": "stderr",
     "output_type": "stream",
     "text": [
      "\u001b[32m[I 2022-12-03 00:19:48,537]\u001b[0m Trial 134 finished with value: 0.7371448897728994 and parameters: {'bagging_fraction': 0.63, 'seed': 11, 'lr': 0.01, 'n_iter': 1000, 'max_depth': -1, 'patience': 30, 'feature_fraction': 0.59, 'num_leaves': 500}. Best is trial 22 with value: 0.7371448897728994.\u001b[0m\n"
     ]
    },
    {
     "name": "stdout",
     "output_type": "stream",
     "text": [
      "Training until validation scores don't improve for 40 rounds\n",
      "[500]\ttraining's auc: 0.740142\tvalid_1's auc: 0.724264\n",
      "[1000]\ttraining's auc: 0.760505\tvalid_1's auc: 0.737145\n",
      "Did not meet early stopping. Best iteration is:\n",
      "[1000]\ttraining's auc: 0.760505\tvalid_1's auc: 0.737145\n"
     ]
    },
    {
     "name": "stderr",
     "output_type": "stream",
     "text": [
      "\u001b[32m[I 2022-12-03 00:23:54,213]\u001b[0m Trial 135 finished with value: 0.7371448897728994 and parameters: {'bagging_fraction': 0.53, 'seed': 42, 'lr': 0.01, 'n_iter': 1000, 'max_depth': -1, 'patience': 40, 'feature_fraction': 0.66, 'num_leaves': 500}. Best is trial 22 with value: 0.7371448897728994.\u001b[0m\n"
     ]
    },
    {
     "name": "stdout",
     "output_type": "stream",
     "text": [
      "Training until validation scores don't improve for 40 rounds\n",
      "[500]\ttraining's auc: 0.740142\tvalid_1's auc: 0.724264\n",
      "[1000]\ttraining's auc: 0.760505\tvalid_1's auc: 0.737145\n",
      "Did not meet early stopping. Best iteration is:\n",
      "[1000]\ttraining's auc: 0.760505\tvalid_1's auc: 0.737145\n"
     ]
    },
    {
     "name": "stderr",
     "output_type": "stream",
     "text": [
      "\u001b[32m[I 2022-12-03 00:27:58,417]\u001b[0m Trial 136 finished with value: 0.7371448897728994 and parameters: {'bagging_fraction': 0.51, 'seed': 42, 'lr': 0.01, 'n_iter': 1000, 'max_depth': -1, 'patience': 40, 'feature_fraction': 0.67, 'num_leaves': 500}. Best is trial 22 with value: 0.7371448897728994.\u001b[0m\n"
     ]
    },
    {
     "name": "stdout",
     "output_type": "stream",
     "text": [
      "Training until validation scores don't improve for 30 rounds\n",
      "[500]\ttraining's auc: 0.740142\tvalid_1's auc: 0.724264\n",
      "[1000]\ttraining's auc: 0.760505\tvalid_1's auc: 0.737145\n",
      "Did not meet early stopping. Best iteration is:\n",
      "[1000]\ttraining's auc: 0.760505\tvalid_1's auc: 0.737145\n"
     ]
    },
    {
     "name": "stderr",
     "output_type": "stream",
     "text": [
      "\u001b[32m[I 2022-12-03 00:32:12,128]\u001b[0m Trial 137 finished with value: 0.7371448897728994 and parameters: {'bagging_fraction': 0.64, 'seed': 11, 'lr': 0.01, 'n_iter': 1000, 'max_depth': -1, 'patience': 30, 'feature_fraction': 0.65, 'num_leaves': 500}. Best is trial 22 with value: 0.7371448897728994.\u001b[0m\n"
     ]
    },
    {
     "name": "stdout",
     "output_type": "stream",
     "text": [
      "Training until validation scores don't improve for 30 rounds\n",
      "[500]\ttraining's auc: 0.737221\tvalid_1's auc: 0.721691\n",
      "[1000]\ttraining's auc: 0.75725\tvalid_1's auc: 0.735286\n",
      "Did not meet early stopping. Best iteration is:\n",
      "[1000]\ttraining's auc: 0.75725\tvalid_1's auc: 0.735286\n"
     ]
    },
    {
     "name": "stderr",
     "output_type": "stream",
     "text": [
      "\u001b[32m[I 2022-12-03 00:36:47,973]\u001b[0m Trial 138 finished with value: 0.7352860267410417 and parameters: {'bagging_fraction': 0.64, 'seed': 11, 'lr': 0.01, 'n_iter': 1000, 'max_depth': -1, 'patience': 30, 'feature_fraction': 0.62, 'num_leaves': 450}. Best is trial 22 with value: 0.7371448897728994.\u001b[0m\n"
     ]
    },
    {
     "name": "stdout",
     "output_type": "stream",
     "text": [
      "Training until validation scores don't improve for 30 rounds\n"
     ]
    },
    {
     "name": "stderr",
     "output_type": "stream",
     "text": [
      "\u001b[32m[I 2022-12-03 00:36:55,727]\u001b[0m Trial 139 finished with value: 0.6837989670863391 and parameters: {'bagging_fraction': 0.74, 'seed': 11, 'lr': 0.0001, 'n_iter': 1000, 'max_depth': -1, 'patience': 30, 'feature_fraction': 0.65, 'num_leaves': 300}. Best is trial 22 with value: 0.7371448897728994.\u001b[0m\n"
     ]
    },
    {
     "name": "stdout",
     "output_type": "stream",
     "text": [
      "Early stopping, best iteration is:\n",
      "[10]\ttraining's auc: 0.694615\tvalid_1's auc: 0.683799\n",
      "Training until validation scores don't improve for 25 rounds\n",
      "[500]\ttraining's auc: 0.740142\tvalid_1's auc: 0.724264\n",
      "[1000]\ttraining's auc: 0.760505\tvalid_1's auc: 0.737145\n",
      "Did not meet early stopping. Best iteration is:\n",
      "[1000]\ttraining's auc: 0.760505\tvalid_1's auc: 0.737145\n"
     ]
    },
    {
     "name": "stderr",
     "output_type": "stream",
     "text": [
      "\u001b[32m[I 2022-12-03 00:41:34,924]\u001b[0m Trial 140 finished with value: 0.7371448897728994 and parameters: {'bagging_fraction': 0.59, 'seed': 11, 'lr': 0.01, 'n_iter': 1000, 'max_depth': -1, 'patience': 25, 'feature_fraction': 0.64, 'num_leaves': 500}. Best is trial 22 with value: 0.7371448897728994.\u001b[0m\n"
     ]
    },
    {
     "name": "stdout",
     "output_type": "stream",
     "text": [
      "Training until validation scores don't improve for 25 rounds\n",
      "[500]\ttraining's auc: 0.740142\tvalid_1's auc: 0.724264\n",
      "[1000]\ttraining's auc: 0.760505\tvalid_1's auc: 0.737145\n",
      "Did not meet early stopping. Best iteration is:\n",
      "[1000]\ttraining's auc: 0.760505\tvalid_1's auc: 0.737145\n"
     ]
    },
    {
     "name": "stderr",
     "output_type": "stream",
     "text": [
      "\u001b[32m[I 2022-12-03 00:45:43,458]\u001b[0m Trial 141 finished with value: 0.7371448897728994 and parameters: {'bagging_fraction': 0.55, 'seed': 42, 'lr': 0.01, 'n_iter': 1000, 'max_depth': -1, 'patience': 25, 'feature_fraction': 0.63, 'num_leaves': 500}. Best is trial 22 with value: 0.7371448897728994.\u001b[0m\n"
     ]
    },
    {
     "name": "stdout",
     "output_type": "stream",
     "text": [
      "Training until validation scores don't improve for 25 rounds\n"
     ]
    },
    {
     "name": "stderr",
     "output_type": "stream",
     "text": [
      "\u001b[32m[I 2022-12-03 00:45:50,568]\u001b[0m Trial 142 finished with value: 0.693765777719245 and parameters: {'bagging_fraction': 0.62, 'seed': 42, 'lr': 0.01, 'n_iter': 1000, 'max_depth': -1, 'patience': 25, 'feature_fraction': 0.56, 'num_leaves': 500}. Best is trial 22 with value: 0.7371448897728994.\u001b[0m\n"
     ]
    },
    {
     "name": "stdout",
     "output_type": "stream",
     "text": [
      "Early stopping, best iteration is:\n",
      "[5]\ttraining's auc: 0.700334\tvalid_1's auc: 0.693766\n",
      "Training until validation scores don't improve for 40 rounds\n",
      "[500]\ttraining's auc: 0.740142\tvalid_1's auc: 0.724264\n",
      "[1000]\ttraining's auc: 0.760505\tvalid_1's auc: 0.737145\n",
      "Did not meet early stopping. Best iteration is:\n",
      "[1000]\ttraining's auc: 0.760505\tvalid_1's auc: 0.737145\n"
     ]
    },
    {
     "name": "stderr",
     "output_type": "stream",
     "text": [
      "\u001b[32m[I 2022-12-03 00:49:56,272]\u001b[0m Trial 143 finished with value: 0.7371448897728994 and parameters: {'bagging_fraction': 0.52, 'seed': 42, 'lr': 0.01, 'n_iter': 1000, 'max_depth': -1, 'patience': 40, 'feature_fraction': 0.5700000000000001, 'num_leaves': 500}. Best is trial 22 with value: 0.7371448897728994.\u001b[0m\n"
     ]
    },
    {
     "name": "stdout",
     "output_type": "stream",
     "text": [
      "Training until validation scores don't improve for 30 rounds\n",
      "[500]\ttraining's auc: 0.740142\tvalid_1's auc: 0.724264\n",
      "[1000]\ttraining's auc: 0.760505\tvalid_1's auc: 0.737145\n",
      "Did not meet early stopping. Best iteration is:\n",
      "[1000]\ttraining's auc: 0.760505\tvalid_1's auc: 0.737145\n"
     ]
    },
    {
     "name": "stderr",
     "output_type": "stream",
     "text": [
      "\u001b[32m[I 2022-12-03 00:54:02,278]\u001b[0m Trial 144 finished with value: 0.7371448897728994 and parameters: {'bagging_fraction': 0.6, 'seed': 11, 'lr': 0.01, 'n_iter': 1000, 'max_depth': -1, 'patience': 30, 'feature_fraction': 0.65, 'num_leaves': 500}. Best is trial 22 with value: 0.7371448897728994.\u001b[0m\n"
     ]
    },
    {
     "name": "stdout",
     "output_type": "stream",
     "text": [
      "Training until validation scores don't improve for 40 rounds\n",
      "[500]\ttraining's auc: 0.740142\tvalid_1's auc: 0.724264\n",
      "[1000]\ttraining's auc: 0.760505\tvalid_1's auc: 0.737145\n",
      "Did not meet early stopping. Best iteration is:\n",
      "[1000]\ttraining's auc: 0.760505\tvalid_1's auc: 0.737145\n"
     ]
    },
    {
     "name": "stderr",
     "output_type": "stream",
     "text": [
      "\u001b[32m[I 2022-12-03 00:58:13,927]\u001b[0m Trial 145 finished with value: 0.7371448897728994 and parameters: {'bagging_fraction': 0.76, 'seed': 11, 'lr': 0.01, 'n_iter': 1000, 'max_depth': -1, 'patience': 40, 'feature_fraction': 0.61, 'num_leaves': 500}. Best is trial 22 with value: 0.7371448897728994.\u001b[0m\n"
     ]
    },
    {
     "name": "stdout",
     "output_type": "stream",
     "text": [
      "Training until validation scores don't improve for 40 rounds\n",
      "[500]\ttraining's auc: 0.740142\tvalid_1's auc: 0.724264\n",
      "[1000]\ttraining's auc: 0.760505\tvalid_1's auc: 0.737145\n",
      "Did not meet early stopping. Best iteration is:\n",
      "[1000]\ttraining's auc: 0.760505\tvalid_1's auc: 0.737145\n"
     ]
    },
    {
     "name": "stderr",
     "output_type": "stream",
     "text": [
      "\u001b[32m[I 2022-12-03 01:02:13,438]\u001b[0m Trial 146 finished with value: 0.7371448897728994 and parameters: {'bagging_fraction': 0.62, 'seed': 11, 'lr': 0.01, 'n_iter': 1000, 'max_depth': -1, 'patience': 40, 'feature_fraction': 0.61, 'num_leaves': 500}. Best is trial 22 with value: 0.7371448897728994.\u001b[0m\n"
     ]
    },
    {
     "name": "stdout",
     "output_type": "stream",
     "text": [
      "Training until validation scores don't improve for 35 rounds\n"
     ]
    },
    {
     "name": "stderr",
     "output_type": "stream",
     "text": [
      "\u001b[32m[I 2022-12-03 01:02:25,226]\u001b[0m Trial 147 finished with value: 0.6935282272705454 and parameters: {'bagging_fraction': 0.79, 'seed': 11, 'lr': 0.0005, 'n_iter': 1000, 'max_depth': -1, 'patience': 35, 'feature_fraction': 0.66, 'num_leaves': 500}. Best is trial 22 with value: 0.7371448897728994.\u001b[0m\n"
     ]
    },
    {
     "name": "stdout",
     "output_type": "stream",
     "text": [
      "Early stopping, best iteration is:\n",
      "[9]\ttraining's auc: 0.703051\tvalid_1's auc: 0.693528\n",
      "Training until validation scores don't improve for 15 rounds\n"
     ]
    },
    {
     "name": "stderr",
     "output_type": "stream",
     "text": [
      "\u001b[32m[I 2022-12-03 01:02:31,928]\u001b[0m Trial 148 finished with value: 0.6933342174805128 and parameters: {'bagging_fraction': 0.5700000000000001, 'seed': 42, 'lr': 0.01, 'n_iter': 1000, 'max_depth': -1, 'patience': 15, 'feature_fraction': 0.66, 'num_leaves': 500}. Best is trial 22 with value: 0.7371448897728994.\u001b[0m\n"
     ]
    },
    {
     "name": "stdout",
     "output_type": "stream",
     "text": [
      "Early stopping, best iteration is:\n",
      "[9]\ttraining's auc: 0.703716\tvalid_1's auc: 0.693334\n",
      "Training until validation scores don't improve for 35 rounds\n",
      "[500]\ttraining's auc: 0.740142\tvalid_1's auc: 0.724264\n",
      "[1000]\ttraining's auc: 0.760505\tvalid_1's auc: 0.737145\n",
      "Did not meet early stopping. Best iteration is:\n",
      "[1000]\ttraining's auc: 0.760505\tvalid_1's auc: 0.737145\n"
     ]
    },
    {
     "name": "stderr",
     "output_type": "stream",
     "text": [
      "\u001b[32m[I 2022-12-03 01:07:13,856]\u001b[0m Trial 149 finished with value: 0.7371448897728994 and parameters: {'bagging_fraction': 0.61, 'seed': 42, 'lr': 0.01, 'n_iter': 1000, 'max_depth': -1, 'patience': 35, 'feature_fraction': 0.6799999999999999, 'num_leaves': 500}. Best is trial 22 with value: 0.7371448897728994.\u001b[0m\n"
     ]
    },
    {
     "name": "stdout",
     "output_type": "stream",
     "text": [
      "Training until validation scores don't improve for 35 rounds\n",
      "[500]\ttraining's auc: 0.740142\tvalid_1's auc: 0.724264\n",
      "[1000]\ttraining's auc: 0.760505\tvalid_1's auc: 0.737145\n",
      "Did not meet early stopping. Best iteration is:\n",
      "[1000]\ttraining's auc: 0.760505\tvalid_1's auc: 0.737145\n"
     ]
    },
    {
     "name": "stderr",
     "output_type": "stream",
     "text": [
      "\u001b[32m[I 2022-12-03 01:11:21,226]\u001b[0m Trial 150 finished with value: 0.7371448897728994 and parameters: {'bagging_fraction': 0.62, 'seed': 11, 'lr': 0.01, 'n_iter': 1000, 'max_depth': -1, 'patience': 35, 'feature_fraction': 0.6, 'num_leaves': 500}. Best is trial 22 with value: 0.7371448897728994.\u001b[0m\n"
     ]
    },
    {
     "name": "stdout",
     "output_type": "stream",
     "text": [
      "Training until validation scores don't improve for 35 rounds\n",
      "[500]\ttraining's auc: 0.740142\tvalid_1's auc: 0.724264\n",
      "[1000]\ttraining's auc: 0.760505\tvalid_1's auc: 0.737145\n",
      "Did not meet early stopping. Best iteration is:\n",
      "[1000]\ttraining's auc: 0.760505\tvalid_1's auc: 0.737145\n"
     ]
    },
    {
     "name": "stderr",
     "output_type": "stream",
     "text": [
      "\u001b[32m[I 2022-12-03 01:15:40,248]\u001b[0m Trial 151 finished with value: 0.7371448897728994 and parameters: {'bagging_fraction': 0.62, 'seed': 11, 'lr': 0.01, 'n_iter': 1000, 'max_depth': -1, 'patience': 35, 'feature_fraction': 0.58, 'num_leaves': 500}. Best is trial 22 with value: 0.7371448897728994.\u001b[0m\n"
     ]
    },
    {
     "name": "stdout",
     "output_type": "stream",
     "text": [
      "Training until validation scores don't improve for 35 rounds\n",
      "[500]\ttraining's auc: 0.740142\tvalid_1's auc: 0.724264\n",
      "[1000]\ttraining's auc: 0.760505\tvalid_1's auc: 0.737145\n",
      "Did not meet early stopping. Best iteration is:\n",
      "[1000]\ttraining's auc: 0.760505\tvalid_1's auc: 0.737145\n"
     ]
    },
    {
     "name": "stderr",
     "output_type": "stream",
     "text": [
      "\u001b[32m[I 2022-12-03 01:19:46,066]\u001b[0m Trial 152 finished with value: 0.7371448897728994 and parameters: {'bagging_fraction': 0.62, 'seed': 11, 'lr': 0.01, 'n_iter': 1000, 'max_depth': -1, 'patience': 35, 'feature_fraction': 0.58, 'num_leaves': 500}. Best is trial 22 with value: 0.7371448897728994.\u001b[0m\n"
     ]
    },
    {
     "name": "stdout",
     "output_type": "stream",
     "text": [
      "Training until validation scores don't improve for 40 rounds\n",
      "[500]\ttraining's auc: 0.740142\tvalid_1's auc: 0.724264\n",
      "[1000]\ttraining's auc: 0.760505\tvalid_1's auc: 0.737145\n",
      "Did not meet early stopping. Best iteration is:\n",
      "[1000]\ttraining's auc: 0.760505\tvalid_1's auc: 0.737145\n"
     ]
    },
    {
     "name": "stderr",
     "output_type": "stream",
     "text": [
      "\u001b[32m[I 2022-12-03 01:23:56,610]\u001b[0m Trial 153 finished with value: 0.7371448897728994 and parameters: {'bagging_fraction': 0.54, 'seed': 11, 'lr': 0.01, 'n_iter': 1000, 'max_depth': -1, 'patience': 40, 'feature_fraction': 0.65, 'num_leaves': 500}. Best is trial 22 with value: 0.7371448897728994.\u001b[0m\n"
     ]
    },
    {
     "name": "stdout",
     "output_type": "stream",
     "text": [
      "Training until validation scores don't improve for 40 rounds\n",
      "[500]\ttraining's auc: 0.740142\tvalid_1's auc: 0.724264\n",
      "[1000]\ttraining's auc: 0.760505\tvalid_1's auc: 0.737145\n",
      "Did not meet early stopping. Best iteration is:\n",
      "[1000]\ttraining's auc: 0.760505\tvalid_1's auc: 0.737145\n"
     ]
    },
    {
     "name": "stderr",
     "output_type": "stream",
     "text": [
      "\u001b[32m[I 2022-12-03 01:28:34,830]\u001b[0m Trial 154 finished with value: 0.7371448897728994 and parameters: {'bagging_fraction': 0.74, 'seed': 11, 'lr': 0.01, 'n_iter': 1000, 'max_depth': -1, 'patience': 40, 'feature_fraction': 0.62, 'num_leaves': 500}. Best is trial 22 with value: 0.7371448897728994.\u001b[0m\n"
     ]
    },
    {
     "name": "stdout",
     "output_type": "stream",
     "text": [
      "Training until validation scores don't improve for 25 rounds\n",
      "[500]\ttraining's auc: 0.740142\tvalid_1's auc: 0.724264\n",
      "[1000]\ttraining's auc: 0.760505\tvalid_1's auc: 0.737145\n",
      "Did not meet early stopping. Best iteration is:\n",
      "[1000]\ttraining's auc: 0.760505\tvalid_1's auc: 0.737145\n"
     ]
    },
    {
     "name": "stderr",
     "output_type": "stream",
     "text": [
      "\u001b[32m[I 2022-12-03 01:32:57,316]\u001b[0m Trial 155 finished with value: 0.7371448897728994 and parameters: {'bagging_fraction': 0.72, 'seed': 42, 'lr': 0.01, 'n_iter': 1000, 'max_depth': -1, 'patience': 25, 'feature_fraction': 0.6799999999999999, 'num_leaves': 500}. Best is trial 22 with value: 0.7371448897728994.\u001b[0m\n"
     ]
    },
    {
     "name": "stdout",
     "output_type": "stream",
     "text": [
      "Training until validation scores don't improve for 25 rounds\n"
     ]
    },
    {
     "name": "stderr",
     "output_type": "stream",
     "text": [
      "\u001b[32m[I 2022-12-03 01:33:08,925]\u001b[0m Trial 156 finished with value: 0.6913145771048139 and parameters: {'bagging_fraction': 0.71, 'seed': 42, 'lr': 0.005, 'n_iter': 1000, 'max_depth': -1, 'patience': 25, 'feature_fraction': 0.69, 'num_leaves': 500}. Best is trial 22 with value: 0.7371448897728994.\u001b[0m\n"
     ]
    },
    {
     "name": "stdout",
     "output_type": "stream",
     "text": [
      "Early stopping, best iteration is:\n",
      "[12]\ttraining's auc: 0.703709\tvalid_1's auc: 0.691315\n",
      "Training until validation scores don't improve for 35 rounds\n",
      "[500]\ttraining's auc: 0.737615\tvalid_1's auc: 0.720525\n",
      "[1000]\ttraining's auc: 0.758713\tvalid_1's auc: 0.734496\n",
      "Did not meet early stopping. Best iteration is:\n",
      "[1000]\ttraining's auc: 0.758713\tvalid_1's auc: 0.734496\n"
     ]
    },
    {
     "name": "stderr",
     "output_type": "stream",
     "text": [
      "\u001b[32m[I 2022-12-03 01:37:23,299]\u001b[0m Trial 157 finished with value: 0.7344964484361672 and parameters: {'bagging_fraction': 0.58, 'seed': 42, 'lr': 0.01, 'n_iter': 1000, 'max_depth': -1, 'patience': 35, 'feature_fraction': 0.71, 'num_leaves': 450}. Best is trial 22 with value: 0.7371448897728994.\u001b[0m\n"
     ]
    },
    {
     "name": "stdout",
     "output_type": "stream",
     "text": [
      "Training until validation scores don't improve for 35 rounds\n",
      "[500]\ttraining's auc: 0.740142\tvalid_1's auc: 0.724264\n",
      "[1000]\ttraining's auc: 0.760505\tvalid_1's auc: 0.737145\n",
      "Did not meet early stopping. Best iteration is:\n",
      "[1000]\ttraining's auc: 0.760505\tvalid_1's auc: 0.737145\n"
     ]
    },
    {
     "name": "stderr",
     "output_type": "stream",
     "text": [
      "\u001b[32m[I 2022-12-03 01:41:56,780]\u001b[0m Trial 158 finished with value: 0.7371448897728994 and parameters: {'bagging_fraction': 0.61, 'seed': 42, 'lr': 0.01, 'n_iter': 1000, 'max_depth': -1, 'patience': 35, 'feature_fraction': 0.63, 'num_leaves': 500}. Best is trial 22 with value: 0.7371448897728994.\u001b[0m\n"
     ]
    },
    {
     "name": "stdout",
     "output_type": "stream",
     "text": [
      "Training until validation scores don't improve for 25 rounds\n"
     ]
    },
    {
     "name": "stderr",
     "output_type": "stream",
     "text": [
      "\u001b[32m[I 2022-12-03 01:42:06,170]\u001b[0m Trial 159 finished with value: 0.6935457666171462 and parameters: {'bagging_fraction': 0.65, 'seed': 11, 'lr': 0.001, 'n_iter': 1000, 'max_depth': -1, 'patience': 25, 'feature_fraction': 0.64, 'num_leaves': 500}. Best is trial 22 with value: 0.7371448897728994.\u001b[0m\n"
     ]
    },
    {
     "name": "stdout",
     "output_type": "stream",
     "text": [
      "Early stopping, best iteration is:\n",
      "[9]\ttraining's auc: 0.70308\tvalid_1's auc: 0.693546\n",
      "Training until validation scores don't improve for 20 rounds\n"
     ]
    },
    {
     "name": "stderr",
     "output_type": "stream",
     "text": [
      "\u001b[32m[I 2022-12-03 01:42:13,972]\u001b[0m Trial 160 finished with value: 0.6933342174805128 and parameters: {'bagging_fraction': 0.58, 'seed': 42, 'lr': 0.01, 'n_iter': 1000, 'max_depth': -1, 'patience': 20, 'feature_fraction': 0.6, 'num_leaves': 500}. Best is trial 22 with value: 0.7371448897728994.\u001b[0m\n"
     ]
    },
    {
     "name": "stdout",
     "output_type": "stream",
     "text": [
      "Early stopping, best iteration is:\n",
      "[9]\ttraining's auc: 0.703716\tvalid_1's auc: 0.693334\n",
      "Training until validation scores don't improve for 25 rounds\n",
      "[500]\ttraining's auc: 0.740142\tvalid_1's auc: 0.724264\n",
      "[1000]\ttraining's auc: 0.760505\tvalid_1's auc: 0.737145\n",
      "Did not meet early stopping. Best iteration is:\n",
      "[1000]\ttraining's auc: 0.760505\tvalid_1's auc: 0.737145\n"
     ]
    },
    {
     "name": "stderr",
     "output_type": "stream",
     "text": [
      "\u001b[32m[I 2022-12-03 01:46:36,401]\u001b[0m Trial 161 finished with value: 0.7371448897728994 and parameters: {'bagging_fraction': 0.51, 'seed': 42, 'lr': 0.01, 'n_iter': 1000, 'max_depth': -1, 'patience': 25, 'feature_fraction': 0.67, 'num_leaves': 500}. Best is trial 22 with value: 0.7371448897728994.\u001b[0m\n"
     ]
    },
    {
     "name": "stdout",
     "output_type": "stream",
     "text": [
      "Training until validation scores don't improve for 25 rounds\n"
     ]
    },
    {
     "name": "stderr",
     "output_type": "stream",
     "text": [
      "\u001b[32m[I 2022-12-03 01:46:43,822]\u001b[0m Trial 162 finished with value: 0.693765777719245 and parameters: {'bagging_fraction': 0.56, 'seed': 42, 'lr': 0.01, 'n_iter': 1000, 'max_depth': -1, 'patience': 25, 'feature_fraction': 0.56, 'num_leaves': 500}. Best is trial 22 with value: 0.7371448897728994.\u001b[0m\n"
     ]
    },
    {
     "name": "stdout",
     "output_type": "stream",
     "text": [
      "Early stopping, best iteration is:\n",
      "[5]\ttraining's auc: 0.700334\tvalid_1's auc: 0.693766\n",
      "Training until validation scores don't improve for 25 rounds\n",
      "[500]\ttraining's auc: 0.740142\tvalid_1's auc: 0.724264\n",
      "[1000]\ttraining's auc: 0.760505\tvalid_1's auc: 0.737145\n",
      "Did not meet early stopping. Best iteration is:\n",
      "[1000]\ttraining's auc: 0.760505\tvalid_1's auc: 0.737145\n"
     ]
    },
    {
     "name": "stderr",
     "output_type": "stream",
     "text": [
      "\u001b[32m[I 2022-12-03 01:50:46,836]\u001b[0m Trial 163 finished with value: 0.7371448897728994 and parameters: {'bagging_fraction': 0.59, 'seed': 42, 'lr': 0.01, 'n_iter': 1000, 'max_depth': -1, 'patience': 25, 'feature_fraction': 0.62, 'num_leaves': 500}. Best is trial 22 with value: 0.7371448897728994.\u001b[0m\n"
     ]
    },
    {
     "name": "stdout",
     "output_type": "stream",
     "text": [
      "Training until validation scores don't improve for 40 rounds\n",
      "[500]\ttraining's auc: 0.740142\tvalid_1's auc: 0.724264\n",
      "[1000]\ttraining's auc: 0.760505\tvalid_1's auc: 0.737145\n",
      "Did not meet early stopping. Best iteration is:\n",
      "[1000]\ttraining's auc: 0.760505\tvalid_1's auc: 0.737145\n"
     ]
    },
    {
     "name": "stderr",
     "output_type": "stream",
     "text": [
      "\u001b[32m[I 2022-12-03 01:54:54,690]\u001b[0m Trial 164 finished with value: 0.7371448897728994 and parameters: {'bagging_fraction': 0.5, 'seed': 11, 'lr': 0.01, 'n_iter': 1000, 'max_depth': -1, 'patience': 40, 'feature_fraction': 0.64, 'num_leaves': 500}. Best is trial 22 with value: 0.7371448897728994.\u001b[0m\n"
     ]
    },
    {
     "name": "stdout",
     "output_type": "stream",
     "text": [
      "Training until validation scores don't improve for 40 rounds\n",
      "[500]\ttraining's auc: 0.740142\tvalid_1's auc: 0.724264\n",
      "[1000]\ttraining's auc: 0.760505\tvalid_1's auc: 0.737145\n",
      "Did not meet early stopping. Best iteration is:\n",
      "[1000]\ttraining's auc: 0.760505\tvalid_1's auc: 0.737145\n"
     ]
    },
    {
     "name": "stderr",
     "output_type": "stream",
     "text": [
      "\u001b[32m[I 2022-12-03 01:59:04,556]\u001b[0m Trial 165 finished with value: 0.7371448897728994 and parameters: {'bagging_fraction': 0.5, 'seed': 11, 'lr': 0.01, 'n_iter': 1000, 'max_depth': -1, 'patience': 40, 'feature_fraction': 0.64, 'num_leaves': 500}. Best is trial 22 with value: 0.7371448897728994.\u001b[0m\n"
     ]
    },
    {
     "name": "stdout",
     "output_type": "stream",
     "text": [
      "Training until validation scores don't improve for 40 rounds\n",
      "[500]\ttraining's auc: 0.740142\tvalid_1's auc: 0.724264\n",
      "[1000]\ttraining's auc: 0.760505\tvalid_1's auc: 0.737145\n",
      "Did not meet early stopping. Best iteration is:\n",
      "[1000]\ttraining's auc: 0.760505\tvalid_1's auc: 0.737145\n"
     ]
    },
    {
     "name": "stderr",
     "output_type": "stream",
     "text": [
      "\u001b[32m[I 2022-12-03 02:03:42,032]\u001b[0m Trial 166 finished with value: 0.7371448897728994 and parameters: {'bagging_fraction': 0.51, 'seed': 11, 'lr': 0.01, 'n_iter': 1000, 'max_depth': -1, 'patience': 40, 'feature_fraction': 0.65, 'num_leaves': 500}. Best is trial 22 with value: 0.7371448897728994.\u001b[0m\n"
     ]
    },
    {
     "name": "stdout",
     "output_type": "stream",
     "text": [
      "Training until validation scores don't improve for 25 rounds\n",
      "[500]\ttraining's auc: 0.740423\tvalid_1's auc: 0.722194\n",
      "[1000]\ttraining's auc: 0.761974\tvalid_1's auc: 0.73687\n",
      "Did not meet early stopping. Best iteration is:\n",
      "[1000]\ttraining's auc: 0.761974\tvalid_1's auc: 0.73687\n"
     ]
    },
    {
     "name": "stderr",
     "output_type": "stream",
     "text": [
      "\u001b[32m[I 2022-12-03 02:07:55,063]\u001b[0m Trial 167 finished with value: 0.7368704143839875 and parameters: {'bagging_fraction': 0.73, 'seed': 11, 'lr': 0.01, 'n_iter': 1000, 'max_depth': -1, 'patience': 25, 'feature_fraction': 0.69, 'num_leaves': 500}. Best is trial 22 with value: 0.7371448897728994.\u001b[0m\n"
     ]
    },
    {
     "name": "stdout",
     "output_type": "stream",
     "text": [
      "Training until validation scores don't improve for 25 rounds\n",
      "[500]\ttraining's auc: 0.737221\tvalid_1's auc: 0.721691\n",
      "[1000]\ttraining's auc: 0.75725\tvalid_1's auc: 0.735286\n",
      "Did not meet early stopping. Best iteration is:\n",
      "[1000]\ttraining's auc: 0.75725\tvalid_1's auc: 0.735286\n"
     ]
    },
    {
     "name": "stderr",
     "output_type": "stream",
     "text": [
      "\u001b[32m[I 2022-12-03 02:12:31,078]\u001b[0m Trial 168 finished with value: 0.7352860267410417 and parameters: {'bagging_fraction': 0.61, 'seed': 11, 'lr': 0.01, 'n_iter': 1000, 'max_depth': -1, 'patience': 25, 'feature_fraction': 0.59, 'num_leaves': 450}. Best is trial 22 with value: 0.7371448897728994.\u001b[0m\n"
     ]
    },
    {
     "name": "stdout",
     "output_type": "stream",
     "text": [
      "Training until validation scores don't improve for 40 rounds\n",
      "[500]\ttraining's auc: 0.740142\tvalid_1's auc: 0.724264\n",
      "[1000]\ttraining's auc: 0.760505\tvalid_1's auc: 0.737145\n",
      "Did not meet early stopping. Best iteration is:\n",
      "[1000]\ttraining's auc: 0.760505\tvalid_1's auc: 0.737145\n"
     ]
    },
    {
     "name": "stderr",
     "output_type": "stream",
     "text": [
      "\u001b[32m[I 2022-12-03 02:16:39,729]\u001b[0m Trial 169 finished with value: 0.7371448897728994 and parameters: {'bagging_fraction': 0.56, 'seed': 42, 'lr': 0.01, 'n_iter': 1000, 'max_depth': -1, 'patience': 40, 'feature_fraction': 0.63, 'num_leaves': 500}. Best is trial 22 with value: 0.7371448897728994.\u001b[0m\n"
     ]
    },
    {
     "name": "stdout",
     "output_type": "stream",
     "text": [
      "Training until validation scores don't improve for 40 rounds\n"
     ]
    },
    {
     "name": "stderr",
     "output_type": "stream",
     "text": [
      "\u001b[32m[I 2022-12-03 02:16:51,049]\u001b[0m Trial 170 finished with value: 0.6937194676900618 and parameters: {'bagging_fraction': 0.5700000000000001, 'seed': 42, 'lr': 0.0001, 'n_iter': 1000, 'max_depth': -1, 'patience': 40, 'feature_fraction': 0.63, 'num_leaves': 500}. Best is trial 22 with value: 0.7371448897728994.\u001b[0m\n"
     ]
    },
    {
     "name": "stdout",
     "output_type": "stream",
     "text": [
      "Early stopping, best iteration is:\n",
      "[9]\ttraining's auc: 0.703032\tvalid_1's auc: 0.693719\n",
      "Training until validation scores don't improve for 40 rounds\n",
      "[500]\ttraining's auc: 0.730792\tvalid_1's auc: 0.716725\n",
      "[1000]\ttraining's auc: 0.749646\tvalid_1's auc: 0.730853\n",
      "Did not meet early stopping. Best iteration is:\n",
      "[1000]\ttraining's auc: 0.749646\tvalid_1's auc: 0.730853\n"
     ]
    },
    {
     "name": "stderr",
     "output_type": "stream",
     "text": [
      "\u001b[32m[I 2022-12-03 02:20:47,717]\u001b[0m Trial 171 finished with value: 0.7308528799607119 and parameters: {'bagging_fraction': 0.54, 'seed': 42, 'lr': 0.01, 'n_iter': 1000, 'max_depth': -1, 'patience': 40, 'feature_fraction': 0.63, 'num_leaves': 350}. Best is trial 22 with value: 0.7371448897728994.\u001b[0m\n"
     ]
    },
    {
     "name": "stdout",
     "output_type": "stream",
     "text": [
      "Training until validation scores don't improve for 40 rounds\n",
      "[500]\ttraining's auc: 0.740142\tvalid_1's auc: 0.724264\n",
      "[1000]\ttraining's auc: 0.760505\tvalid_1's auc: 0.737145\n",
      "Did not meet early stopping. Best iteration is:\n",
      "[1000]\ttraining's auc: 0.760505\tvalid_1's auc: 0.737145\n"
     ]
    },
    {
     "name": "stderr",
     "output_type": "stream",
     "text": [
      "\u001b[32m[I 2022-12-03 02:24:55,034]\u001b[0m Trial 172 finished with value: 0.7371448897728994 and parameters: {'bagging_fraction': 0.56, 'seed': 11, 'lr': 0.01, 'n_iter': 1000, 'max_depth': -1, 'patience': 40, 'feature_fraction': 0.64, 'num_leaves': 500}. Best is trial 22 with value: 0.7371448897728994.\u001b[0m\n"
     ]
    },
    {
     "name": "stdout",
     "output_type": "stream",
     "text": [
      "Training until validation scores don't improve for 25 rounds\n",
      "[500]\ttraining's auc: 0.740142\tvalid_1's auc: 0.724264\n",
      "[1000]\ttraining's auc: 0.760505\tvalid_1's auc: 0.737145\n",
      "Did not meet early stopping. Best iteration is:\n",
      "[1000]\ttraining's auc: 0.760505\tvalid_1's auc: 0.737145\n"
     ]
    },
    {
     "name": "stderr",
     "output_type": "stream",
     "text": [
      "\u001b[32m[I 2022-12-03 02:29:04,170]\u001b[0m Trial 173 finished with value: 0.7371448897728994 and parameters: {'bagging_fraction': 0.66, 'seed': 11, 'lr': 0.01, 'n_iter': 1000, 'max_depth': -1, 'patience': 25, 'feature_fraction': 0.67, 'num_leaves': 500}. Best is trial 22 with value: 0.7371448897728994.\u001b[0m\n"
     ]
    },
    {
     "name": "stdout",
     "output_type": "stream",
     "text": [
      "Training until validation scores don't improve for 25 rounds\n",
      "[500]\ttraining's auc: 0.740142\tvalid_1's auc: 0.724264\n",
      "[1000]\ttraining's auc: 0.760505\tvalid_1's auc: 0.737145\n",
      "Did not meet early stopping. Best iteration is:\n",
      "[1000]\ttraining's auc: 0.760505\tvalid_1's auc: 0.737145\n"
     ]
    },
    {
     "name": "stderr",
     "output_type": "stream",
     "text": [
      "\u001b[32m[I 2022-12-03 02:33:33,225]\u001b[0m Trial 174 finished with value: 0.7371448897728994 and parameters: {'bagging_fraction': 0.6, 'seed': 11, 'lr': 0.01, 'n_iter': 1000, 'max_depth': -1, 'patience': 25, 'feature_fraction': 0.66, 'num_leaves': 500}. Best is trial 22 with value: 0.7371448897728994.\u001b[0m\n"
     ]
    },
    {
     "name": "stdout",
     "output_type": "stream",
     "text": [
      "Training until validation scores don't improve for 40 rounds\n",
      "[500]\ttraining's auc: 0.740142\tvalid_1's auc: 0.724264\n",
      "[1000]\ttraining's auc: 0.760505\tvalid_1's auc: 0.737145\n",
      "Did not meet early stopping. Best iteration is:\n",
      "[1000]\ttraining's auc: 0.760505\tvalid_1's auc: 0.737145\n"
     ]
    },
    {
     "name": "stderr",
     "output_type": "stream",
     "text": [
      "\u001b[32m[I 2022-12-03 02:37:44,530]\u001b[0m Trial 175 finished with value: 0.7371448897728994 and parameters: {'bagging_fraction': 0.53, 'seed': 11, 'lr': 0.01, 'n_iter': 1000, 'max_depth': -1, 'patience': 40, 'feature_fraction': 0.63, 'num_leaves': 500}. Best is trial 22 with value: 0.7371448897728994.\u001b[0m\n"
     ]
    },
    {
     "name": "stdout",
     "output_type": "stream",
     "text": [
      "Training until validation scores don't improve for 25 rounds\n",
      "[500]\ttraining's auc: 0.740142\tvalid_1's auc: 0.724264\n",
      "[1000]\ttraining's auc: 0.760505\tvalid_1's auc: 0.737145\n",
      "Did not meet early stopping. Best iteration is:\n",
      "[1000]\ttraining's auc: 0.760505\tvalid_1's auc: 0.737145\n"
     ]
    },
    {
     "name": "stderr",
     "output_type": "stream",
     "text": [
      "\u001b[32m[I 2022-12-03 02:41:57,796]\u001b[0m Trial 176 finished with value: 0.7371448897728994 and parameters: {'bagging_fraction': 0.52, 'seed': 42, 'lr': 0.01, 'n_iter': 1000, 'max_depth': -1, 'patience': 25, 'feature_fraction': 0.5700000000000001, 'num_leaves': 500}. Best is trial 22 with value: 0.7371448897728994.\u001b[0m\n"
     ]
    },
    {
     "name": "stdout",
     "output_type": "stream",
     "text": [
      "Training until validation scores don't improve for 30 rounds\n",
      "[500]\ttraining's auc: 0.740142\tvalid_1's auc: 0.724264\n"
     ]
    },
    {
     "name": "stderr",
     "output_type": "stream",
     "text": [
      "\u001b[33m[W 2022-12-03 02:45:34,708]\u001b[0m Trial 177 failed because of the following error: KeyboardInterrupt()\u001b[0m\n",
      "Traceback (most recent call last):\n",
      "  File \"/opt/conda/envs/lgbm/lib/python3.10/site-packages/optuna/study/_optimize.py\", line 196, in _run_trial\n",
      "    value_or_values = func(trial)\n",
      "  File \"/tmp/ipykernel_26233/4044801079.py\", line 20, in objective\n",
      "    model = lgb.train(\n",
      "  File \"/opt/conda/envs/lgbm/lib/python3.10/site-packages/lightgbm/engine.py\", line 298, in train\n",
      "    evaluation_result_list.extend(booster.eval_train(feval))\n",
      "  File \"/opt/conda/envs/lgbm/lib/python3.10/site-packages/lightgbm/basic.py\", line 3238, in eval_train\n",
      "    return self.__inner_eval(self._train_data_name, 0, feval)\n",
      "  File \"/opt/conda/envs/lgbm/lib/python3.10/site-packages/lightgbm/basic.py\", line 3789, in __inner_eval\n",
      "    _safe_call(_LIB.LGBM_BoosterGetEval(\n",
      "KeyboardInterrupt\n"
     ]
    },
    {
     "ename": "KeyboardInterrupt",
     "evalue": "",
     "output_type": "error",
     "traceback": [
      "\u001b[0;31m---------------------------------------------------------------------------\u001b[0m",
      "\u001b[0;31mKeyboardInterrupt\u001b[0m                         Traceback (most recent call last)",
      "Cell \u001b[0;32mIn [22], line 41\u001b[0m\n\u001b[1;32m     35\u001b[0m sampler \u001b[39m=\u001b[39m TPESampler(seed\u001b[39m=\u001b[39m\u001b[39m42\u001b[39m)\n\u001b[1;32m     36\u001b[0m study \u001b[39m=\u001b[39m optuna\u001b[39m.\u001b[39mcreate_study(\n\u001b[1;32m     37\u001b[0m     study_name\u001b[39m=\u001b[39m\u001b[39m\"\u001b[39m\u001b[39mlgbm_parameter_opt\u001b[39m\u001b[39m\"\u001b[39m,\n\u001b[1;32m     38\u001b[0m     direction\u001b[39m=\u001b[39m\u001b[39m\"\u001b[39m\u001b[39mmaximize\u001b[39m\u001b[39m\"\u001b[39m,\n\u001b[1;32m     39\u001b[0m     sampler\u001b[39m=\u001b[39msampler,\n\u001b[1;32m     40\u001b[0m )\n\u001b[0;32m---> 41\u001b[0m study\u001b[39m.\u001b[39;49moptimize(objective, n_trials\u001b[39m=\u001b[39;49m\u001b[39m1500\u001b[39;49m)\n\u001b[1;32m     42\u001b[0m \u001b[39mprint\u001b[39m(\u001b[39m\"\u001b[39m\u001b[39mBest Score:\u001b[39m\u001b[39m\"\u001b[39m, study\u001b[39m.\u001b[39mbest_value)\n\u001b[1;32m     43\u001b[0m \u001b[39mprint\u001b[39m(\u001b[39m\"\u001b[39m\u001b[39mBest trial:\u001b[39m\u001b[39m\"\u001b[39m, study\u001b[39m.\u001b[39mbest_trial\u001b[39m.\u001b[39mparams)\n",
      "File \u001b[0;32m/opt/conda/envs/lgbm/lib/python3.10/site-packages/optuna/study/study.py:419\u001b[0m, in \u001b[0;36mStudy.optimize\u001b[0;34m(self, func, n_trials, timeout, n_jobs, catch, callbacks, gc_after_trial, show_progress_bar)\u001b[0m\n\u001b[1;32m    315\u001b[0m \u001b[39mdef\u001b[39;00m \u001b[39moptimize\u001b[39m(\n\u001b[1;32m    316\u001b[0m     \u001b[39mself\u001b[39m,\n\u001b[1;32m    317\u001b[0m     func: ObjectiveFuncType,\n\u001b[0;32m   (...)\u001b[0m\n\u001b[1;32m    324\u001b[0m     show_progress_bar: \u001b[39mbool\u001b[39m \u001b[39m=\u001b[39m \u001b[39mFalse\u001b[39;00m,\n\u001b[1;32m    325\u001b[0m ) \u001b[39m-\u001b[39m\u001b[39m>\u001b[39m \u001b[39mNone\u001b[39;00m:\n\u001b[1;32m    326\u001b[0m     \u001b[39m\"\"\"Optimize an objective function.\u001b[39;00m\n\u001b[1;32m    327\u001b[0m \n\u001b[1;32m    328\u001b[0m \u001b[39m    Optimization is done by choosing a suitable set of hyperparameter values from a given\u001b[39;00m\n\u001b[0;32m   (...)\u001b[0m\n\u001b[1;32m    416\u001b[0m \u001b[39m            If nested invocation of this method occurs.\u001b[39;00m\n\u001b[1;32m    417\u001b[0m \u001b[39m    \"\"\"\u001b[39;00m\n\u001b[0;32m--> 419\u001b[0m     _optimize(\n\u001b[1;32m    420\u001b[0m         study\u001b[39m=\u001b[39;49m\u001b[39mself\u001b[39;49m,\n\u001b[1;32m    421\u001b[0m         func\u001b[39m=\u001b[39;49mfunc,\n\u001b[1;32m    422\u001b[0m         n_trials\u001b[39m=\u001b[39;49mn_trials,\n\u001b[1;32m    423\u001b[0m         timeout\u001b[39m=\u001b[39;49mtimeout,\n\u001b[1;32m    424\u001b[0m         n_jobs\u001b[39m=\u001b[39;49mn_jobs,\n\u001b[1;32m    425\u001b[0m         catch\u001b[39m=\u001b[39;49mcatch,\n\u001b[1;32m    426\u001b[0m         callbacks\u001b[39m=\u001b[39;49mcallbacks,\n\u001b[1;32m    427\u001b[0m         gc_after_trial\u001b[39m=\u001b[39;49mgc_after_trial,\n\u001b[1;32m    428\u001b[0m         show_progress_bar\u001b[39m=\u001b[39;49mshow_progress_bar,\n\u001b[1;32m    429\u001b[0m     )\n",
      "File \u001b[0;32m/opt/conda/envs/lgbm/lib/python3.10/site-packages/optuna/study/_optimize.py:66\u001b[0m, in \u001b[0;36m_optimize\u001b[0;34m(study, func, n_trials, timeout, n_jobs, catch, callbacks, gc_after_trial, show_progress_bar)\u001b[0m\n\u001b[1;32m     64\u001b[0m \u001b[39mtry\u001b[39;00m:\n\u001b[1;32m     65\u001b[0m     \u001b[39mif\u001b[39;00m n_jobs \u001b[39m==\u001b[39m \u001b[39m1\u001b[39m:\n\u001b[0;32m---> 66\u001b[0m         _optimize_sequential(\n\u001b[1;32m     67\u001b[0m             study,\n\u001b[1;32m     68\u001b[0m             func,\n\u001b[1;32m     69\u001b[0m             n_trials,\n\u001b[1;32m     70\u001b[0m             timeout,\n\u001b[1;32m     71\u001b[0m             catch,\n\u001b[1;32m     72\u001b[0m             callbacks,\n\u001b[1;32m     73\u001b[0m             gc_after_trial,\n\u001b[1;32m     74\u001b[0m             reseed_sampler_rng\u001b[39m=\u001b[39;49m\u001b[39mFalse\u001b[39;49;00m,\n\u001b[1;32m     75\u001b[0m             time_start\u001b[39m=\u001b[39;49m\u001b[39mNone\u001b[39;49;00m,\n\u001b[1;32m     76\u001b[0m             progress_bar\u001b[39m=\u001b[39;49mprogress_bar,\n\u001b[1;32m     77\u001b[0m         )\n\u001b[1;32m     78\u001b[0m     \u001b[39melse\u001b[39;00m:\n\u001b[1;32m     79\u001b[0m         \u001b[39mif\u001b[39;00m n_jobs \u001b[39m==\u001b[39m \u001b[39m-\u001b[39m\u001b[39m1\u001b[39m:\n",
      "File \u001b[0;32m/opt/conda/envs/lgbm/lib/python3.10/site-packages/optuna/study/_optimize.py:160\u001b[0m, in \u001b[0;36m_optimize_sequential\u001b[0;34m(study, func, n_trials, timeout, catch, callbacks, gc_after_trial, reseed_sampler_rng, time_start, progress_bar)\u001b[0m\n\u001b[1;32m    157\u001b[0m         \u001b[39mbreak\u001b[39;00m\n\u001b[1;32m    159\u001b[0m \u001b[39mtry\u001b[39;00m:\n\u001b[0;32m--> 160\u001b[0m     frozen_trial \u001b[39m=\u001b[39m _run_trial(study, func, catch)\n\u001b[1;32m    161\u001b[0m \u001b[39mfinally\u001b[39;00m:\n\u001b[1;32m    162\u001b[0m     \u001b[39m# The following line mitigates memory problems that can be occurred in some\u001b[39;00m\n\u001b[1;32m    163\u001b[0m     \u001b[39m# environments (e.g., services that use computing containers such as CircleCI).\u001b[39;00m\n\u001b[1;32m    164\u001b[0m     \u001b[39m# Please refer to the following PR for further details:\u001b[39;00m\n\u001b[1;32m    165\u001b[0m     \u001b[39m# https://github.com/optuna/optuna/pull/325.\u001b[39;00m\n\u001b[1;32m    166\u001b[0m     \u001b[39mif\u001b[39;00m gc_after_trial:\n",
      "File \u001b[0;32m/opt/conda/envs/lgbm/lib/python3.10/site-packages/optuna/study/_optimize.py:234\u001b[0m, in \u001b[0;36m_run_trial\u001b[0;34m(study, func, catch)\u001b[0m\n\u001b[1;32m    227\u001b[0m         \u001b[39massert\u001b[39;00m \u001b[39mFalse\u001b[39;00m, \u001b[39m\"\u001b[39m\u001b[39mShould not reach.\u001b[39m\u001b[39m\"\u001b[39m\n\u001b[1;32m    229\u001b[0m \u001b[39mif\u001b[39;00m (\n\u001b[1;32m    230\u001b[0m     frozen_trial\u001b[39m.\u001b[39mstate \u001b[39m==\u001b[39m TrialState\u001b[39m.\u001b[39mFAIL\n\u001b[1;32m    231\u001b[0m     \u001b[39mand\u001b[39;00m func_err \u001b[39mis\u001b[39;00m \u001b[39mnot\u001b[39;00m \u001b[39mNone\u001b[39;00m\n\u001b[1;32m    232\u001b[0m     \u001b[39mand\u001b[39;00m \u001b[39mnot\u001b[39;00m \u001b[39misinstance\u001b[39m(func_err, catch)\n\u001b[1;32m    233\u001b[0m ):\n\u001b[0;32m--> 234\u001b[0m     \u001b[39mraise\u001b[39;00m func_err\n\u001b[1;32m    235\u001b[0m \u001b[39mreturn\u001b[39;00m frozen_trial\n",
      "File \u001b[0;32m/opt/conda/envs/lgbm/lib/python3.10/site-packages/optuna/study/_optimize.py:196\u001b[0m, in \u001b[0;36m_run_trial\u001b[0;34m(study, func, catch)\u001b[0m\n\u001b[1;32m    194\u001b[0m \u001b[39mwith\u001b[39;00m get_heartbeat_thread(trial\u001b[39m.\u001b[39m_trial_id, study\u001b[39m.\u001b[39m_storage):\n\u001b[1;32m    195\u001b[0m     \u001b[39mtry\u001b[39;00m:\n\u001b[0;32m--> 196\u001b[0m         value_or_values \u001b[39m=\u001b[39m func(trial)\n\u001b[1;32m    197\u001b[0m     \u001b[39mexcept\u001b[39;00m exceptions\u001b[39m.\u001b[39mTrialPruned \u001b[39mas\u001b[39;00m e:\n\u001b[1;32m    198\u001b[0m         \u001b[39m# TODO(mamu): Handle multi-objective cases.\u001b[39;00m\n\u001b[1;32m    199\u001b[0m         state \u001b[39m=\u001b[39m TrialState\u001b[39m.\u001b[39mPRUNED\n",
      "Cell \u001b[0;32mIn [22], line 20\u001b[0m, in \u001b[0;36mobjective\u001b[0;34m(trial)\u001b[0m\n\u001b[1;32m      1\u001b[0m \u001b[39mdef\u001b[39;00m \u001b[39mobjective\u001b[39m(trial: Trial):\n\u001b[1;32m      2\u001b[0m     params \u001b[39m=\u001b[39m {\n\u001b[1;32m      3\u001b[0m         \u001b[39m'\u001b[39m\u001b[39mobjective\u001b[39m\u001b[39m'\u001b[39m: \u001b[39m'\u001b[39m\u001b[39mbinary\u001b[39m\u001b[39m'\u001b[39m,\n\u001b[1;32m      4\u001b[0m         \u001b[39m'\u001b[39m\u001b[39mbagging_fraction\u001b[39m\u001b[39m'\u001b[39m: trial\u001b[39m.\u001b[39msuggest_float(\u001b[39m\"\u001b[39m\u001b[39mbagging_fraction\u001b[39m\u001b[39m\"\u001b[39m, \u001b[39m0.5\u001b[39m, \u001b[39m0.8\u001b[39m, step\u001b[39m=\u001b[39m\u001b[39m0.01\u001b[39m),\n\u001b[0;32m   (...)\u001b[0m\n\u001b[1;32m     18\u001b[0m         \u001b[39m\"\u001b[39m\u001b[39mverbosity\u001b[39m\u001b[39m\"\u001b[39m: \u001b[39m-\u001b[39m\u001b[39m1\u001b[39m,\n\u001b[1;32m     19\u001b[0m     }\n\u001b[0;32m---> 20\u001b[0m     model \u001b[39m=\u001b[39m lgb\u001b[39m.\u001b[39;49mtrain(\n\u001b[1;32m     21\u001b[0m         params,\n\u001b[1;32m     22\u001b[0m         lgb_train,\n\u001b[1;32m     23\u001b[0m         valid_sets\u001b[39m=\u001b[39;49m[lgb_train, lgb_valid],\n\u001b[1;32m     24\u001b[0m         verbose_eval\u001b[39m=\u001b[39;49m\u001b[39m500\u001b[39;49m,\n\u001b[1;32m     25\u001b[0m         num_boost_round\u001b[39m=\u001b[39;49m\u001b[39m500\u001b[39;49m,\n\u001b[1;32m     26\u001b[0m         early_stopping_rounds\u001b[39m=\u001b[39;49m\u001b[39m100\u001b[39;49m\n\u001b[1;32m     27\u001b[0m     )\n\u001b[1;32m     29\u001b[0m     preds \u001b[39m=\u001b[39m model\u001b[39m.\u001b[39mpredict(valid)\n\u001b[1;32m     30\u001b[0m     acc \u001b[39m=\u001b[39m accuracy_score(y_valid, np\u001b[39m.\u001b[39mwhere(preds \u001b[39m>\u001b[39m\u001b[39m=\u001b[39m \u001b[39m0.5\u001b[39m, \u001b[39m1\u001b[39m, \u001b[39m0\u001b[39m))\n",
      "File \u001b[0;32m/opt/conda/envs/lgbm/lib/python3.10/site-packages/lightgbm/engine.py:298\u001b[0m, in \u001b[0;36mtrain\u001b[0;34m(params, train_set, num_boost_round, valid_sets, valid_names, fobj, feval, init_model, feature_name, categorical_feature, early_stopping_rounds, evals_result, verbose_eval, learning_rates, keep_training_booster, callbacks)\u001b[0m\n\u001b[1;32m    296\u001b[0m \u001b[39mif\u001b[39;00m valid_sets \u001b[39mis\u001b[39;00m \u001b[39mnot\u001b[39;00m \u001b[39mNone\u001b[39;00m:\n\u001b[1;32m    297\u001b[0m     \u001b[39mif\u001b[39;00m is_valid_contain_train:\n\u001b[0;32m--> 298\u001b[0m         evaluation_result_list\u001b[39m.\u001b[39mextend(booster\u001b[39m.\u001b[39;49meval_train(feval))\n\u001b[1;32m    299\u001b[0m     evaluation_result_list\u001b[39m.\u001b[39mextend(booster\u001b[39m.\u001b[39meval_valid(feval))\n\u001b[1;32m    300\u001b[0m \u001b[39mtry\u001b[39;00m:\n",
      "File \u001b[0;32m/opt/conda/envs/lgbm/lib/python3.10/site-packages/lightgbm/basic.py:3238\u001b[0m, in \u001b[0;36mBooster.eval_train\u001b[0;34m(self, feval)\u001b[0m\n\u001b[1;32m   3207\u001b[0m \u001b[39mdef\u001b[39;00m \u001b[39meval_train\u001b[39m(\u001b[39mself\u001b[39m, feval\u001b[39m=\u001b[39m\u001b[39mNone\u001b[39;00m):\n\u001b[1;32m   3208\u001b[0m     \u001b[39m\"\"\"Evaluate for training data.\u001b[39;00m\n\u001b[1;32m   3209\u001b[0m \n\u001b[1;32m   3210\u001b[0m \u001b[39m    Parameters\u001b[39;00m\n\u001b[0;32m   (...)\u001b[0m\n\u001b[1;32m   3236\u001b[0m \u001b[39m        List with evaluation results.\u001b[39;00m\n\u001b[1;32m   3237\u001b[0m \u001b[39m    \"\"\"\u001b[39;00m\n\u001b[0;32m-> 3238\u001b[0m     \u001b[39mreturn\u001b[39;00m \u001b[39mself\u001b[39;49m\u001b[39m.\u001b[39;49m__inner_eval(\u001b[39mself\u001b[39;49m\u001b[39m.\u001b[39;49m_train_data_name, \u001b[39m0\u001b[39;49m, feval)\n",
      "File \u001b[0;32m/opt/conda/envs/lgbm/lib/python3.10/site-packages/lightgbm/basic.py:3789\u001b[0m, in \u001b[0;36mBooster.__inner_eval\u001b[0;34m(self, data_name, data_idx, feval)\u001b[0m\n\u001b[1;32m   3787\u001b[0m result \u001b[39m=\u001b[39m np\u001b[39m.\u001b[39mempty(\u001b[39mself\u001b[39m\u001b[39m.\u001b[39m__num_inner_eval, dtype\u001b[39m=\u001b[39mnp\u001b[39m.\u001b[39mfloat64)\n\u001b[1;32m   3788\u001b[0m tmp_out_len \u001b[39m=\u001b[39m ctypes\u001b[39m.\u001b[39mc_int(\u001b[39m0\u001b[39m)\n\u001b[0;32m-> 3789\u001b[0m _safe_call(_LIB\u001b[39m.\u001b[39;49mLGBM_BoosterGetEval(\n\u001b[1;32m   3790\u001b[0m     \u001b[39mself\u001b[39;49m\u001b[39m.\u001b[39;49mhandle,\n\u001b[1;32m   3791\u001b[0m     ctypes\u001b[39m.\u001b[39;49mc_int(data_idx),\n\u001b[1;32m   3792\u001b[0m     ctypes\u001b[39m.\u001b[39;49mbyref(tmp_out_len),\n\u001b[1;32m   3793\u001b[0m     result\u001b[39m.\u001b[39;49mctypes\u001b[39m.\u001b[39;49mdata_as(ctypes\u001b[39m.\u001b[39;49mPOINTER(ctypes\u001b[39m.\u001b[39;49mc_double))))\n\u001b[1;32m   3794\u001b[0m \u001b[39mif\u001b[39;00m tmp_out_len\u001b[39m.\u001b[39mvalue \u001b[39m!=\u001b[39m \u001b[39mself\u001b[39m\u001b[39m.\u001b[39m__num_inner_eval:\n\u001b[1;32m   3795\u001b[0m     \u001b[39mraise\u001b[39;00m \u001b[39mValueError\u001b[39;00m(\u001b[39m\"\u001b[39m\u001b[39mWrong length of eval results\u001b[39m\u001b[39m\"\u001b[39m)\n",
      "\u001b[0;31mKeyboardInterrupt\u001b[0m: "
     ]
    }
   ],
   "source": [
    "def objective(trial: Trial):\n",
    "    params = {\n",
    "        \"objective\": \"binary\",\n",
    "        \"bagging_fraction\": trial.suggest_float(\n",
    "            \"bagging_fraction\", 0.5, 0.8, step=0.01\n",
    "        ),\n",
    "        \"bagging_seed\": trial.suggest_categorical(\"seed\", [11, 42]),  ##\n",
    "        \"learning_rate\": trial.suggest_categorical(\n",
    "            \"lr\", [0.0001, 0.0005, 0.001, 0.005, 0.01]\n",
    "        ),\n",
    "        \"num_iterations\": trial.suggest_int(\"n_iter\", 1000, 2000, 3000),\n",
    "        \"max_depth\": trial.suggest_categorical(\"max_depth\", [-1]),  # need to consider\n",
    "        \"boosting\": \"gbdt\",\n",
    "        \"early_stopping\": trial.suggest_int(\"patience\", 5, 40, 5),\n",
    "        \"feature_fraction\": trial.suggest_float(\n",
    "            \"feature_fraction\", 0.5, 0.8, step=0.01\n",
    "        ),\n",
    "        \"num_leaves\": trial.suggest_int(\"num_leaves\", 100, 500, 50),\n",
    "        \"min_child_weight\": 0.03454472573214212,\n",
    "        \"reg_alpha\": 0.3899927210061127,\n",
    "        \"reg_lambda\": 0.6485237330340494,\n",
    "        \"random_state\": 47,\n",
    "        \"metric\": \"auc\",\n",
    "        \"verbosity\": -1,\n",
    "    }\n",
    "    model = lgb.train(\n",
    "        params,\n",
    "        lgb_train,\n",
    "        valid_sets=[lgb_train, lgb_valid],\n",
    "        verbose_eval=500,\n",
    "        num_boost_round=500,\n",
    "        early_stopping_rounds=100,\n",
    "    )\n",
    "\n",
    "    preds = model.predict(valid)\n",
    "    acc = accuracy_score(y_valid, np.where(preds >= 0.5, 1, 0))\n",
    "    auc = roc_auc_score(y_valid, preds)\n",
    "\n",
    "    return auc\n",
    "\n",
    "\n",
    "if USE_VALID and IS_CUSTOM:\n",
    "    sampler = TPESampler(seed=42)\n",
    "    study = optuna.create_study(\n",
    "        study_name=\"lgbm_parameter_opt\",\n",
    "        direction=\"maximize\",\n",
    "        sampler=sampler,\n",
    "    )\n",
    "    study.optimize(objective, n_trials=1500)\n",
    "    print(\"Best Score:\", study.best_value)\n",
    "    print(\"Best trial:\", study.best_trial.params)"
   ]
  },
  {
   "cell_type": "code",
   "execution_count": null,
   "metadata": {},
   "outputs": [],
   "source": [
    "import pickle\n",
    "\n",
    "# save data\n",
    "with open(\"best_param.pickle\", \"wb\") as fw:\n",
    "    pickle.dump(study.best_trial.params, fw)"
   ]
  },
  {
   "cell_type": "code",
   "execution_count": null,
   "metadata": {},
   "outputs": [],
   "source": []
  }
 ],
 "metadata": {
  "colab": {
   "provenance": []
  },
  "kernelspec": {
   "display_name": "Python 3.10.8 ('lgbm')",
   "language": "python",
   "name": "python3"
  },
  "language_info": {
   "codemirror_mode": {
    "name": "ipython",
    "version": 3
   },
   "file_extension": ".py",
   "mimetype": "text/x-python",
   "name": "python",
   "nbconvert_exporter": "python",
   "pygments_lexer": "ipython3",
   "version": "3.10.8"
  },
  "toc": {
   "base_numbering": 1,
   "nav_menu": {},
   "number_sections": false,
   "sideBar": true,
   "skip_h1_title": false,
   "title_cell": "Table of Contents",
   "title_sidebar": "Contents",
   "toc_cell": false,
   "toc_position": {},
   "toc_section_display": true,
   "toc_window_display": true
  },
  "vscode": {
   "interpreter": {
    "hash": "04807071a00f9300ed95f120ffebd1294355433dc954c3167b4b6b21e7a5974a"
   }
  }
 },
 "nbformat": 4,
 "nbformat_minor": 0
}
